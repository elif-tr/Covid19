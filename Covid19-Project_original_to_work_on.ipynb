{
 "cells": [
  {
   "cell_type": "markdown",
   "metadata": {},
   "source": [
    "## COVID19 related papers that published during the first week of May, 2020"
   ]
  },
  {
   "cell_type": "code",
   "execution_count": 1,
   "metadata": {},
   "outputs": [
    {
     "name": "stderr",
     "output_type": "stream",
     "text": [
      "[nltk_data] Downloading package punkt to /Users/elif/nltk_data...\n",
      "[nltk_data]   Package punkt is already up-to-date!\n"
     ]
    }
   ],
   "source": [
    "import pandas as pd\n",
    "import numpy as np\n",
    "import os\n",
    "import json\n",
    "import re\n",
    "import nltk\n",
    "nltk.download('punkt')\n",
    "from nltk.tokenize import sent_tokenize\n",
    "from nltk.tokenize import word_tokenize\n",
    "import parse_cord as cord"
   ]
  },
  {
   "cell_type": "code",
   "execution_count": 2,
   "metadata": {},
   "outputs": [],
   "source": [
    "import matplotlib.pyplot as plt\n",
    "from plotly.offline import download_plotlyjs, init_notebook_mode, plot, iplot\n",
    "import cufflinks as cf"
   ]
  },
  {
   "cell_type": "code",
   "execution_count": 3,
   "metadata": {},
   "outputs": [
    {
     "data": {
      "text/html": "        <script type=\"text/javascript\">\n        window.PlotlyConfig = {MathJaxConfig: 'local'};\n        if (window.MathJax) {MathJax.Hub.Config({SVG: {font: \"STIX-Web\"}});}\n        if (typeof require !== 'undefined') {\n        require.undef(\"plotly\");\n        requirejs.config({\n            paths: {\n                'plotly': ['https://cdn.plot.ly/plotly-latest.min']\n            }\n        });\n        require(['plotly'], function(Plotly) {\n            window._Plotly = Plotly;\n        });\n        }\n        </script>\n        "
     },
     "metadata": {},
     "output_type": "display_data"
    },
    {
     "data": {
      "text/html": "        <script type=\"text/javascript\">\n        window.PlotlyConfig = {MathJaxConfig: 'local'};\n        if (window.MathJax) {MathJax.Hub.Config({SVG: {font: \"STIX-Web\"}});}\n        if (typeof require !== 'undefined') {\n        require.undef(\"plotly\");\n        requirejs.config({\n            paths: {\n                'plotly': ['https://cdn.plot.ly/plotly-latest.min']\n            }\n        });\n        require(['plotly'], function(Plotly) {\n            window._Plotly = Plotly;\n        });\n        }\n        </script>\n        "
     },
     "metadata": {},
     "output_type": "display_data"
    }
   ],
   "source": [
    "# For Notebooks\n",
    "init_notebook_mode(connected=True)\n",
    "\n",
    "# For offline use\n",
    "cf.go_offline()"
   ]
  },
  {
   "cell_type": "markdown",
   "metadata": {},
   "source": [
    "### Define a global variable for the folder name that contains the json files of the papers"
   ]
  },
  {
   "cell_type": "code",
   "execution_count": 4,
   "metadata": {},
   "outputs": [],
   "source": [
    "DATA_DIR = 'data/archive'"
   ]
  },
  {
   "cell_type": "markdown",
   "metadata": {},
   "source": [
    "Call the module to read in the data"
   ]
  },
  {
   "cell_type": "code",
   "execution_count": 5,
   "outputs": [],
   "source": [
    "# New version from module\n",
    "data_frame = cord.read_json_files(cord.json_files(DATA_DIR), DATA_DIR)\n",
    "\n"
   ],
   "metadata": {
    "collapsed": false,
    "pycharm": {
     "name": "#%%\n"
    }
   }
  },
  {
   "cell_type": "markdown",
   "metadata": {},
   "source": [
    "### Extracting sentences that contain symptoms"
   ]
  },
  {
   "cell_type": "markdown",
   "metadata": {},
   "source": [
    "Defining the symptoms that we will extract from our sentences. The list was taken from: https://www.kaggle.com/davidbetancur8/symptoms-word-cloud\n",
    "\n",
    "The list was modified by Max to have more up to date symptoms and I added in the following symptoms which were taken from CDC's website or I observed them frequintly in the papers:\n",
    "\n",
    "    -\"difficulty breathing\"\n",
    "    -\"muscle ache\"\n",
    "    -\"congestion\"\n",
    "    -\"runny nose\"\n",
    "    -\"trouble breathing\"\n",
    "    -\"persistent pain\"\n",
    "    -\"pressure in the chest\"\n",
    "    -\"inability to wake\"\n",
    "    -\"stay awake\"\n",
    "    -\"bluish lips\"\n",
    "    -\"bluish face\"\n",
    "    -\"fevers\"\n",
    "    -\"decreased appetite\""
   ]
  },
  {
   "cell_type": "code",
   "execution_count": 6,
   "metadata": {},
   "outputs": [],
   "source": [
    "symptoms = [\n",
    "    \"weight loss\",\"chills\",\"shivering\",\"convulsions\",\"deformity\",\"discharge\",\"dizziness\", \"lymphopenia\", \"sneezing\",\n",
    "    \"vertigo\",\"fatigue\",\"malaise\",\"asthenia\",\"hypothermia\",\"jaundice\",\"muscle weakness\", \"chest discomfort\",\n",
    "    \"pyrexia\",\"sweats\",\"swelling\",\"swollen\",\"painful lymph node\",\"weight gain\",\"arrhythmia\", \"loss of smell\", \n",
    "    \"loss of appetite\", \"loss of taste\", \"bradycardia\",\"chest pain\",\"claudication\",\"palpitations\",\"tachycardia\",\n",
    "    \"dry mouth\",\"epistaxis\", \"dysgeusia\", \"hypersomnia\", \"taste loss\", \"halitosis\",\"hearing loss\",\"nasal discharge\", \n",
    "    \"nasal inflammation\", \"otalgia\",\"otorrhea\",\"sore throat\",\"toothache\",\"tinnitus\", \"dysphonia\",\n",
    "    \"trismus\",\"abdominal pain\",\"fever\",\"bloating\",\"belching\",\"bleeding\",\"bloody stool\",\"melena\",\"hematochezia\", \n",
    "    \"burning sensation in the chest\", \"constipation\",\"diarrhea\",\"dysphagia\",\"dyspepsia\",\"fecal incontinence\",\n",
    "    \"flatulence\", \"heartburn\", \"chest tightness\", \"chest pressure\",\"nausea\",\"odynophagia\",\"proctalgia fugax\",\n",
    "    \"pyrosis\",\"steatorrhea\",\"vomiting\",\"alopecia\",\"hirsutism\", \"tachypnoea\", \"nasal obstruction\",\n",
    "    \"hypertrichosis\",\"abrasion\",\"anasarca\",\"bleeding into skin\",\"petechia\",\"purpura\",\"ecchymosis\", \"bruising\", \n",
    "    \"blister\",\"edema\",\"itching\",\"laceration\",\"rash\",\"urticaria\",\"abnormal posturing\",\"acalculia\",\"agnosia\",\"alexia\",\n",
    "    \"amnesia\",\"anomia\",\"anosognosia\",\"aphasia\",\"apraxia\",\"ataxia\",\"cataplexy\",\"confusion\",\"dysarthria\", \n",
    "    \"nasal congestion\",\"dysdiadochokinesia\",\"dysgraphia\",\"hallucination\",\"headache\",\"akinesia\",\"bradykinesia\",\n",
    "    \"ballismus\",\"blepharospasm\",\"chorea\",\"dystonia\",\"fasciculation\",\"muscle cramps\",\"myoclonus\",\"opsoclonus\",\n",
    "    \"tremor\",\"flapping tremor\",\"insomnia\",\"loss of consciousness\",\"syncope\",\"neck stiffness\",\"opisthotonus\",\n",
    "    \"paralysis\",\"paresis\",\"paresthesia\",\"prosopagnosia\",\"somnolence\",\"abnormal vaginal bleeding\", \"neuralgia\",\n",
    "    \"vaginal bleeding in early pregnancy\", \"miscarriage\",\"vaginal bleeding in late pregnancy\",\"amenorrhea\", \"body aches\",\n",
    "    \"infertility\",\"painful intercourse\",\"pelvic pain\",\"vaginal discharge\",\"amaurosis fugax\",\"amaurosis\", \"skin lesions\",\n",
    "    \"blurred vision\",\"double vision\",\"exophthalmos\",\"mydriasis\",\"miosis\",\"nystagmus\",\"amusia\",\"anhedonia\",\n",
    "    \"anxiety\",\"apathy\",\"confabulation\",\"depression\",\"delusion\",\"euphoria\",\"homicidal ideation\",\"irritability\",\n",
    "    \"mania\",\"paranoid ideation\",\"suicidal ideation\",\"apnea\",\"hypopnea\",\"cough\",\"dyspnea\",\"bradypnea\",\"tachypnea\",\n",
    "    \"orthopnea\",\"platypnea\",\"trepopnea\",\"hemoptysis\",\"pleuritic chest pain\",\"sputum production\",\"arthralgia\",\n",
    "    \"back pain\",\"sciatica\",\"urologic\",\"dysuria\",\"hematospermia\",\"hematuria\",\"impotence\",\"polyuria\",\n",
    "    \"retrograde ejaculation\",\"strangury\",\"urethral discharge\",\"urinary frequency\",\"urinary incontinence\", \n",
    "    \"anosmia\", \"myalgia\", \"rhinorrhea\", \"shortness of breath\", \"difficulty breathing\", \"muscle ache\", \"congestion\",\n",
    "    \"runny nose\", \"trouble breathing\", \"persistent pain\", \"pressure in the chest\", \"inability to wake\", \"stay awake\",\n",
    "    \"bluish lips\", \"bluish face\",\"akathisia\",\"athetosis\", \"urinary retention\", \"fevers\", \n",
    "    \"decreased appetite\"]"
   ]
  },
  {
   "cell_type": "code",
   "execution_count": 7,
   "metadata": {},
   "outputs": [
    {
     "data": {
      "text/plain": "209"
     },
     "execution_count": 7,
     "metadata": {},
     "output_type": "execute_result"
    }
   ],
   "source": [
    "len(symptoms)"
   ]
  },
  {
   "cell_type": "markdown",
   "metadata": {},
   "source": [
    "## Check the papers that contain the words in  our list of symptoms and then extract those sentences only"
   ]
  },
  {
   "cell_type": "markdown",
   "metadata": {},
   "source": [
    "### 2. Encountered problem: Not being able to use the data frame with title column"
   ]
  },
  {
   "cell_type": "markdown",
   "metadata": {},
   "source": [
    "I had to create a seperate data frame without the title column to work on as it kept getting mixed with the full text when using nltk.tokenize. \n",
    "\n",
    "I spent quite long time on this figure out why it was happening therefore, decided to use the data frame with paper id and fulltext only.\n"
   ]
  },
  {
   "cell_type": "code",
   "execution_count": 8,
   "metadata": {},
   "outputs": [],
   "source": [
    "df_no_title = data_frame[['paper_id', 'full_text']]"
   ]
  },
  {
   "cell_type": "markdown",
   "metadata": {},
   "source": [
    "## nltk.tokenize\n",
    "\n",
    "     I used nltk.tokenize to split the full text into one sentence per row - Initial solutoin\n",
    "     - I changed the code to regular expression to split the sentences which seem to be performing better."
   ]
  },
  {
   "cell_type": "code",
   "execution_count": 13,
   "metadata": {},
   "outputs": [],
   "source": [
    "def split_sentences(df):\n",
    "    '''\n",
    "    Takes in a data frame where there are multiple sentences in one row and splits them into one row per sentence\n",
    "    \n",
    "    :param df: data frame that we would like to split\n",
    "    :return a data frame with one sentence per row and what paper that sentence belongs to\n",
    "    \n",
    "    '''\n",
    "    sentences = []\n",
    "    sentence_pattern = r'(?<=[^A-Z].[.?]) +(?=[A-Z])' #splittng criteria \n",
    "\n",
    "    for row in df.itertuples():            \n",
    "         for sentence in re.split(sentence_pattern, row[2]):\n",
    "                sentences.append((row[1], sentence))\n",
    "\n",
    "    new_df = pd.DataFrame(sentences, columns=['Paper_Id', 'Sentence'])\n",
    "    return new_df"
   ]
  },
  {
   "cell_type": "code",
   "execution_count": 14,
   "metadata": {},
   "outputs": [],
   "source": [
    "#Data frame that has one sentence per row \n",
    "new_df = split_sentences(df_no_title)"
   ]
  },
  {
   "cell_type": "code",
   "execution_count": 15,
   "metadata": {},
   "outputs": [
    {
     "data": {
      "text/html": [
       "<div>\n",
       "<style scoped>\n",
       "    .dataframe tbody tr th:only-of-type {\n",
       "        vertical-align: middle;\n",
       "    }\n",
       "\n",
       "    .dataframe tbody tr th {\n",
       "        vertical-align: top;\n",
       "    }\n",
       "\n",
       "    .dataframe thead th {\n",
       "        text-align: right;\n",
       "    }\n",
       "</style>\n",
       "<table border=\"1\" class=\"dataframe\">\n",
       "  <thead>\n",
       "    <tr style=\"text-align: right;\">\n",
       "      <th></th>\n",
       "      <th>Paper_Id</th>\n",
       "      <th>Sentence</th>\n",
       "    </tr>\n",
       "  </thead>\n",
       "  <tbody>\n",
       "    <tr>\n",
       "      <td>0</td>\n",
       "      <td>b72d2b2b61a0334faef085bdae3262394a1742d2</td>\n",
       "      <td>During a virtual news conference in Geneva, Sw...</td>\n",
       "    </tr>\n",
       "    <tr>\n",
       "      <td>1</td>\n",
       "      <td>b72d2b2b61a0334faef085bdae3262394a1742d2</td>\n",
       "      <td>Cantrell and 212 other mayors sounded the alar...</td>\n",
       "    </tr>\n",
       "    <tr>\n",
       "      <td>2</td>\n",
       "      <td>b72d2b2b61a0334faef085bdae3262394a1742d2</td>\n",
       "      <td>Some healthcare workers have resorted to searc...</td>\n",
       "    </tr>\n",
       "    <tr>\n",
       "      <td>3</td>\n",
       "      <td>b72d2b2b61a0334faef085bdae3262394a1742d2</td>\n",
       "      <td>From a warehouse in Baltimore, Maryland, owned...</td>\n",
       "    </tr>\n",
       "    <tr>\n",
       "      <td>4</td>\n",
       "      <td>b72d2b2b61a0334faef085bdae3262394a1742d2</td>\n",
       "      <td>What can be washed and reused?</td>\n",
       "    </tr>\n",
       "  </tbody>\n",
       "</table>\n",
       "</div>"
      ],
      "text/plain": [
       "                                   Paper_Id  \\\n",
       "0  b72d2b2b61a0334faef085bdae3262394a1742d2   \n",
       "1  b72d2b2b61a0334faef085bdae3262394a1742d2   \n",
       "2  b72d2b2b61a0334faef085bdae3262394a1742d2   \n",
       "3  b72d2b2b61a0334faef085bdae3262394a1742d2   \n",
       "4  b72d2b2b61a0334faef085bdae3262394a1742d2   \n",
       "\n",
       "                                            Sentence  \n",
       "0  During a virtual news conference in Geneva, Sw...  \n",
       "1  Cantrell and 212 other mayors sounded the alar...  \n",
       "2  Some healthcare workers have resorted to searc...  \n",
       "3  From a warehouse in Baltimore, Maryland, owned...  \n",
       "4                     What can be washed and reused?  "
      ]
     },
     "execution_count": 15,
     "metadata": {},
     "output_type": "execute_result"
    }
   ],
   "source": [
    "new_df.head()"
   ]
  },
  {
   "cell_type": "markdown",
   "metadata": {},
   "source": [
    "\n",
    "Added in the Sentence ID column to keep track of which sentences will be retrieved when we check for the symptoms in each sentence. Started the id values from 1 thus the increment of 1 on the existing data frame index."
   ]
  },
  {
   "cell_type": "code",
   "execution_count": 16,
   "metadata": {},
   "outputs": [],
   "source": [
    "new_df['Sentence_ID'] = new_df.index + 1"
   ]
  },
  {
   "cell_type": "markdown",
   "metadata": {},
   "source": [
    "### Final data frame that only includes sentences from each text that contains any of the symptoms from our list of symptoms"
   ]
  },
  {
   "cell_type": "code",
   "execution_count": 17,
   "metadata": {},
   "outputs": [],
   "source": [
    "def sentence_w_symptoms(df, sym):\n",
    "    '''\n",
    "    Takes in a data frame and list of symptoms, returns a new data frame with sentences that include any of the symptoms\n",
    "    \n",
    "    :param df: data frame with multiple senteces per row\n",
    "    :param sym: the symtoms that we would like to check in the data frame\n",
    "    :return data frame of sentences that include one or more of the symptoms \n",
    "    \n",
    "    '''\n",
    "    # match beginning of words and end of words for symptoms, not partial\n",
    "    pattern = '\\\\b' + '\\\\b|\\\\b'.join(sym) + '\\\\b'\n",
    "    final_df = df[df['Sentence'].str.contains(pattern, flags = re.IGNORECASE)].copy()\n",
    "    return final_df\n"
   ]
  },
  {
   "cell_type": "code",
   "execution_count": 9,
   "metadata": {},
   "outputs": [],
   "source": [
    "import split_text as sp\n",
    "\n",
    "final_df = sp.sentence_w_symptoms(sp.split_sentences(df_no_title), symptoms)"
   ]
  },
  {
   "cell_type": "code",
   "execution_count": 10,
   "metadata": {},
   "outputs": [
    {
     "data": {
      "text/plain": "96     Subjects who died in hospital were significant...\n202    We retrospectively analyzed medical charts of ...\n203    The patient first had 4-5 episodes of watery d...\n205    However, she returned to the ED the next day w...\n217    The patient reported an overall improvement in...\nName: Sentence, dtype: object"
     },
     "execution_count": 10,
     "metadata": {},
     "output_type": "execute_result"
    }
   ],
   "source": [
    "final_df['Sentence'].head()"
   ]
  },
  {
   "cell_type": "markdown",
   "metadata": {},
   "source": [
    "### Rearranged the display of the columns"
   ]
  },
  {
   "cell_type": "code",
   "execution_count": 20,
   "metadata": {},
   "outputs": [],
   "source": [
    "columnsTitles = ['Paper_Id', 'Sentence_ID', 'Sentence']\n",
    "\n",
    "covid_df = final_df.reindex(columns=columnsTitles)"
   ]
  },
  {
   "cell_type": "markdown",
   "metadata": {},
   "source": [
    "## Characteristics of data\n",
    "\n",
    "Create a program that will take a csv file and report:\n",
    " - number of sentences\n",
    " - number of sentences with terms\n",
    " - individual term counts (how many times each term appears\n",
    " - given a collection of symptom terms X in a csv file, for each term in X, its count in the collection, sorted in descending order"
   ]
  },
  {
   "cell_type": "markdown",
   "metadata": {},
   "source": [
    "## Function that produces total number of sentences, papers and the ones that include our symptoms "
   ]
  },
  {
   "cell_type": "code",
   "execution_count": 21,
   "metadata": {},
   "outputs": [],
   "source": [
    "def char_of_data(df):\n",
    "    '''\n",
    "    functiono produces data characteristics such as number of sentences in the data frame, how many of those have \n",
    "    any of the symptoms and how many times each smyptom accour in these sentences. \n",
    "    \n",
    "    :param df: data frame that includes the sentence and paper_id for our data\n",
    "    returns sorted in descending order of the symptoms and the summary \n",
    "    '''\n",
    "    print('Total number of papers published in the month of May', len(new_df['Paper_Id'].unique()))\n",
    "    print('Total number of sentences from the papers that are published in the given time frame is', len(new_df['Sentence']))\n",
    "    print('Total number of sentences in the final data frame with symptoms is', len(df['Sentence']))\n",
    "    print('Total number of unique papers in the final data frame is', len(df['Paper_Id'].unique()))\n"
   ]
  },
  {
   "cell_type": "code",
   "execution_count": 22,
   "metadata": {},
   "outputs": [
    {
     "name": "stdout",
     "output_type": "stream",
     "text": [
      "Total number of papers published in the month of May 12228\n",
      "Total number of sentences from the papers that are published in the given time frame is 917341\n",
      "Total number of sentences in the final data frame with symptoms is 27265\n",
      "Total number of unique papers in the final data frame is 5970\n"
     ]
    }
   ],
   "source": [
    "char_of_data(covid_df)"
   ]
  },
  {
   "cell_type": "markdown",
   "metadata": {},
   "source": [
    "## Function that produces the count of symptoms in the given data frame"
   ]
  },
  {
   "cell_type": "code",
   "execution_count": 23,
   "metadata": {},
   "outputs": [],
   "source": [
    "def symptoms_df(df_sym, symp = symptoms):\n",
    "    \n",
    "    df_test= df_sym.Sentence.str.extractall('({})'.format('|'.join(symp)), flags = re.IGNORECASE)\\\n",
    "                           .iloc[:, 0].str.get_dummies().sum(level=0)\n",
    "    sum_column = df_test.sum(axis=0)\n",
    "\n",
    "    df_symptom_count = pd.DataFrame({'Symptoms':sum_column.index, 'Counts':sum_column.values})\n",
    "    df_symptom_count['Symptoms'] = df_symptom_count['Symptoms'].str.lower()\n",
    "    sym_df = df_symptom_count.groupby('Symptoms').sum().sort_values(['Counts'],ascending=False)\n",
    "    return sym_df"
   ]
  },
  {
   "cell_type": "code",
   "execution_count": 24,
   "metadata": {
    "scrolled": true
   },
   "outputs": [],
   "source": [
    "sym_df = symptoms_df(covid_df)"
   ]
  },
  {
   "cell_type": "code",
   "execution_count": 25,
   "metadata": {
    "scrolled": true
   },
   "outputs": [
    {
     "data": {
      "text/html": [
       "<div>\n",
       "<style scoped>\n",
       "    .dataframe tbody tr th:only-of-type {\n",
       "        vertical-align: middle;\n",
       "    }\n",
       "\n",
       "    .dataframe tbody tr th {\n",
       "        vertical-align: top;\n",
       "    }\n",
       "\n",
       "    .dataframe thead th {\n",
       "        text-align: right;\n",
       "    }\n",
       "</style>\n",
       "<table border=\"1\" class=\"dataframe\">\n",
       "  <thead>\n",
       "    <tr style=\"text-align: right;\">\n",
       "      <th></th>\n",
       "      <th>Counts</th>\n",
       "    </tr>\n",
       "    <tr>\n",
       "      <th>Symptoms</th>\n",
       "      <th></th>\n",
       "    </tr>\n",
       "  </thead>\n",
       "  <tbody>\n",
       "    <tr>\n",
       "      <td>fever</td>\n",
       "      <td>7145</td>\n",
       "    </tr>\n",
       "    <tr>\n",
       "      <td>anxiety</td>\n",
       "      <td>5130</td>\n",
       "    </tr>\n",
       "    <tr>\n",
       "      <td>cough</td>\n",
       "      <td>4775</td>\n",
       "    </tr>\n",
       "    <tr>\n",
       "      <td>depression</td>\n",
       "      <td>2990</td>\n",
       "    </tr>\n",
       "    <tr>\n",
       "      <td>discharge</td>\n",
       "      <td>2601</td>\n",
       "    </tr>\n",
       "  </tbody>\n",
       "</table>\n",
       "</div>"
      ],
      "text/plain": [
       "            Counts\n",
       "Symptoms          \n",
       "fever         7145\n",
       "anxiety       5130\n",
       "cough         4775\n",
       "depression    2990\n",
       "discharge     2601"
      ]
     },
     "execution_count": 25,
     "metadata": {},
     "output_type": "execute_result"
    }
   ],
   "source": [
    "sym_df.head()"
   ]
  },
  {
   "cell_type": "markdown",
   "metadata": {},
   "source": [
    "### Visualization of symptom counts"
   ]
  },
  {
   "cell_type": "code",
   "execution_count": 26,
   "metadata": {},
   "outputs": [
    {
     "data": {
      "application/vnd.plotly.v1+json": {
       "config": {
        "linkText": "Export to plot.ly",
        "plotlyServerURL": "https://plot.ly",
        "showLink": true
       },
       "data": [
        {
         "line": {
          "color": "rgba(255, 153, 51, 1.0)",
          "dash": "solid",
          "shape": "linear",
          "width": 1.3
         },
         "marker": {
          "size": 10,
          "symbol": "circle"
         },
         "mode": "markers",
         "name": "Counts",
         "text": "",
         "type": "scatter",
         "x": [
          "fever",
          "anxiety",
          "cough",
          "depression",
          "discharge",
          "diarrhea",
          "fatigue",
          "dyspnea",
          "bleeding",
          "headache",
          "edema",
          "lymphopenia",
          "shortness of breath",
          "anosmia",
          "vomiting",
          "confusion",
          "nausea",
          "urologic",
          "myalgia",
          "sore throat",
          "rash",
          "sneezing",
          "abdominal pain",
          "arrhythmia",
          "congestion",
          "chest pain",
          "weight loss",
          "tachycardia",
          "insomnia",
          "dizziness",
          "swelling",
          "dysgeusia",
          "chills",
          "loss of smell",
          "urticaria",
          "malaise",
          "paralysis",
          "dysphagia",
          "rhinorrhea",
          "nasal congestion",
          "ataxia",
          "suicidal ideation",
          "skin lesions",
          "apnea",
          "weight gain",
          "loss of taste",
          "runny nose",
          "bradycardia",
          "nasal obstruction",
          "chest tightness",
          "sputum production",
          "tachypnea",
          "hemoptysis",
          "itching",
          "hearing loss",
          "hematuria",
          "asthenia",
          "syncope",
          "loss of appetite",
          "arthralgia",
          "miscarriage",
          "back pain",
          "difficulty breathing",
          "infertility",
          "irritability",
          "constipation",
          "tremor",
          "epistaxis",
          "paresis",
          "pyrexia",
          "jaundice",
          "alopecia",
          "muscle ache",
          "deformity",
          "palpitations",
          "swollen",
          "taste loss",
          "hypothermia",
          "purpura",
          "mania",
          "petechia",
          "nasal discharge",
          "muscle weakness",
          "convulsions",
          "body aches",
          "loss of consciousness",
          "laceration",
          "neuralgia",
          "tachypnoea",
          "tinnitus",
          "urinary retention",
          "paresthesia",
          "blister",
          "apathy",
          "decreased appetite",
          "aphasia",
          "hallucination",
          "myoclonus",
          "dysarthria",
          "delusion",
          "somnolence",
          "anhedonia",
          "abrasion",
          "shivering",
          "polyuria",
          "chest discomfort",
          "exophthalmos",
          "melena",
          "dysuria",
          "neck stiffness",
          "blurred vision",
          "sweats",
          "urinary frequency",
          "vertigo",
          "bloating",
          "urinary incontinence",
          "bruising",
          "pleuritic chest pain",
          "odynophagia",
          "sciatica",
          "dry mouth",
          "euphoria",
          "bradykinesia",
          "dyspepsia",
          "orthopnea",
          "dystonia",
          "impotence",
          "vaginal discharge",
          "nasal inflammation",
          "claudication",
          "flatulence",
          "persistent pain",
          "nystagmus",
          "toothache",
          "paranoid ideation",
          "mydriasis",
          "trismus",
          "chest pressure",
          "amnesia",
          "trouble breathing",
          "ecchymosis",
          "amenorrhea",
          "hypopnea",
          "bluish lips",
          "heartburn",
          "belching",
          "bloody stool",
          "pressure in the chest",
          "pelvic pain",
          "otalgia",
          "hirsutism",
          "hematochezia",
          "dysphonia",
          "muscle cramps",
          "akinesia",
          "stay awake",
          "miosis",
          "chorea",
          "fasciculation",
          "amaurosis",
          "bradypnea",
          "hypersomnia",
          "anasarca",
          "otorrhea",
          "blepharospasm",
          "double vision",
          "apraxia",
          "depressıon",
          "anomia",
          "urethral discharge",
          "akathisia",
          "inability to wake",
          "burning sensation in the chest",
          "steatorrhea",
          "amaurosis fugax",
          "retrograde ejaculation",
          "dysdiadochokinesia",
          "dysgraphia",
          "opisthotonus",
          "anosognosia",
          "halitosis",
          "platypnea"
         ],
         "y": [
          7145,
          5130,
          4775,
          2990,
          2601,
          1582,
          1393,
          1358,
          1207,
          1138,
          1092,
          1048,
          1026,
          945,
          909,
          787,
          733,
          727,
          721,
          651,
          585,
          501,
          490,
          457,
          440,
          409,
          398,
          325,
          294,
          245,
          238,
          222,
          222,
          214,
          207,
          200,
          185,
          175,
          174,
          158,
          154,
          153,
          151,
          144,
          143,
          142,
          129,
          127,
          122,
          115,
          114,
          113,
          107,
          105,
          95,
          93,
          92,
          90,
          84,
          84,
          84,
          77,
          75,
          74,
          74,
          72,
          70,
          70,
          69,
          66,
          66,
          62,
          61,
          60,
          59,
          56,
          56,
          55,
          55,
          49,
          48,
          48,
          48,
          47,
          43,
          37,
          37,
          36,
          35,
          33,
          32,
          30,
          30,
          30,
          30,
          28,
          28,
          27,
          27,
          27,
          27,
          26,
          26,
          26,
          24,
          22,
          22,
          22,
          21,
          19,
          18,
          16,
          16,
          16,
          15,
          15,
          15,
          15,
          13,
          13,
          13,
          12,
          11,
          11,
          10,
          10,
          10,
          9,
          8,
          8,
          8,
          8,
          7,
          7,
          7,
          7,
          6,
          6,
          6,
          6,
          6,
          5,
          5,
          5,
          5,
          5,
          5,
          4,
          4,
          4,
          4,
          4,
          4,
          4,
          4,
          3,
          3,
          3,
          3,
          3,
          3,
          2,
          2,
          2,
          2,
          2,
          2,
          2,
          2,
          1,
          1,
          1,
          1,
          1,
          1,
          1,
          1,
          1,
          1,
          1,
          1,
          1
         ]
        }
       ],
       "layout": {
        "legend": {
         "bgcolor": "#F5F6F9",
         "font": {
          "color": "#4D5663"
         }
        },
        "paper_bgcolor": "#F5F6F9",
        "plot_bgcolor": "#F5F6F9",
        "template": {
         "data": {
          "bar": [
           {
            "error_x": {
             "color": "#2a3f5f"
            },
            "error_y": {
             "color": "#2a3f5f"
            },
            "marker": {
             "line": {
              "color": "#E5ECF6",
              "width": 0.5
             }
            },
            "type": "bar"
           }
          ],
          "barpolar": [
           {
            "marker": {
             "line": {
              "color": "#E5ECF6",
              "width": 0.5
             }
            },
            "type": "barpolar"
           }
          ],
          "carpet": [
           {
            "aaxis": {
             "endlinecolor": "#2a3f5f",
             "gridcolor": "white",
             "linecolor": "white",
             "minorgridcolor": "white",
             "startlinecolor": "#2a3f5f"
            },
            "baxis": {
             "endlinecolor": "#2a3f5f",
             "gridcolor": "white",
             "linecolor": "white",
             "minorgridcolor": "white",
             "startlinecolor": "#2a3f5f"
            },
            "type": "carpet"
           }
          ],
          "choropleth": [
           {
            "colorbar": {
             "outlinewidth": 0,
             "ticks": ""
            },
            "type": "choropleth"
           }
          ],
          "contour": [
           {
            "colorbar": {
             "outlinewidth": 0,
             "ticks": ""
            },
            "colorscale": [
             [
              0,
              "#0d0887"
             ],
             [
              0.1111111111111111,
              "#46039f"
             ],
             [
              0.2222222222222222,
              "#7201a8"
             ],
             [
              0.3333333333333333,
              "#9c179e"
             ],
             [
              0.4444444444444444,
              "#bd3786"
             ],
             [
              0.5555555555555556,
              "#d8576b"
             ],
             [
              0.6666666666666666,
              "#ed7953"
             ],
             [
              0.7777777777777778,
              "#fb9f3a"
             ],
             [
              0.8888888888888888,
              "#fdca26"
             ],
             [
              1,
              "#f0f921"
             ]
            ],
            "type": "contour"
           }
          ],
          "contourcarpet": [
           {
            "colorbar": {
             "outlinewidth": 0,
             "ticks": ""
            },
            "type": "contourcarpet"
           }
          ],
          "heatmap": [
           {
            "colorbar": {
             "outlinewidth": 0,
             "ticks": ""
            },
            "colorscale": [
             [
              0,
              "#0d0887"
             ],
             [
              0.1111111111111111,
              "#46039f"
             ],
             [
              0.2222222222222222,
              "#7201a8"
             ],
             [
              0.3333333333333333,
              "#9c179e"
             ],
             [
              0.4444444444444444,
              "#bd3786"
             ],
             [
              0.5555555555555556,
              "#d8576b"
             ],
             [
              0.6666666666666666,
              "#ed7953"
             ],
             [
              0.7777777777777778,
              "#fb9f3a"
             ],
             [
              0.8888888888888888,
              "#fdca26"
             ],
             [
              1,
              "#f0f921"
             ]
            ],
            "type": "heatmap"
           }
          ],
          "heatmapgl": [
           {
            "colorbar": {
             "outlinewidth": 0,
             "ticks": ""
            },
            "colorscale": [
             [
              0,
              "#0d0887"
             ],
             [
              0.1111111111111111,
              "#46039f"
             ],
             [
              0.2222222222222222,
              "#7201a8"
             ],
             [
              0.3333333333333333,
              "#9c179e"
             ],
             [
              0.4444444444444444,
              "#bd3786"
             ],
             [
              0.5555555555555556,
              "#d8576b"
             ],
             [
              0.6666666666666666,
              "#ed7953"
             ],
             [
              0.7777777777777778,
              "#fb9f3a"
             ],
             [
              0.8888888888888888,
              "#fdca26"
             ],
             [
              1,
              "#f0f921"
             ]
            ],
            "type": "heatmapgl"
           }
          ],
          "histogram": [
           {
            "marker": {
             "colorbar": {
              "outlinewidth": 0,
              "ticks": ""
             }
            },
            "type": "histogram"
           }
          ],
          "histogram2d": [
           {
            "colorbar": {
             "outlinewidth": 0,
             "ticks": ""
            },
            "colorscale": [
             [
              0,
              "#0d0887"
             ],
             [
              0.1111111111111111,
              "#46039f"
             ],
             [
              0.2222222222222222,
              "#7201a8"
             ],
             [
              0.3333333333333333,
              "#9c179e"
             ],
             [
              0.4444444444444444,
              "#bd3786"
             ],
             [
              0.5555555555555556,
              "#d8576b"
             ],
             [
              0.6666666666666666,
              "#ed7953"
             ],
             [
              0.7777777777777778,
              "#fb9f3a"
             ],
             [
              0.8888888888888888,
              "#fdca26"
             ],
             [
              1,
              "#f0f921"
             ]
            ],
            "type": "histogram2d"
           }
          ],
          "histogram2dcontour": [
           {
            "colorbar": {
             "outlinewidth": 0,
             "ticks": ""
            },
            "colorscale": [
             [
              0,
              "#0d0887"
             ],
             [
              0.1111111111111111,
              "#46039f"
             ],
             [
              0.2222222222222222,
              "#7201a8"
             ],
             [
              0.3333333333333333,
              "#9c179e"
             ],
             [
              0.4444444444444444,
              "#bd3786"
             ],
             [
              0.5555555555555556,
              "#d8576b"
             ],
             [
              0.6666666666666666,
              "#ed7953"
             ],
             [
              0.7777777777777778,
              "#fb9f3a"
             ],
             [
              0.8888888888888888,
              "#fdca26"
             ],
             [
              1,
              "#f0f921"
             ]
            ],
            "type": "histogram2dcontour"
           }
          ],
          "mesh3d": [
           {
            "colorbar": {
             "outlinewidth": 0,
             "ticks": ""
            },
            "type": "mesh3d"
           }
          ],
          "parcoords": [
           {
            "line": {
             "colorbar": {
              "outlinewidth": 0,
              "ticks": ""
             }
            },
            "type": "parcoords"
           }
          ],
          "pie": [
           {
            "automargin": true,
            "type": "pie"
           }
          ],
          "scatter": [
           {
            "marker": {
             "colorbar": {
              "outlinewidth": 0,
              "ticks": ""
             }
            },
            "type": "scatter"
           }
          ],
          "scatter3d": [
           {
            "line": {
             "colorbar": {
              "outlinewidth": 0,
              "ticks": ""
             }
            },
            "marker": {
             "colorbar": {
              "outlinewidth": 0,
              "ticks": ""
             }
            },
            "type": "scatter3d"
           }
          ],
          "scattercarpet": [
           {
            "marker": {
             "colorbar": {
              "outlinewidth": 0,
              "ticks": ""
             }
            },
            "type": "scattercarpet"
           }
          ],
          "scattergeo": [
           {
            "marker": {
             "colorbar": {
              "outlinewidth": 0,
              "ticks": ""
             }
            },
            "type": "scattergeo"
           }
          ],
          "scattergl": [
           {
            "marker": {
             "colorbar": {
              "outlinewidth": 0,
              "ticks": ""
             }
            },
            "type": "scattergl"
           }
          ],
          "scattermapbox": [
           {
            "marker": {
             "colorbar": {
              "outlinewidth": 0,
              "ticks": ""
             }
            },
            "type": "scattermapbox"
           }
          ],
          "scatterpolar": [
           {
            "marker": {
             "colorbar": {
              "outlinewidth": 0,
              "ticks": ""
             }
            },
            "type": "scatterpolar"
           }
          ],
          "scatterpolargl": [
           {
            "marker": {
             "colorbar": {
              "outlinewidth": 0,
              "ticks": ""
             }
            },
            "type": "scatterpolargl"
           }
          ],
          "scatterternary": [
           {
            "marker": {
             "colorbar": {
              "outlinewidth": 0,
              "ticks": ""
             }
            },
            "type": "scatterternary"
           }
          ],
          "surface": [
           {
            "colorbar": {
             "outlinewidth": 0,
             "ticks": ""
            },
            "colorscale": [
             [
              0,
              "#0d0887"
             ],
             [
              0.1111111111111111,
              "#46039f"
             ],
             [
              0.2222222222222222,
              "#7201a8"
             ],
             [
              0.3333333333333333,
              "#9c179e"
             ],
             [
              0.4444444444444444,
              "#bd3786"
             ],
             [
              0.5555555555555556,
              "#d8576b"
             ],
             [
              0.6666666666666666,
              "#ed7953"
             ],
             [
              0.7777777777777778,
              "#fb9f3a"
             ],
             [
              0.8888888888888888,
              "#fdca26"
             ],
             [
              1,
              "#f0f921"
             ]
            ],
            "type": "surface"
           }
          ],
          "table": [
           {
            "cells": {
             "fill": {
              "color": "#EBF0F8"
             },
             "line": {
              "color": "white"
             }
            },
            "header": {
             "fill": {
              "color": "#C8D4E3"
             },
             "line": {
              "color": "white"
             }
            },
            "type": "table"
           }
          ]
         },
         "layout": {
          "annotationdefaults": {
           "arrowcolor": "#2a3f5f",
           "arrowhead": 0,
           "arrowwidth": 1
          },
          "coloraxis": {
           "colorbar": {
            "outlinewidth": 0,
            "ticks": ""
           }
          },
          "colorscale": {
           "diverging": [
            [
             0,
             "#8e0152"
            ],
            [
             0.1,
             "#c51b7d"
            ],
            [
             0.2,
             "#de77ae"
            ],
            [
             0.3,
             "#f1b6da"
            ],
            [
             0.4,
             "#fde0ef"
            ],
            [
             0.5,
             "#f7f7f7"
            ],
            [
             0.6,
             "#e6f5d0"
            ],
            [
             0.7,
             "#b8e186"
            ],
            [
             0.8,
             "#7fbc41"
            ],
            [
             0.9,
             "#4d9221"
            ],
            [
             1,
             "#276419"
            ]
           ],
           "sequential": [
            [
             0,
             "#0d0887"
            ],
            [
             0.1111111111111111,
             "#46039f"
            ],
            [
             0.2222222222222222,
             "#7201a8"
            ],
            [
             0.3333333333333333,
             "#9c179e"
            ],
            [
             0.4444444444444444,
             "#bd3786"
            ],
            [
             0.5555555555555556,
             "#d8576b"
            ],
            [
             0.6666666666666666,
             "#ed7953"
            ],
            [
             0.7777777777777778,
             "#fb9f3a"
            ],
            [
             0.8888888888888888,
             "#fdca26"
            ],
            [
             1,
             "#f0f921"
            ]
           ],
           "sequentialminus": [
            [
             0,
             "#0d0887"
            ],
            [
             0.1111111111111111,
             "#46039f"
            ],
            [
             0.2222222222222222,
             "#7201a8"
            ],
            [
             0.3333333333333333,
             "#9c179e"
            ],
            [
             0.4444444444444444,
             "#bd3786"
            ],
            [
             0.5555555555555556,
             "#d8576b"
            ],
            [
             0.6666666666666666,
             "#ed7953"
            ],
            [
             0.7777777777777778,
             "#fb9f3a"
            ],
            [
             0.8888888888888888,
             "#fdca26"
            ],
            [
             1,
             "#f0f921"
            ]
           ]
          },
          "colorway": [
           "#636efa",
           "#EF553B",
           "#00cc96",
           "#ab63fa",
           "#FFA15A",
           "#19d3f3",
           "#FF6692",
           "#B6E880",
           "#FF97FF",
           "#FECB52"
          ],
          "font": {
           "color": "#2a3f5f"
          },
          "geo": {
           "bgcolor": "white",
           "lakecolor": "white",
           "landcolor": "#E5ECF6",
           "showlakes": true,
           "showland": true,
           "subunitcolor": "white"
          },
          "hoverlabel": {
           "align": "left"
          },
          "hovermode": "closest",
          "mapbox": {
           "style": "light"
          },
          "paper_bgcolor": "white",
          "plot_bgcolor": "#E5ECF6",
          "polar": {
           "angularaxis": {
            "gridcolor": "white",
            "linecolor": "white",
            "ticks": ""
           },
           "bgcolor": "#E5ECF6",
           "radialaxis": {
            "gridcolor": "white",
            "linecolor": "white",
            "ticks": ""
           }
          },
          "scene": {
           "xaxis": {
            "backgroundcolor": "#E5ECF6",
            "gridcolor": "white",
            "gridwidth": 2,
            "linecolor": "white",
            "showbackground": true,
            "ticks": "",
            "zerolinecolor": "white"
           },
           "yaxis": {
            "backgroundcolor": "#E5ECF6",
            "gridcolor": "white",
            "gridwidth": 2,
            "linecolor": "white",
            "showbackground": true,
            "ticks": "",
            "zerolinecolor": "white"
           },
           "zaxis": {
            "backgroundcolor": "#E5ECF6",
            "gridcolor": "white",
            "gridwidth": 2,
            "linecolor": "white",
            "showbackground": true,
            "ticks": "",
            "zerolinecolor": "white"
           }
          },
          "shapedefaults": {
           "line": {
            "color": "#2a3f5f"
           }
          },
          "ternary": {
           "aaxis": {
            "gridcolor": "white",
            "linecolor": "white",
            "ticks": ""
           },
           "baxis": {
            "gridcolor": "white",
            "linecolor": "white",
            "ticks": ""
           },
           "bgcolor": "#E5ECF6",
           "caxis": {
            "gridcolor": "white",
            "linecolor": "white",
            "ticks": ""
           }
          },
          "title": {
           "x": 0.05
          },
          "xaxis": {
           "automargin": true,
           "gridcolor": "white",
           "linecolor": "white",
           "ticks": "",
           "title": {
            "standoff": 15
           },
           "zerolinecolor": "white",
           "zerolinewidth": 2
          },
          "yaxis": {
           "automargin": true,
           "gridcolor": "white",
           "linecolor": "white",
           "ticks": "",
           "title": {
            "standoff": 15
           },
           "zerolinecolor": "white",
           "zerolinewidth": 2
          }
         }
        },
        "title": {
         "font": {
          "color": "#4D5663"
         }
        },
        "xaxis": {
         "gridcolor": "#E1E5ED",
         "showgrid": true,
         "tickfont": {
          "color": "#4D5663"
         },
         "title": {
          "font": {
           "color": "#4D5663"
          },
          "text": ""
         },
         "zerolinecolor": "#E1E5ED"
        },
        "yaxis": {
         "gridcolor": "#E1E5ED",
         "showgrid": true,
         "tickfont": {
          "color": "#4D5663"
         },
         "title": {
          "font": {
           "color": "#4D5663"
          },
          "text": ""
         },
         "zerolinecolor": "#E1E5ED"
        }
       }
      },
      "text/html": [
       "<div>                            <div id=\"913b1dd9-175b-4561-a921-303fa4b86363\" class=\"plotly-graph-div\" style=\"height:525px; width:100%;\"></div>            <script type=\"text/javascript\">                require([\"plotly\"], function(Plotly) {                    window.PLOTLYENV=window.PLOTLYENV || {};\n",
       "                    window.PLOTLYENV.BASE_URL='https://plot.ly';                                    if (document.getElementById(\"913b1dd9-175b-4561-a921-303fa4b86363\")) {                    Plotly.newPlot(                        \"913b1dd9-175b-4561-a921-303fa4b86363\",                        [{\"line\": {\"color\": \"rgba(255, 153, 51, 1.0)\", \"dash\": \"solid\", \"shape\": \"linear\", \"width\": 1.3}, \"marker\": {\"size\": 10, \"symbol\": \"circle\"}, \"mode\": \"markers\", \"name\": \"Counts\", \"text\": \"\", \"type\": \"scatter\", \"x\": [\"fever\", \"anxiety\", \"cough\", \"depression\", \"discharge\", \"diarrhea\", \"fatigue\", \"dyspnea\", \"bleeding\", \"headache\", \"edema\", \"lymphopenia\", \"shortness of breath\", \"anosmia\", \"vomiting\", \"confusion\", \"nausea\", \"urologic\", \"myalgia\", \"sore throat\", \"rash\", \"sneezing\", \"abdominal pain\", \"arrhythmia\", \"congestion\", \"chest pain\", \"weight loss\", \"tachycardia\", \"insomnia\", \"dizziness\", \"swelling\", \"dysgeusia\", \"chills\", \"loss of smell\", \"urticaria\", \"malaise\", \"paralysis\", \"dysphagia\", \"rhinorrhea\", \"nasal congestion\", \"ataxia\", \"suicidal ideation\", \"skin lesions\", \"apnea\", \"weight gain\", \"loss of taste\", \"runny nose\", \"bradycardia\", \"nasal obstruction\", \"chest tightness\", \"sputum production\", \"tachypnea\", \"hemoptysis\", \"itching\", \"hearing loss\", \"hematuria\", \"asthenia\", \"syncope\", \"loss of appetite\", \"arthralgia\", \"miscarriage\", \"back pain\", \"difficulty breathing\", \"infertility\", \"irritability\", \"constipation\", \"tremor\", \"epistaxis\", \"paresis\", \"pyrexia\", \"jaundice\", \"alopecia\", \"muscle ache\", \"deformity\", \"palpitations\", \"swollen\", \"taste loss\", \"hypothermia\", \"purpura\", \"mania\", \"petechia\", \"nasal discharge\", \"muscle weakness\", \"convulsions\", \"body aches\", \"loss of consciousness\", \"laceration\", \"neuralgia\", \"tachypnoea\", \"tinnitus\", \"urinary retention\", \"paresthesia\", \"blister\", \"apathy\", \"decreased appetite\", \"aphasia\", \"hallucination\", \"myoclonus\", \"dysarthria\", \"delusion\", \"somnolence\", \"anhedonia\", \"abrasion\", \"shivering\", \"polyuria\", \"chest discomfort\", \"exophthalmos\", \"melena\", \"dysuria\", \"neck stiffness\", \"blurred vision\", \"sweats\", \"urinary frequency\", \"vertigo\", \"bloating\", \"urinary incontinence\", \"bruising\", \"pleuritic chest pain\", \"odynophagia\", \"sciatica\", \"dry mouth\", \"euphoria\", \"bradykinesia\", \"dyspepsia\", \"orthopnea\", \"dystonia\", \"impotence\", \"vaginal discharge\", \"nasal inflammation\", \"claudication\", \"flatulence\", \"persistent pain\", \"nystagmus\", \"toothache\", \"paranoid ideation\", \"mydriasis\", \"trismus\", \"chest pressure\", \"amnesia\", \"trouble breathing\", \"ecchymosis\", \"amenorrhea\", \"hypopnea\", \"bluish lips\", \"heartburn\", \"belching\", \"bloody stool\", \"pressure in the chest\", \"pelvic pain\", \"otalgia\", \"hirsutism\", \"hematochezia\", \"dysphonia\", \"muscle cramps\", \"akinesia\", \"stay awake\", \"miosis\", \"chorea\", \"fasciculation\", \"amaurosis\", \"bradypnea\", \"hypersomnia\", \"anasarca\", \"otorrhea\", \"blepharospasm\", \"double vision\", \"apraxia\", \"depress\\u0131on\", \"anomia\", \"urethral discharge\", \"akathisia\", \"inability to wake\", \"burning sensation in the chest\", \"steatorrhea\", \"amaurosis fugax\", \"retrograde ejaculation\", \"dysdiadochokinesia\", \"dysgraphia\", \"opisthotonus\", \"anosognosia\", \"halitosis\", \"platypnea\"], \"y\": [7145, 5130, 4775, 2990, 2601, 1582, 1393, 1358, 1207, 1138, 1092, 1048, 1026, 945, 909, 787, 733, 727, 721, 651, 585, 501, 490, 457, 440, 409, 398, 325, 294, 245, 238, 222, 222, 214, 207, 200, 185, 175, 174, 158, 154, 153, 151, 144, 143, 142, 129, 127, 122, 115, 114, 113, 107, 105, 95, 93, 92, 90, 84, 84, 84, 77, 75, 74, 74, 72, 70, 70, 69, 66, 66, 62, 61, 60, 59, 56, 56, 55, 55, 49, 48, 48, 48, 47, 43, 37, 37, 36, 35, 33, 32, 30, 30, 30, 30, 28, 28, 27, 27, 27, 27, 26, 26, 26, 24, 22, 22, 22, 21, 19, 18, 16, 16, 16, 15, 15, 15, 15, 13, 13, 13, 12, 11, 11, 10, 10, 10, 9, 8, 8, 8, 8, 7, 7, 7, 7, 6, 6, 6, 6, 6, 5, 5, 5, 5, 5, 5, 4, 4, 4, 4, 4, 4, 4, 4, 3, 3, 3, 3, 3, 3, 2, 2, 2, 2, 2, 2, 2, 2, 1, 1, 1, 1, 1, 1, 1, 1, 1, 1, 1, 1, 1]}],                        {\"legend\": {\"bgcolor\": \"#F5F6F9\", \"font\": {\"color\": \"#4D5663\"}}, \"paper_bgcolor\": \"#F5F6F9\", \"plot_bgcolor\": \"#F5F6F9\", \"template\": {\"data\": {\"bar\": [{\"error_x\": {\"color\": \"#2a3f5f\"}, \"error_y\": {\"color\": \"#2a3f5f\"}, \"marker\": {\"line\": {\"color\": \"#E5ECF6\", \"width\": 0.5}}, \"type\": \"bar\"}], \"barpolar\": [{\"marker\": {\"line\": {\"color\": \"#E5ECF6\", \"width\": 0.5}}, \"type\": \"barpolar\"}], \"carpet\": [{\"aaxis\": {\"endlinecolor\": \"#2a3f5f\", \"gridcolor\": \"white\", \"linecolor\": \"white\", \"minorgridcolor\": \"white\", \"startlinecolor\": \"#2a3f5f\"}, \"baxis\": {\"endlinecolor\": \"#2a3f5f\", \"gridcolor\": \"white\", \"linecolor\": \"white\", \"minorgridcolor\": \"white\", \"startlinecolor\": \"#2a3f5f\"}, \"type\": \"carpet\"}], \"choropleth\": [{\"colorbar\": {\"outlinewidth\": 0, \"ticks\": \"\"}, \"type\": \"choropleth\"}], \"contour\": [{\"colorbar\": {\"outlinewidth\": 0, \"ticks\": \"\"}, \"colorscale\": [[0.0, \"#0d0887\"], [0.1111111111111111, \"#46039f\"], [0.2222222222222222, \"#7201a8\"], [0.3333333333333333, \"#9c179e\"], [0.4444444444444444, \"#bd3786\"], [0.5555555555555556, \"#d8576b\"], [0.6666666666666666, \"#ed7953\"], [0.7777777777777778, \"#fb9f3a\"], [0.8888888888888888, \"#fdca26\"], [1.0, \"#f0f921\"]], \"type\": \"contour\"}], \"contourcarpet\": [{\"colorbar\": {\"outlinewidth\": 0, \"ticks\": \"\"}, \"type\": \"contourcarpet\"}], \"heatmap\": [{\"colorbar\": {\"outlinewidth\": 0, \"ticks\": \"\"}, \"colorscale\": [[0.0, \"#0d0887\"], [0.1111111111111111, \"#46039f\"], [0.2222222222222222, \"#7201a8\"], [0.3333333333333333, \"#9c179e\"], [0.4444444444444444, \"#bd3786\"], [0.5555555555555556, \"#d8576b\"], [0.6666666666666666, \"#ed7953\"], [0.7777777777777778, \"#fb9f3a\"], [0.8888888888888888, \"#fdca26\"], [1.0, \"#f0f921\"]], \"type\": \"heatmap\"}], \"heatmapgl\": [{\"colorbar\": {\"outlinewidth\": 0, \"ticks\": \"\"}, \"colorscale\": [[0.0, \"#0d0887\"], [0.1111111111111111, \"#46039f\"], [0.2222222222222222, \"#7201a8\"], [0.3333333333333333, \"#9c179e\"], [0.4444444444444444, \"#bd3786\"], [0.5555555555555556, \"#d8576b\"], [0.6666666666666666, \"#ed7953\"], [0.7777777777777778, \"#fb9f3a\"], [0.8888888888888888, \"#fdca26\"], [1.0, \"#f0f921\"]], \"type\": \"heatmapgl\"}], \"histogram\": [{\"marker\": {\"colorbar\": {\"outlinewidth\": 0, \"ticks\": \"\"}}, \"type\": \"histogram\"}], \"histogram2d\": [{\"colorbar\": {\"outlinewidth\": 0, \"ticks\": \"\"}, \"colorscale\": [[0.0, \"#0d0887\"], [0.1111111111111111, \"#46039f\"], [0.2222222222222222, \"#7201a8\"], [0.3333333333333333, \"#9c179e\"], [0.4444444444444444, \"#bd3786\"], [0.5555555555555556, \"#d8576b\"], [0.6666666666666666, \"#ed7953\"], [0.7777777777777778, \"#fb9f3a\"], [0.8888888888888888, \"#fdca26\"], [1.0, \"#f0f921\"]], \"type\": \"histogram2d\"}], \"histogram2dcontour\": [{\"colorbar\": {\"outlinewidth\": 0, \"ticks\": \"\"}, \"colorscale\": [[0.0, \"#0d0887\"], [0.1111111111111111, \"#46039f\"], [0.2222222222222222, \"#7201a8\"], [0.3333333333333333, \"#9c179e\"], [0.4444444444444444, \"#bd3786\"], [0.5555555555555556, \"#d8576b\"], [0.6666666666666666, \"#ed7953\"], [0.7777777777777778, \"#fb9f3a\"], [0.8888888888888888, \"#fdca26\"], [1.0, \"#f0f921\"]], \"type\": \"histogram2dcontour\"}], \"mesh3d\": [{\"colorbar\": {\"outlinewidth\": 0, \"ticks\": \"\"}, \"type\": \"mesh3d\"}], \"parcoords\": [{\"line\": {\"colorbar\": {\"outlinewidth\": 0, \"ticks\": \"\"}}, \"type\": \"parcoords\"}], \"pie\": [{\"automargin\": true, \"type\": \"pie\"}], \"scatter\": [{\"marker\": {\"colorbar\": {\"outlinewidth\": 0, \"ticks\": \"\"}}, \"type\": \"scatter\"}], \"scatter3d\": [{\"line\": {\"colorbar\": {\"outlinewidth\": 0, \"ticks\": \"\"}}, \"marker\": {\"colorbar\": {\"outlinewidth\": 0, \"ticks\": \"\"}}, \"type\": \"scatter3d\"}], \"scattercarpet\": [{\"marker\": {\"colorbar\": {\"outlinewidth\": 0, \"ticks\": \"\"}}, \"type\": \"scattercarpet\"}], \"scattergeo\": [{\"marker\": {\"colorbar\": {\"outlinewidth\": 0, \"ticks\": \"\"}}, \"type\": \"scattergeo\"}], \"scattergl\": [{\"marker\": {\"colorbar\": {\"outlinewidth\": 0, \"ticks\": \"\"}}, \"type\": \"scattergl\"}], \"scattermapbox\": [{\"marker\": {\"colorbar\": {\"outlinewidth\": 0, \"ticks\": \"\"}}, \"type\": \"scattermapbox\"}], \"scatterpolar\": [{\"marker\": {\"colorbar\": {\"outlinewidth\": 0, \"ticks\": \"\"}}, \"type\": \"scatterpolar\"}], \"scatterpolargl\": [{\"marker\": {\"colorbar\": {\"outlinewidth\": 0, \"ticks\": \"\"}}, \"type\": \"scatterpolargl\"}], \"scatterternary\": [{\"marker\": {\"colorbar\": {\"outlinewidth\": 0, \"ticks\": \"\"}}, \"type\": \"scatterternary\"}], \"surface\": [{\"colorbar\": {\"outlinewidth\": 0, \"ticks\": \"\"}, \"colorscale\": [[0.0, \"#0d0887\"], [0.1111111111111111, \"#46039f\"], [0.2222222222222222, \"#7201a8\"], [0.3333333333333333, \"#9c179e\"], [0.4444444444444444, \"#bd3786\"], [0.5555555555555556, \"#d8576b\"], [0.6666666666666666, \"#ed7953\"], [0.7777777777777778, \"#fb9f3a\"], [0.8888888888888888, \"#fdca26\"], [1.0, \"#f0f921\"]], \"type\": \"surface\"}], \"table\": [{\"cells\": {\"fill\": {\"color\": \"#EBF0F8\"}, \"line\": {\"color\": \"white\"}}, \"header\": {\"fill\": {\"color\": \"#C8D4E3\"}, \"line\": {\"color\": \"white\"}}, \"type\": \"table\"}]}, \"layout\": {\"annotationdefaults\": {\"arrowcolor\": \"#2a3f5f\", \"arrowhead\": 0, \"arrowwidth\": 1}, \"coloraxis\": {\"colorbar\": {\"outlinewidth\": 0, \"ticks\": \"\"}}, \"colorscale\": {\"diverging\": [[0, \"#8e0152\"], [0.1, \"#c51b7d\"], [0.2, \"#de77ae\"], [0.3, \"#f1b6da\"], [0.4, \"#fde0ef\"], [0.5, \"#f7f7f7\"], [0.6, \"#e6f5d0\"], [0.7, \"#b8e186\"], [0.8, \"#7fbc41\"], [0.9, \"#4d9221\"], [1, \"#276419\"]], \"sequential\": [[0.0, \"#0d0887\"], [0.1111111111111111, \"#46039f\"], [0.2222222222222222, \"#7201a8\"], [0.3333333333333333, \"#9c179e\"], [0.4444444444444444, \"#bd3786\"], [0.5555555555555556, \"#d8576b\"], [0.6666666666666666, \"#ed7953\"], [0.7777777777777778, \"#fb9f3a\"], [0.8888888888888888, \"#fdca26\"], [1.0, \"#f0f921\"]], \"sequentialminus\": [[0.0, \"#0d0887\"], [0.1111111111111111, \"#46039f\"], [0.2222222222222222, \"#7201a8\"], [0.3333333333333333, \"#9c179e\"], [0.4444444444444444, \"#bd3786\"], [0.5555555555555556, \"#d8576b\"], [0.6666666666666666, \"#ed7953\"], [0.7777777777777778, \"#fb9f3a\"], [0.8888888888888888, \"#fdca26\"], [1.0, \"#f0f921\"]]}, \"colorway\": [\"#636efa\", \"#EF553B\", \"#00cc96\", \"#ab63fa\", \"#FFA15A\", \"#19d3f3\", \"#FF6692\", \"#B6E880\", \"#FF97FF\", \"#FECB52\"], \"font\": {\"color\": \"#2a3f5f\"}, \"geo\": {\"bgcolor\": \"white\", \"lakecolor\": \"white\", \"landcolor\": \"#E5ECF6\", \"showlakes\": true, \"showland\": true, \"subunitcolor\": \"white\"}, \"hoverlabel\": {\"align\": \"left\"}, \"hovermode\": \"closest\", \"mapbox\": {\"style\": \"light\"}, \"paper_bgcolor\": \"white\", \"plot_bgcolor\": \"#E5ECF6\", \"polar\": {\"angularaxis\": {\"gridcolor\": \"white\", \"linecolor\": \"white\", \"ticks\": \"\"}, \"bgcolor\": \"#E5ECF6\", \"radialaxis\": {\"gridcolor\": \"white\", \"linecolor\": \"white\", \"ticks\": \"\"}}, \"scene\": {\"xaxis\": {\"backgroundcolor\": \"#E5ECF6\", \"gridcolor\": \"white\", \"gridwidth\": 2, \"linecolor\": \"white\", \"showbackground\": true, \"ticks\": \"\", \"zerolinecolor\": \"white\"}, \"yaxis\": {\"backgroundcolor\": \"#E5ECF6\", \"gridcolor\": \"white\", \"gridwidth\": 2, \"linecolor\": \"white\", \"showbackground\": true, \"ticks\": \"\", \"zerolinecolor\": \"white\"}, \"zaxis\": {\"backgroundcolor\": \"#E5ECF6\", \"gridcolor\": \"white\", \"gridwidth\": 2, \"linecolor\": \"white\", \"showbackground\": true, \"ticks\": \"\", \"zerolinecolor\": \"white\"}}, \"shapedefaults\": {\"line\": {\"color\": \"#2a3f5f\"}}, \"ternary\": {\"aaxis\": {\"gridcolor\": \"white\", \"linecolor\": \"white\", \"ticks\": \"\"}, \"baxis\": {\"gridcolor\": \"white\", \"linecolor\": \"white\", \"ticks\": \"\"}, \"bgcolor\": \"#E5ECF6\", \"caxis\": {\"gridcolor\": \"white\", \"linecolor\": \"white\", \"ticks\": \"\"}}, \"title\": {\"x\": 0.05}, \"xaxis\": {\"automargin\": true, \"gridcolor\": \"white\", \"linecolor\": \"white\", \"ticks\": \"\", \"title\": {\"standoff\": 15}, \"zerolinecolor\": \"white\", \"zerolinewidth\": 2}, \"yaxis\": {\"automargin\": true, \"gridcolor\": \"white\", \"linecolor\": \"white\", \"ticks\": \"\", \"title\": {\"standoff\": 15}, \"zerolinecolor\": \"white\", \"zerolinewidth\": 2}}}, \"title\": {\"font\": {\"color\": \"#4D5663\"}}, \"xaxis\": {\"gridcolor\": \"#E1E5ED\", \"showgrid\": true, \"tickfont\": {\"color\": \"#4D5663\"}, \"title\": {\"font\": {\"color\": \"#4D5663\"}, \"text\": \"\"}, \"zerolinecolor\": \"#E1E5ED\"}, \"yaxis\": {\"gridcolor\": \"#E1E5ED\", \"showgrid\": true, \"tickfont\": {\"color\": \"#4D5663\"}, \"title\": {\"font\": {\"color\": \"#4D5663\"}, \"text\": \"\"}, \"zerolinecolor\": \"#E1E5ED\"}},                        {\"showLink\": true, \"linkText\": \"Export to plot.ly\", \"plotlyServerURL\": \"https://plot.ly\", \"responsive\": true}                    ).then(function(){\n",
       "                            \n",
       "var gd = document.getElementById('913b1dd9-175b-4561-a921-303fa4b86363');\n",
       "var x = new MutationObserver(function (mutations, observer) {{\n",
       "        var display = window.getComputedStyle(gd).display;\n",
       "        if (!display || display === 'none') {{\n",
       "            console.log([gd, 'removed!']);\n",
       "            Plotly.purge(gd);\n",
       "            observer.disconnect();\n",
       "        }}\n",
       "}});\n",
       "\n",
       "// Listen for the removal of the full notebook cells\n",
       "var notebookContainer = gd.closest('#notebook-container');\n",
       "if (notebookContainer) {{\n",
       "    x.observe(notebookContainer, {childList: true});\n",
       "}}\n",
       "\n",
       "// Listen for the clearing of the current output cell\n",
       "var outputEl = gd.closest('.output');\n",
       "if (outputEl) {{\n",
       "    x.observe(outputEl, {childList: true});\n",
       "}}\n",
       "\n",
       "                        })                };                });            </script>        </div>"
      ]
     },
     "metadata": {},
     "output_type": "display_data"
    }
   ],
   "source": [
    "sym_df.iplot(kind='scatter',y='Counts',mode='markers',size=10)"
   ]
  },
  {
   "cell_type": "markdown",
   "metadata": {},
   "source": [
    "Coonver symptoms to dictionary with their counts"
   ]
  },
  {
   "cell_type": "code",
   "execution_count": 27,
   "metadata": {},
   "outputs": [
    {
     "data": {
      "text/plain": [
       "{'Counts': {'fever': 7145,\n",
       "  'anxiety': 5130,\n",
       "  'cough': 4775,\n",
       "  'depression': 2990,\n",
       "  'discharge': 2601,\n",
       "  'diarrhea': 1582,\n",
       "  'fatigue': 1393,\n",
       "  'dyspnea': 1358,\n",
       "  'bleeding': 1207,\n",
       "  'headache': 1138,\n",
       "  'edema': 1092,\n",
       "  'lymphopenia': 1048,\n",
       "  'shortness of breath': 1026,\n",
       "  'anosmia': 945,\n",
       "  'vomiting': 909,\n",
       "  'confusion': 787,\n",
       "  'nausea': 733,\n",
       "  'urologic': 727,\n",
       "  'myalgia': 721,\n",
       "  'sore throat': 651,\n",
       "  'rash': 585,\n",
       "  'sneezing': 501,\n",
       "  'abdominal pain': 490,\n",
       "  'arrhythmia': 457,\n",
       "  'congestion': 440,\n",
       "  'chest pain': 409,\n",
       "  'weight loss': 398,\n",
       "  'tachycardia': 325,\n",
       "  'insomnia': 294,\n",
       "  'dizziness': 245,\n",
       "  'swelling': 238,\n",
       "  'dysgeusia': 222,\n",
       "  'chills': 222,\n",
       "  'loss of smell': 214,\n",
       "  'urticaria': 207,\n",
       "  'malaise': 200,\n",
       "  'paralysis': 185,\n",
       "  'dysphagia': 175,\n",
       "  'rhinorrhea': 174,\n",
       "  'nasal congestion': 158,\n",
       "  'ataxia': 154,\n",
       "  'suicidal ideation': 153,\n",
       "  'skin lesions': 151,\n",
       "  'apnea': 144,\n",
       "  'weight gain': 143,\n",
       "  'loss of taste': 142,\n",
       "  'runny nose': 129,\n",
       "  'bradycardia': 127,\n",
       "  'nasal obstruction': 122,\n",
       "  'chest tightness': 115,\n",
       "  'sputum production': 114,\n",
       "  'tachypnea': 113,\n",
       "  'hemoptysis': 107,\n",
       "  'itching': 105,\n",
       "  'hearing loss': 95,\n",
       "  'hematuria': 93,\n",
       "  'asthenia': 92,\n",
       "  'syncope': 90,\n",
       "  'loss of appetite': 84,\n",
       "  'arthralgia': 84,\n",
       "  'miscarriage': 84,\n",
       "  'back pain': 77,\n",
       "  'difficulty breathing': 75,\n",
       "  'infertility': 74,\n",
       "  'irritability': 74,\n",
       "  'constipation': 72,\n",
       "  'tremor': 70,\n",
       "  'epistaxis': 70,\n",
       "  'paresis': 69,\n",
       "  'pyrexia': 66,\n",
       "  'jaundice': 66,\n",
       "  'alopecia': 62,\n",
       "  'muscle ache': 61,\n",
       "  'deformity': 60,\n",
       "  'palpitations': 59,\n",
       "  'swollen': 56,\n",
       "  'taste loss': 56,\n",
       "  'hypothermia': 55,\n",
       "  'purpura': 55,\n",
       "  'mania': 49,\n",
       "  'petechia': 48,\n",
       "  'nasal discharge': 48,\n",
       "  'muscle weakness': 48,\n",
       "  'convulsions': 47,\n",
       "  'body aches': 43,\n",
       "  'loss of consciousness': 37,\n",
       "  'laceration': 37,\n",
       "  'neuralgia': 36,\n",
       "  'tachypnoea': 35,\n",
       "  'tinnitus': 33,\n",
       "  'urinary retention': 32,\n",
       "  'paresthesia': 30,\n",
       "  'blister': 30,\n",
       "  'apathy': 30,\n",
       "  'decreased appetite': 30,\n",
       "  'aphasia': 28,\n",
       "  'hallucination': 28,\n",
       "  'myoclonus': 27,\n",
       "  'dysarthria': 27,\n",
       "  'delusion': 27,\n",
       "  'somnolence': 27,\n",
       "  'anhedonia': 26,\n",
       "  'abrasion': 26,\n",
       "  'shivering': 26,\n",
       "  'polyuria': 24,\n",
       "  'chest discomfort': 22,\n",
       "  'exophthalmos': 22,\n",
       "  'melena': 22,\n",
       "  'dysuria': 21,\n",
       "  'neck stiffness': 19,\n",
       "  'blurred vision': 18,\n",
       "  'sweats': 16,\n",
       "  'urinary frequency': 16,\n",
       "  'vertigo': 16,\n",
       "  'bloating': 15,\n",
       "  'urinary incontinence': 15,\n",
       "  'bruising': 15,\n",
       "  'pleuritic chest pain': 15,\n",
       "  'odynophagia': 13,\n",
       "  'sciatica': 13,\n",
       "  'dry mouth': 13,\n",
       "  'euphoria': 12,\n",
       "  'bradykinesia': 11,\n",
       "  'dyspepsia': 11,\n",
       "  'orthopnea': 10,\n",
       "  'dystonia': 10,\n",
       "  'impotence': 10,\n",
       "  'vaginal discharge': 9,\n",
       "  'nasal inflammation': 8,\n",
       "  'claudication': 8,\n",
       "  'flatulence': 8,\n",
       "  'persistent pain': 8,\n",
       "  'nystagmus': 7,\n",
       "  'toothache': 7,\n",
       "  'paranoid ideation': 7,\n",
       "  'mydriasis': 7,\n",
       "  'trismus': 6,\n",
       "  'chest pressure': 6,\n",
       "  'amnesia': 6,\n",
       "  'trouble breathing': 6,\n",
       "  'ecchymosis': 6,\n",
       "  'amenorrhea': 5,\n",
       "  'hypopnea': 5,\n",
       "  'bluish lips': 5,\n",
       "  'heartburn': 5,\n",
       "  'belching': 5,\n",
       "  'bloody stool': 5,\n",
       "  'pressure in the chest': 4,\n",
       "  'pelvic pain': 4,\n",
       "  'otalgia': 4,\n",
       "  'hirsutism': 4,\n",
       "  'hematochezia': 4,\n",
       "  'dysphonia': 4,\n",
       "  'muscle cramps': 4,\n",
       "  'akinesia': 4,\n",
       "  'stay awake': 3,\n",
       "  'miosis': 3,\n",
       "  'chorea': 3,\n",
       "  'fasciculation': 3,\n",
       "  'amaurosis': 3,\n",
       "  'bradypnea': 3,\n",
       "  'hypersomnia': 2,\n",
       "  'anasarca': 2,\n",
       "  'otorrhea': 2,\n",
       "  'blepharospasm': 2,\n",
       "  'double vision': 2,\n",
       "  'apraxia': 2,\n",
       "  'depressıon': 2,\n",
       "  'anomia': 2,\n",
       "  'urethral discharge': 1,\n",
       "  'akathisia': 1,\n",
       "  'inability to wake': 1,\n",
       "  'burning sensation in the chest': 1,\n",
       "  'steatorrhea': 1,\n",
       "  'amaurosis fugax': 1,\n",
       "  'retrograde ejaculation': 1,\n",
       "  'dysdiadochokinesia': 1,\n",
       "  'dysgraphia': 1,\n",
       "  'opisthotonus': 1,\n",
       "  'anosognosia': 1,\n",
       "  'halitosis': 1,\n",
       "  'platypnea': 1}}"
      ]
     },
     "execution_count": 27,
     "metadata": {},
     "output_type": "execute_result"
    }
   ],
   "source": [
    "sym_df.to_dict()"
   ]
  },
  {
   "cell_type": "markdown",
   "metadata": {},
   "source": [
    "### List of symptoms that appeared in the published papers that were extracted with our list of symptoms"
   ]
  },
  {
   "cell_type": "code",
   "execution_count": 28,
   "metadata": {},
   "outputs": [],
   "source": [
    "counted_symptoms = sym_df.index.to_list()"
   ]
  },
  {
   "cell_type": "code",
   "execution_count": 29,
   "metadata": {},
   "outputs": [],
   "source": [
    "# counted_symptoms.sort()\n",
    "# print(counted_symptoms)"
   ]
  },
  {
   "cell_type": "code",
   "execution_count": 30,
   "metadata": {},
   "outputs": [],
   "source": [
    "# symptoms.sort()\n",
    "# print(symptoms)"
   ]
  },
  {
   "cell_type": "markdown",
   "metadata": {},
   "source": [
    "### Extracting the symptoms that are present in our original list of symptoms but were not found in the papers"
   ]
  },
  {
   "cell_type": "code",
   "execution_count": 31,
   "metadata": {},
   "outputs": [
    {
     "data": {
      "text/plain": [
       "28"
      ]
     },
     "execution_count": 31,
     "metadata": {},
     "output_type": "execute_result"
    }
   ],
   "source": [
    "main_list = np.setdiff1d(symptoms,counted_symptoms)\n",
    "# yields the elements in `list_2` that are NOT in `list_1`\n",
    "len(main_list)"
   ]
  },
  {
   "cell_type": "markdown",
   "metadata": {},
   "source": [
    "It appears that that are 28 symptoms on our original symptoms list that do not occur in the papers"
   ]
  },
  {
   "cell_type": "code",
   "execution_count": 32,
   "metadata": {},
   "outputs": [],
   "source": [
    "df_test1= covid_df.Sentence.str.extractall('({})'.format('|'.join(main_list)), flags = re.IGNORECASE)\\\n",
    "                           .iloc[:, 0].str.get_dummies().sum(level=0)"
   ]
  },
  {
   "cell_type": "markdown",
   "metadata": {},
   "source": [
    "### 3. Encountered problem: 'fevers' symptom appears on the list of symptoms that does not occur in the papers. \n",
    "\n",
    "I am not able to find out why. It is clear that it does appear over 200 times"
   ]
  },
  {
   "cell_type": "code",
   "execution_count": 33,
   "metadata": {},
   "outputs": [
    {
     "name": "stdout",
     "output_type": "stream",
     "text": [
      "Fevers      4\n",
      "fevers    192\n",
      "dtype: int64\n"
     ]
    }
   ],
   "source": [
    "print(df_test1.sum(axis=0))"
   ]
  },
  {
   "cell_type": "code",
   "execution_count": 34,
   "metadata": {
    "scrolled": true
   },
   "outputs": [],
   "source": [
    "#verifies that those 27 symptoms do not appear in any of the papers except fevers symptom\n",
    "# for symptom in main_list:\n",
    "#      print(symptom, len(covid_df[covid_df.Sentence.str.contains(symptom) == True]))"
   ]
  },
  {
   "cell_type": "markdown",
   "metadata": {},
   "source": [
    "### Save the sentences in a csv file where there are 3 columns: paper ID, sentence ID, and sentence text to be our testing data.\n",
    "\n",
    "I did not save the indexes as it would create multiple index columns when we reread in the file."
   ]
  },
  {
   "cell_type": "code",
   "execution_count": 35,
   "metadata": {},
   "outputs": [],
   "source": [
    "covid_df.to_csv('/Users/elif/Desktop/covid_testing_data_May.csv', index = False, encoding= 'utf-8')"
   ]
  },
  {
   "cell_type": "markdown",
   "metadata": {},
   "source": [
    "###   Create another spreadsheet with three columns: sentence #, word, and tag. \n",
    "\n",
    "\n",
    "    Place one word in a row and label symptoms words in the tag column: \n",
    "    mark the beginning (B-Sym) and inside (I-Sym) of each symptom term. \n",
    "    If a term consists of only one word, simply mark it as B-Sym with no I-Sym.  \n",
    "    Label all other words as O. "
   ]
  },
  {
   "cell_type": "code",
   "execution_count": 36,
   "metadata": {},
   "outputs": [],
   "source": [
    "def repl(m):\n",
    "    '''\n",
    "    regular expression function that replaces symtoms with BSYM if .group(0) is one word\n",
    "    or BSYM + ISYM if multiple words - this function looks for spaces in the given words\n",
    "    \n",
    "    m.group(0) - firts match\n",
    "    '''\n",
    "    return ' '.join(['BSYM']+['ISYM']*(m.group(0).count(' ')))"
   ]
  },
  {
   "cell_type": "code",
   "execution_count": 39,
   "metadata": {},
   "outputs": [],
   "source": [
    "pattern = '\\\\b' + '\\\\b|\\\\b'.join(symptoms) + '\\\\b'\n",
    "covid_df['Token'] = covid_df['Sentence'].str.replace(pattern, repl, flags = re.IGNORECASE)"
   ]
  },
  {
   "cell_type": "markdown",
   "metadata": {},
   "source": [
    "Token column is the duplicate of the Sentence column. The only difference is that I replaced the existing symptoms in each sentence with BSYM or ISYM based on our regular expression function. \n",
    "\n",
    "re.IGNORECASE is used to ignore the words that are upper case and treat them all as lower case. This way, I was able to retain the original version of sentences without using .lower()."
   ]
  },
  {
   "cell_type": "code",
   "execution_count": 40,
   "metadata": {
    "scrolled": true
   },
   "outputs": [
    {
     "data": {
      "text/html": [
       "<div>\n",
       "<style scoped>\n",
       "    .dataframe tbody tr th:only-of-type {\n",
       "        vertical-align: middle;\n",
       "    }\n",
       "\n",
       "    .dataframe tbody tr th {\n",
       "        vertical-align: top;\n",
       "    }\n",
       "\n",
       "    .dataframe thead th {\n",
       "        text-align: right;\n",
       "    }\n",
       "</style>\n",
       "<table border=\"1\" class=\"dataframe\">\n",
       "  <thead>\n",
       "    <tr style=\"text-align: right;\">\n",
       "      <th></th>\n",
       "      <th>Paper_Id</th>\n",
       "      <th>Sentence_ID</th>\n",
       "      <th>Sentence</th>\n",
       "      <th>Token</th>\n",
       "    </tr>\n",
       "  </thead>\n",
       "  <tbody>\n",
       "    <tr>\n",
       "      <td>96</td>\n",
       "      <td>84d22b71f6df277a11824433ccf14137303f55f5</td>\n",
       "      <td>97</td>\n",
       "      <td>Subjects who died in hospital were significant...</td>\n",
       "      <td>Subjects who died in hospital were significant...</td>\n",
       "    </tr>\n",
       "    <tr>\n",
       "      <td>202</td>\n",
       "      <td>b382ff1b00757c3cb6a7408d8e993aa6d94d3e28</td>\n",
       "      <td>203</td>\n",
       "      <td>We retrospectively analyzed medical charts of ...</td>\n",
       "      <td>We retrospectively analyzed medical charts of ...</td>\n",
       "    </tr>\n",
       "    <tr>\n",
       "      <td>203</td>\n",
       "      <td>b382ff1b00757c3cb6a7408d8e993aa6d94d3e28</td>\n",
       "      <td>204</td>\n",
       "      <td>The patient first had 4-5 episodes of watery d...</td>\n",
       "      <td>The patient first had 4-5 episodes of watery B...</td>\n",
       "    </tr>\n",
       "    <tr>\n",
       "      <td>205</td>\n",
       "      <td>b382ff1b00757c3cb6a7408d8e993aa6d94d3e28</td>\n",
       "      <td>206</td>\n",
       "      <td>However, she returned to the ED the next day w...</td>\n",
       "      <td>However, she returned to the ED the next day w...</td>\n",
       "    </tr>\n",
       "    <tr>\n",
       "      <td>217</td>\n",
       "      <td>b382ff1b00757c3cb6a7408d8e993aa6d94d3e28</td>\n",
       "      <td>218</td>\n",
       "      <td>The patient reported an overall improvement in...</td>\n",
       "      <td>The patient reported an overall improvement in...</td>\n",
       "    </tr>\n",
       "  </tbody>\n",
       "</table>\n",
       "</div>"
      ],
      "text/plain": [
       "                                     Paper_Id  Sentence_ID  \\\n",
       "96   84d22b71f6df277a11824433ccf14137303f55f5           97   \n",
       "202  b382ff1b00757c3cb6a7408d8e993aa6d94d3e28          203   \n",
       "203  b382ff1b00757c3cb6a7408d8e993aa6d94d3e28          204   \n",
       "205  b382ff1b00757c3cb6a7408d8e993aa6d94d3e28          206   \n",
       "217  b382ff1b00757c3cb6a7408d8e993aa6d94d3e28          218   \n",
       "\n",
       "                                              Sentence  \\\n",
       "96   Subjects who died in hospital were significant...   \n",
       "202  We retrospectively analyzed medical charts of ...   \n",
       "203  The patient first had 4-5 episodes of watery d...   \n",
       "205  However, she returned to the ED the next day w...   \n",
       "217  The patient reported an overall improvement in...   \n",
       "\n",
       "                                                 Token  \n",
       "96   Subjects who died in hospital were significant...  \n",
       "202  We retrospectively analyzed medical charts of ...  \n",
       "203  The patient first had 4-5 episodes of watery B...  \n",
       "205  However, she returned to the ED the next day w...  \n",
       "217  The patient reported an overall improvement in...  "
      ]
     },
     "execution_count": 40,
     "metadata": {},
     "output_type": "execute_result"
    }
   ],
   "source": [
    "covid_df.head()"
   ]
  },
  {
   "cell_type": "markdown",
   "metadata": {},
   "source": [
    "Reset the index column to start from 0 and assigned the Sentece number to the Sentence_ID column "
   ]
  },
  {
   "cell_type": "code",
   "execution_count": 41,
   "metadata": {},
   "outputs": [],
   "source": [
    "covid_df.reset_index(drop=True, inplace=True)"
   ]
  },
  {
   "cell_type": "code",
   "execution_count": 42,
   "metadata": {},
   "outputs": [],
   "source": [
    "covid_df['Sentence_ID'] = ['Sentence #%s' %i for i in range(1, len(covid_df) + 1)]"
   ]
  },
  {
   "cell_type": "markdown",
   "metadata": {},
   "source": [
    "### Tokenize sentences\n",
    "\n",
    "In this part of the task, I tokenized words and tokens columns and then replaces the tokens\n",
    "with the actual display of B-SYM and I-SYM with the dashes added in the middle.\n",
    "\n",
    "Then, provided a dataframe with three columns only"
   ]
  },
  {
   "cell_type": "code",
   "execution_count": 43,
   "metadata": {},
   "outputs": [],
   "source": [
    "def tokenize_sentences(frame):\n",
    "    words = []\n",
    "    i = 0\n",
    "    for j, row in frame.iterrows():\n",
    "        for word, temptag in zip(word_tokenize(row['Sentence']), word_tokenize(row['Token'])):\n",
    "    #         print(word, temptag)\n",
    "            if temptag == 'BSYM':\n",
    "                tag = 'B-SYM'\n",
    "            elif temptag == 'ISYM':\n",
    "                tag = 'I-SYM'\n",
    "            else:\n",
    "                tag = 'O'\n",
    "            words.append((row['Sentence_ID'], word, tag))\n",
    "\n",
    "    tag_df = pd.DataFrame(words, columns=['Sentence_ID', 'Words', 'Tag'])\n",
    "    return tag_df"
   ]
  },
  {
   "cell_type": "code",
   "execution_count": 44,
   "metadata": {},
   "outputs": [],
   "source": [
    "tag_df = tokenize_sentences(covid_df)"
   ]
  },
  {
   "cell_type": "code",
   "execution_count": 45,
   "metadata": {
    "scrolled": true
   },
   "outputs": [],
   "source": [
    "# tag_df.head(25)"
   ]
  },
  {
   "cell_type": "markdown",
   "metadata": {},
   "source": [
    "Double ckecing the tag column to see if we were able to tag I-SYM symptom words"
   ]
  },
  {
   "cell_type": "code",
   "execution_count": 46,
   "metadata": {
    "scrolled": true
   },
   "outputs": [
    {
     "data": {
      "text/html": [
       "<div>\n",
       "<style scoped>\n",
       "    .dataframe tbody tr th:only-of-type {\n",
       "        vertical-align: middle;\n",
       "    }\n",
       "\n",
       "    .dataframe tbody tr th {\n",
       "        vertical-align: top;\n",
       "    }\n",
       "\n",
       "    .dataframe thead th {\n",
       "        text-align: right;\n",
       "    }\n",
       "</style>\n",
       "<table border=\"1\" class=\"dataframe\">\n",
       "  <thead>\n",
       "    <tr style=\"text-align: right;\">\n",
       "      <th></th>\n",
       "      <th>Sentence_ID</th>\n",
       "      <th>Words</th>\n",
       "      <th>Tag</th>\n",
       "    </tr>\n",
       "  </thead>\n",
       "  <tbody>\n",
       "    <tr>\n",
       "      <td>181</td>\n",
       "      <td>Sentence #3</td>\n",
       "      <td>pain</td>\n",
       "      <td>I-SYM</td>\n",
       "    </tr>\n",
       "    <tr>\n",
       "      <td>213</td>\n",
       "      <td>Sentence #4</td>\n",
       "      <td>pain</td>\n",
       "      <td>I-SYM</td>\n",
       "    </tr>\n",
       "    <tr>\n",
       "      <td>223</td>\n",
       "      <td>Sentence #4</td>\n",
       "      <td>appetite</td>\n",
       "      <td>I-SYM</td>\n",
       "    </tr>\n",
       "    <tr>\n",
       "      <td>271</td>\n",
       "      <td>Sentence #5</td>\n",
       "      <td>pain</td>\n",
       "      <td>I-SYM</td>\n",
       "    </tr>\n",
       "    <tr>\n",
       "      <td>285</td>\n",
       "      <td>Sentence #6</td>\n",
       "      <td>chest</td>\n",
       "      <td>I-SYM</td>\n",
       "    </tr>\n",
       "  </tbody>\n",
       "</table>\n",
       "</div>"
      ],
      "text/plain": [
       "     Sentence_ID     Words    Tag\n",
       "181  Sentence #3      pain  I-SYM\n",
       "213  Sentence #4      pain  I-SYM\n",
       "223  Sentence #4  appetite  I-SYM\n",
       "271  Sentence #5      pain  I-SYM\n",
       "285  Sentence #6     chest  I-SYM"
      ]
     },
     "execution_count": 46,
     "metadata": {},
     "output_type": "execute_result"
    }
   ],
   "source": [
    "tag_df[tag_df['Tag']== 'I-SYM'].head(5)"
   ]
  },
  {
   "cell_type": "markdown",
   "metadata": {},
   "source": [
    "#### This part of the code is for sanity checking on our sentences that contain multi word symtomps. \n",
    "\n",
    "    Firts extract only the symptoms with multi words\n",
    "    Then use our pattern to check which sentences have multi word symptoms presents\n",
    "    Export them to csv file, if needed"
   ]
  },
  {
   "cell_type": "code",
   "execution_count": 47,
   "metadata": {},
   "outputs": [],
   "source": [
    "# #Extract the list of multi symptom words\n",
    "# multi_word_symptoms = ([symptom for symptom in symptoms if len(symptom.split())>1])\n",
    "\n",
    "# #pattern to check for words that have space before and after \n",
    "# #this is to prevent our search from getting distracted by words like 'Statistics' when we are\n",
    "# #looking for 'tic' which is a problem that I encountered.\n",
    "# pattern_multi = '\\\\b' + '\\\\b|\\\\b'.join(multi_word_symptoms) + '\\\\b'\n",
    "\n",
    "# #Get the dataframe that contains multi words\n",
    "# covid_df[covid_df['Sentence'].str.contains(pattern_multi)]\n",
    "\n",
    "# #Export them to a csv file if needed\n",
    "# #multi_word_sentences.to_csv('/Users/elif/Desktop/multi_word_sentences.csv', index = False)"
   ]
  },
  {
   "cell_type": "markdown",
   "metadata": {},
   "source": [
    "###  Here the sentence # should be consecutive integers (similar to a surrogate key in a database table) and is not the same as sentence ID in the first spreadsheet.\n",
    "\n",
    "    Styling of sentence numbers ~ instead of duplicating the same number over and over again, we leave out the duplicated ones by replacing them with space"
   ]
  },
  {
   "cell_type": "code",
   "execution_count": 48,
   "metadata": {},
   "outputs": [],
   "source": [
    "#tag_df['Sentence_ID'] = tag_df['Sentence']"
   ]
  },
  {
   "cell_type": "code",
   "execution_count": 49,
   "metadata": {},
   "outputs": [],
   "source": [
    "def remove_duplicate_sentence_ids(df):\n",
    "    '''\n",
    "    Takes in the data frame where the same sentence numbers are repeated multiple times and returns a df\n",
    "    that repeats sentence number only once for the entire row of words that it has\n",
    "    \n",
    "    '''\n",
    "    is_duplicate = df['Sentence_ID'].duplicated()\n",
    "\n",
    "    df['Sentence_ID'] = df['Sentence_ID'].where(~is_duplicate, ' ')\n",
    "    tagged_data = df[['Sentence_ID', 'Words', 'Tag']]\n",
    "    return tagged_data"
   ]
  },
  {
   "cell_type": "code",
   "execution_count": 50,
   "metadata": {},
   "outputs": [],
   "source": [
    "tagged_data = remove_duplicate_sentence_ids(tag_df)"
   ]
  },
  {
   "cell_type": "code",
   "execution_count": 51,
   "metadata": {},
   "outputs": [
    {
     "data": {
      "text/html": [
       "<div>\n",
       "<style scoped>\n",
       "    .dataframe tbody tr th:only-of-type {\n",
       "        vertical-align: middle;\n",
       "    }\n",
       "\n",
       "    .dataframe tbody tr th {\n",
       "        vertical-align: top;\n",
       "    }\n",
       "\n",
       "    .dataframe thead th {\n",
       "        text-align: right;\n",
       "    }\n",
       "</style>\n",
       "<table border=\"1\" class=\"dataframe\">\n",
       "  <thead>\n",
       "    <tr style=\"text-align: right;\">\n",
       "      <th></th>\n",
       "      <th>Sentence_ID</th>\n",
       "      <th>Words</th>\n",
       "      <th>Tag</th>\n",
       "    </tr>\n",
       "  </thead>\n",
       "  <tbody>\n",
       "    <tr>\n",
       "      <td>0</td>\n",
       "      <td>Sentence #1</td>\n",
       "      <td>Subjects</td>\n",
       "      <td>O</td>\n",
       "    </tr>\n",
       "    <tr>\n",
       "      <td>1</td>\n",
       "      <td></td>\n",
       "      <td>who</td>\n",
       "      <td>O</td>\n",
       "    </tr>\n",
       "    <tr>\n",
       "      <td>2</td>\n",
       "      <td></td>\n",
       "      <td>died</td>\n",
       "      <td>O</td>\n",
       "    </tr>\n",
       "    <tr>\n",
       "      <td>3</td>\n",
       "      <td></td>\n",
       "      <td>in</td>\n",
       "      <td>O</td>\n",
       "    </tr>\n",
       "    <tr>\n",
       "      <td>4</td>\n",
       "      <td></td>\n",
       "      <td>hospital</td>\n",
       "      <td>O</td>\n",
       "    </tr>\n",
       "  </tbody>\n",
       "</table>\n",
       "</div>"
      ],
      "text/plain": [
       "   Sentence_ID     Words Tag\n",
       "0  Sentence #1  Subjects   O\n",
       "1                    who   O\n",
       "2                   died   O\n",
       "3                     in   O\n",
       "4               hospital   O"
      ]
     },
     "execution_count": 51,
     "metadata": {},
     "output_type": "execute_result"
    }
   ],
   "source": [
    "tagged_data.head()"
   ]
  },
  {
   "cell_type": "code",
   "execution_count": 52,
   "metadata": {},
   "outputs": [],
   "source": [
    "#Final tagged covid data\n",
    "tagged_data.to_csv('/Users/elif/Desktop/covid_tagged_data_May.csv', index = False, encoding= 'utf-8')"
   ]
  },
  {
   "cell_type": "markdown",
   "metadata": {},
   "source": [
    "\n",
    "\n",
    "\n",
    "## Working with Colloquial datasets\n",
    "\n",
    "    Read in the existing 2 data sets and analyze the number of symptoms on each papaer and create a one merged list of symptoms from both data sets. "
   ]
  },
  {
   "cell_type": "code",
   "execution_count": 53,
   "metadata": {},
   "outputs": [],
   "source": [
    "paSi_df = pd.read_excel('/Users/elif/Downloads/OneDrive_1_10-29-2020/patient-site_lableled.xlsx', sheet_name='in', usecols=\"A,B,C\")"
   ]
  },
  {
   "cell_type": "code",
   "execution_count": 54,
   "metadata": {
    "scrolled": true
   },
   "outputs": [],
   "source": [
    "plm_df = pd.read_excel('/Users/elif/Downloads/OneDrive_1_10-29-2020/plm_dataset_labeled.xlsx', sheet_name='plm_dataset', usecols=\"A,B,C\")"
   ]
  },
  {
   "cell_type": "code",
   "execution_count": 55,
   "metadata": {},
   "outputs": [],
   "source": [
    "def symAndCount(dataframe):\n",
    "    values_dict = {}\n",
    "    sym_str = ''\n",
    "    for i,row in enumerate(dataframe.values):\n",
    "    \n",
    "        if row[2]=='B-SYM'and dataframe.values[i+1][2] == 'O':\n",
    "            if row[1].lower() in values_dict:\n",
    "                values_dict[row[1].lower()]+=1\n",
    "            else:\n",
    "                values_dict[row[1].lower()] = 1\n",
    "        if (row[2]=='B-SYM'and dataframe.values[i+1][2] == 'I-SYM') or row[2]=='I-SYM':\n",
    "            sym_str +=str(row[1]).lower()+' '\n",
    "            if dataframe.values[i+1][2] == 'O':\n",
    "                sym_str = sym_str.strip()\n",
    "                if sym_str in values_dict:\n",
    "                    values_dict[sym_str]+=1\n",
    "                else:\n",
    "                    values_dict[sym_str] = 1\n",
    "                sym_str = ''\n",
    "    return values_dict\n"
   ]
  },
  {
   "cell_type": "code",
   "execution_count": 56,
   "metadata": {},
   "outputs": [],
   "source": [
    "from collections import Counter\n",
    "\n",
    "plm_sym_dict = symAndCount(plm_df)\n",
    "paSi_sym_dict = symAndCount(paSi_df)\n",
    "\n",
    "new_dict = dict(Counter(plm_sym_dict) + Counter(paSi_sym_dict))"
   ]
  },
  {
   "cell_type": "code",
   "execution_count": 57,
   "metadata": {
    "scrolled": true
   },
   "outputs": [],
   "source": [
    "#Sort the dictionary of symptoms along with their value counts\n",
    "import operator\n",
    "sorted_d = dict( sorted(new_dict.items(), key=operator.itemgetter(1),reverse=True))\n",
    "# sorted_d"
   ]
  },
  {
   "cell_type": "code",
   "execution_count": 58,
   "metadata": {},
   "outputs": [],
   "source": [
    "df_sym_freq = pd.DataFrame(list((dict(new_dict)).items()), columns = ['Symptom', 'Frequency'])\n",
    "df_sym_freq.to_csv('sym_freq.csv',index=False)\n",
    "only_syms = list((dict(new_dict)).keys())"
   ]
  },
  {
   "cell_type": "code",
   "execution_count": 59,
   "metadata": {},
   "outputs": [],
   "source": [
    "from wordcloud import WordCloud\n",
    "import matplotlib.pyplot as plt"
   ]
  },
  {
   "cell_type": "code",
   "execution_count": 60,
   "metadata": {
    "scrolled": false
   },
   "outputs": [],
   "source": [
    "#Wordcloud of symptoms \n",
    "\n",
    "# wc = WordCloud(background_color = \"black\", width = 1000, height= 1000).generate_from_frequencies(new_dict)\n",
    "# fig = plt.figure(figsize = (15,15))\n",
    "# plt.imshow(wc, interpolation = \"bilinear\")\n",
    "# plt.axis(\"off\")\n",
    "# plt.show()"
   ]
  },
  {
   "cell_type": "code",
   "execution_count": 61,
   "metadata": {
    "scrolled": true
   },
   "outputs": [
    {
     "data": {
      "text/html": [
       "<div>\n",
       "<style scoped>\n",
       "    .dataframe tbody tr th:only-of-type {\n",
       "        vertical-align: middle;\n",
       "    }\n",
       "\n",
       "    .dataframe tbody tr th {\n",
       "        vertical-align: top;\n",
       "    }\n",
       "\n",
       "    .dataframe thead th {\n",
       "        text-align: right;\n",
       "    }\n",
       "</style>\n",
       "<table border=\"1\" class=\"dataframe\">\n",
       "  <thead>\n",
       "    <tr style=\"text-align: right;\">\n",
       "      <th></th>\n",
       "      <th>Frequency</th>\n",
       "    </tr>\n",
       "    <tr>\n",
       "      <th>Symptom</th>\n",
       "      <th></th>\n",
       "    </tr>\n",
       "  </thead>\n",
       "  <tbody>\n",
       "    <tr>\n",
       "      <td>cough</td>\n",
       "      <td>41</td>\n",
       "    </tr>\n",
       "    <tr>\n",
       "      <td>fever</td>\n",
       "      <td>32</td>\n",
       "    </tr>\n",
       "    <tr>\n",
       "      <td>sore throat</td>\n",
       "      <td>16</td>\n",
       "    </tr>\n",
       "    <tr>\n",
       "      <td>fatigue</td>\n",
       "      <td>15</td>\n",
       "    </tr>\n",
       "    <tr>\n",
       "      <td>headache</td>\n",
       "      <td>15</td>\n",
       "    </tr>\n",
       "  </tbody>\n",
       "</table>\n",
       "</div>"
      ],
      "text/plain": [
       "             Frequency\n",
       "Symptom               \n",
       "cough               41\n",
       "fever               32\n",
       "sore throat         16\n",
       "fatigue             15\n",
       "headache            15"
      ]
     },
     "execution_count": 61,
     "metadata": {},
     "output_type": "execute_result"
    }
   ],
   "source": [
    "df_sym_freq.groupby('Symptom').sum().sort_values(['Frequency'],ascending=False).head()"
   ]
  },
  {
   "cell_type": "code",
   "execution_count": 62,
   "metadata": {},
   "outputs": [
    {
     "name": "stdout",
     "output_type": "stream",
     "text": [
      "Total number of symptoms retrived from both data sets is: 400\n"
     ]
    }
   ],
   "source": [
    "# only_syms\n",
    "print('Total number of symptoms retrived from both data sets is:', len(only_syms))"
   ]
  },
  {
   "cell_type": "code",
   "execution_count": 63,
   "metadata": {},
   "outputs": [
    {
     "name": "stdout",
     "output_type": "stream",
     "text": [
      "Total number of symptoms that are retrived from both data sets that do not exist in the original symptom list is: 177\n"
     ]
    }
   ],
   "source": [
    "# yields the elements in `list_2` that are NOT in `list_1`\n",
    "final_list = np.setdiff1d(symptoms,only_syms)\n",
    "print('Total number of symptoms that are retrived from both data sets that do not exist in the original symptom list is:', len(final_list))"
   ]
  },
  {
   "cell_type": "code",
   "execution_count": 64,
   "metadata": {},
   "outputs": [],
   "source": [
    "def intersection(lst1, lst2): \n",
    "    lst3 = [value for value in lst1 if value in lst2] \n",
    "    return lst3 "
   ]
  },
  {
   "cell_type": "code",
   "execution_count": 65,
   "metadata": {
    "scrolled": true
   },
   "outputs": [
    {
     "name": "stdout",
     "output_type": "stream",
     "text": [
      "Total number of symptoms that appear in both the original list and the list created from colloquial data sets is: 32\n"
     ]
    }
   ],
   "source": [
    "print('Total number of symptoms that appear in both the original list and the list created from colloquial data sets is:', len(intersection(symptoms, only_syms)))"
   ]
  },
  {
   "cell_type": "markdown",
   "metadata": {},
   "source": [
    "### Create a version of the COLL-DATA that only contains *sentences* with symptom terms"
   ]
  },
  {
   "cell_type": "code",
   "execution_count": 66,
   "metadata": {},
   "outputs": [],
   "source": [
    "def colloqual_data_processing(tagged_data, symptom_list):\n",
    "    \n",
    "    '''\n",
    "    Takes in the tagged data with 3 columns and the list of symptoms to search from,\n",
    "    joins them back together to do a search of sentences that include any of the symptoms, \n",
    "    eliminates the sentences that have 1 or less than 1 character, then splits those sentences into words\n",
    "    and tokenizes them \n",
    "    \n",
    "    return data frame that includes only the sentences that mention one or more of the symptoms\n",
    "    \n",
    "    '''\n",
    "    #Replace NaN values with emtpy spaces to match the original format \n",
    "    tagged_data['Sentence'] = tagged_data['Sentence'].replace(np.nan, ' ')\n",
    "    \n",
    "    #Take in the data frame and create a list of sentences\n",
    "    sent_value = []\n",
    "    sentence = []\n",
    "    for name, values in tagged_data.iterrows():\n",
    "\n",
    "        #print(values)\n",
    "        if values['Sentence'].startswith('Sentence') == True:\n",
    "            sent_value.append(sentence)\n",
    "            sentence = []\n",
    "\n",
    "        sentence.append(str(values['Words']))        \n",
    "    \n",
    "    #Put the full list together to have the full text to extract only the sentences that include symptoms \n",
    "\n",
    "    sentence_list = []\n",
    "    for sentence in sent_value:\n",
    "        if len(sentence) <= 1: #remove the sentences that have . or space as the only character \n",
    "            continue\n",
    "\n",
    "        full_txt = \" \".join(sentence).strip()\n",
    "        sentence_list.append(str(full_txt))\n",
    "    #join the sentences\n",
    "    full_Sent = \" \".join(sentence_list)\n",
    "\n",
    "    #create a dataframe with the full text of words\n",
    "    d = {'Sentence' : [full_Sent]}\n",
    "    col_df = pd.DataFrame(data=d)\n",
    "    \n",
    "    #Tokenize the sentences to have one sentence per row \n",
    "    sentences = []\n",
    "    sentence_pattern = r'(?<=[^A-Z].[.?]) +(?=[A-Z])'\n",
    "    for row in col_df.itertuples():            \n",
    "         for sentence in re.split(sentence_pattern, row[1]):\n",
    "                sentences.append((row[0], sentence))\n",
    "                \n",
    "\n",
    "    collo_df = pd.DataFrame(sentences, columns=['Index','Sentence'])\n",
    "#     print(collo_df.head())\n",
    "    \n",
    "    collo_df.drop('Index', axis = 1, inplace = True)\n",
    "    \n",
    "    #Create a pattern to check for sentences that contain the symtoms \n",
    "    new_pattern = '\\\\b' + '\\\\b|\\\\b'.join(symptom_list) + '\\\\b'\n",
    "    colloqual_df = collo_df[collo_df['Sentence'].str.contains(new_pattern, flags = re.IGNORECASE)].copy()\n",
    "#     print(colloqual_df.head())\n",
    "\n",
    "    return sent_value, colloqual_df\n"
   ]
  },
  {
   "cell_type": "code",
   "execution_count": 92,
   "metadata": {},
   "outputs": [
    {
     "data": {
      "text/html": [
       "<div>\n",
       "<style scoped>\n",
       "    .dataframe tbody tr th:only-of-type {\n",
       "        vertical-align: middle;\n",
       "    }\n",
       "\n",
       "    .dataframe tbody tr th {\n",
       "        vertical-align: top;\n",
       "    }\n",
       "\n",
       "    .dataframe thead th {\n",
       "        text-align: right;\n",
       "    }\n",
       "</style>\n",
       "<table border=\"1\" class=\"dataframe\">\n",
       "  <thead>\n",
       "    <tr style=\"text-align: right;\">\n",
       "      <th></th>\n",
       "      <th>Sentence</th>\n",
       "      <th>Words</th>\n",
       "      <th>Tag</th>\n",
       "    </tr>\n",
       "  </thead>\n",
       "  <tbody>\n",
       "    <tr>\n",
       "      <td>0</td>\n",
       "      <td>Sentence #1</td>\n",
       "      <td>I</td>\n",
       "      <td>O</td>\n",
       "    </tr>\n",
       "    <tr>\n",
       "      <td>1</td>\n",
       "      <td></td>\n",
       "      <td>was</td>\n",
       "      <td>O</td>\n",
       "    </tr>\n",
       "    <tr>\n",
       "      <td>2</td>\n",
       "      <td></td>\n",
       "      <td>diagnosed</td>\n",
       "      <td>O</td>\n",
       "    </tr>\n",
       "    <tr>\n",
       "      <td>3</td>\n",
       "      <td></td>\n",
       "      <td>3</td>\n",
       "      <td>O</td>\n",
       "    </tr>\n",
       "    <tr>\n",
       "      <td>4</td>\n",
       "      <td></td>\n",
       "      <td>days</td>\n",
       "      <td>O</td>\n",
       "    </tr>\n",
       "  </tbody>\n",
       "</table>\n",
       "</div>"
      ],
      "text/plain": [
       "      Sentence      Words Tag\n",
       "0  Sentence #1          I   O\n",
       "1                     was   O\n",
       "2               diagnosed   O\n",
       "3                       3   O\n",
       "4                    days   O"
      ]
     },
     "execution_count": 92,
     "metadata": {},
     "output_type": "execute_result"
    }
   ],
   "source": [
    "plm_df.head()"
   ]
  },
  {
   "cell_type": "code",
   "execution_count": 67,
   "metadata": {},
   "outputs": [],
   "source": [
    "sent_value, colloqual_df = colloqual_data_processing(plm_df, only_syms)"
   ]
  },
  {
   "cell_type": "code",
   "execution_count": 68,
   "metadata": {},
   "outputs": [],
   "source": [
    "def colloqual_df_info(sent, df):\n",
    "    print('Total number of sentences in this file is:', len(sent))\n",
    "    print('Number of sentences that include any of the provided symtoms is:', len(df))\n",
    "    print('Number of sentences that do NOT include any of the provided symptoms is:', (len(sent) - len(df)))\n",
    "    \n",
    "    "
   ]
  },
  {
   "cell_type": "code",
   "execution_count": 69,
   "metadata": {},
   "outputs": [
    {
     "name": "stdout",
     "output_type": "stream",
     "text": [
      "Total number of sentences in this file is: 531\n",
      "Number of sentences that include any of the provided symtoms is: 168\n",
      "Number of sentences that do NOT include any of the provided symptoms is: 363\n"
     ]
    }
   ],
   "source": [
    "colloqual_df_info(sent_value, colloqual_df)"
   ]
  },
  {
   "cell_type": "code",
   "execution_count": 70,
   "metadata": {},
   "outputs": [],
   "source": [
    "sent_value_, colloqual_df_n = colloqual_data_processing(paSi_df, only_syms)"
   ]
  },
  {
   "cell_type": "code",
   "execution_count": 71,
   "metadata": {},
   "outputs": [
    {
     "name": "stdout",
     "output_type": "stream",
     "text": [
      "Total number of sentences in this file is: 853\n",
      "Number of sentences that include any of the provided symtoms is: 301\n",
      "Number of sentences that do NOT include any of the provided symptoms is: 552\n"
     ]
    }
   ],
   "source": [
    "colloqual_df_info(sent_value_, colloqual_df_n)"
   ]
  },
  {
   "cell_type": "markdown",
   "metadata": {},
   "source": [
    "## Put the colloquial data prior to Nov5 sentences into tagged format"
   ]
  },
  {
   "cell_type": "code",
   "execution_count": 72,
   "metadata": {},
   "outputs": [],
   "source": [
    "colloqual_df.reset_index(drop=True, inplace=True)"
   ]
  },
  {
   "cell_type": "code",
   "execution_count": 73,
   "metadata": {},
   "outputs": [],
   "source": [
    "plm_peS_df = sentence_w_symptoms(colloqual_df, symptoms)"
   ]
  },
  {
   "cell_type": "code",
   "execution_count": 74,
   "metadata": {},
   "outputs": [],
   "source": [
    "plm_peS_df['Token'] = plm_peS_df['Sentence'].str.replace(pattern, repl, flags = re.IGNORECASE)\n",
    "plm_peS_df['Sentence_ID'] = ['Sentence #%s' %i for i in range(1, len(plm_peS_df) + 1)]\n"
   ]
  },
  {
   "cell_type": "code",
   "execution_count": 75,
   "metadata": {},
   "outputs": [],
   "source": [
    "df5 = tokenize_sentences(plm_peS_df)\n",
    "plm_peS_df_out=remove_duplicate_sentence_ids(df5)"
   ]
  },
  {
   "cell_type": "code",
   "execution_count": 76,
   "metadata": {},
   "outputs": [],
   "source": [
    "plm_peS_df_out=remove_duplicate_sentence_ids(df5)"
   ]
  },
  {
   "cell_type": "code",
   "execution_count": 77,
   "metadata": {},
   "outputs": [],
   "source": [
    "plm_peS_df_out.to_csv('/Users/elif/Desktop/Existing_Colloquial_data_prior_Nov5.csv', index = False, encoding= 'utf-8')"
   ]
  },
  {
   "cell_type": "markdown",
   "metadata": {},
   "source": [
    "## Scraped Data from the sites\n",
    "\n",
    "    Created one csv file where all the text data fromo both sites is stored\n",
    "    Loaded the csv file to select the sentences that include symptoms\n",
    "    Output the tagged file for symptoms "
   ]
  },
  {
   "cell_type": "code",
   "execution_count": 78,
   "metadata": {},
   "outputs": [],
   "source": [
    "scraped_data = pd.read_csv('/Users/elif/Downloads/combined_csv-4.csv')"
   ]
  },
  {
   "cell_type": "code",
   "execution_count": 79,
   "metadata": {
    "scrolled": true
   },
   "outputs": [
    {
     "data": {
      "text/html": [
       "<div>\n",
       "<style scoped>\n",
       "    .dataframe tbody tr th:only-of-type {\n",
       "        vertical-align: middle;\n",
       "    }\n",
       "\n",
       "    .dataframe tbody tr th {\n",
       "        vertical-align: top;\n",
       "    }\n",
       "\n",
       "    .dataframe thead th {\n",
       "        text-align: right;\n",
       "    }\n",
       "</style>\n",
       "<table border=\"1\" class=\"dataframe\">\n",
       "  <thead>\n",
       "    <tr style=\"text-align: right;\">\n",
       "      <th></th>\n",
       "      <th>Counts</th>\n",
       "    </tr>\n",
       "    <tr>\n",
       "      <th>Symptoms</th>\n",
       "      <th></th>\n",
       "    </tr>\n",
       "  </thead>\n",
       "  <tbody>\n",
       "    <tr>\n",
       "      <td>cough</td>\n",
       "      <td>61</td>\n",
       "    </tr>\n",
       "    <tr>\n",
       "      <td>fever</td>\n",
       "      <td>49</td>\n",
       "    </tr>\n",
       "    <tr>\n",
       "      <td>headache</td>\n",
       "      <td>33</td>\n",
       "    </tr>\n",
       "    <tr>\n",
       "      <td>fatigue</td>\n",
       "      <td>29</td>\n",
       "    </tr>\n",
       "    <tr>\n",
       "      <td>anxiety</td>\n",
       "      <td>28</td>\n",
       "    </tr>\n",
       "    <tr>\n",
       "      <td>sore throat</td>\n",
       "      <td>17</td>\n",
       "    </tr>\n",
       "    <tr>\n",
       "      <td>shortness of breath</td>\n",
       "      <td>16</td>\n",
       "    </tr>\n",
       "    <tr>\n",
       "      <td>dizziness</td>\n",
       "      <td>12</td>\n",
       "    </tr>\n",
       "    <tr>\n",
       "      <td>vertigo</td>\n",
       "      <td>10</td>\n",
       "    </tr>\n",
       "    <tr>\n",
       "      <td>congestion</td>\n",
       "      <td>9</td>\n",
       "    </tr>\n",
       "    <tr>\n",
       "      <td>chills</td>\n",
       "      <td>9</td>\n",
       "    </tr>\n",
       "    <tr>\n",
       "      <td>chest pain</td>\n",
       "      <td>9</td>\n",
       "    </tr>\n",
       "    <tr>\n",
       "      <td>diarrhea</td>\n",
       "      <td>8</td>\n",
       "    </tr>\n",
       "    <tr>\n",
       "      <td>urologic</td>\n",
       "      <td>8</td>\n",
       "    </tr>\n",
       "    <tr>\n",
       "      <td>body aches</td>\n",
       "      <td>7</td>\n",
       "    </tr>\n",
       "    <tr>\n",
       "      <td>nausea</td>\n",
       "      <td>7</td>\n",
       "    </tr>\n",
       "    <tr>\n",
       "      <td>loss of smell</td>\n",
       "      <td>6</td>\n",
       "    </tr>\n",
       "    <tr>\n",
       "      <td>rash</td>\n",
       "      <td>5</td>\n",
       "    </tr>\n",
       "    <tr>\n",
       "      <td>loss of taste</td>\n",
       "      <td>4</td>\n",
       "    </tr>\n",
       "    <tr>\n",
       "      <td>tinnitus</td>\n",
       "      <td>4</td>\n",
       "    </tr>\n",
       "    <tr>\n",
       "      <td>loss of appetite</td>\n",
       "      <td>4</td>\n",
       "    </tr>\n",
       "    <tr>\n",
       "      <td>abdominal pain</td>\n",
       "      <td>3</td>\n",
       "    </tr>\n",
       "    <tr>\n",
       "      <td>nasal congestion</td>\n",
       "      <td>3</td>\n",
       "    </tr>\n",
       "    <tr>\n",
       "      <td>swollen</td>\n",
       "      <td>3</td>\n",
       "    </tr>\n",
       "    <tr>\n",
       "      <td>back pain</td>\n",
       "      <td>3</td>\n",
       "    </tr>\n",
       "    <tr>\n",
       "      <td>muscle weakness</td>\n",
       "      <td>3</td>\n",
       "    </tr>\n",
       "    <tr>\n",
       "      <td>runny nose</td>\n",
       "      <td>2</td>\n",
       "    </tr>\n",
       "    <tr>\n",
       "      <td>vomiting</td>\n",
       "      <td>2</td>\n",
       "    </tr>\n",
       "    <tr>\n",
       "      <td>dry mouth</td>\n",
       "      <td>2</td>\n",
       "    </tr>\n",
       "    <tr>\n",
       "      <td>muscle ache</td>\n",
       "      <td>1</td>\n",
       "    </tr>\n",
       "    <tr>\n",
       "      <td>pelvic pain</td>\n",
       "      <td>1</td>\n",
       "    </tr>\n",
       "    <tr>\n",
       "      <td>insomnia</td>\n",
       "      <td>1</td>\n",
       "    </tr>\n",
       "    <tr>\n",
       "      <td>hearing loss</td>\n",
       "      <td>1</td>\n",
       "    </tr>\n",
       "    <tr>\n",
       "      <td>sciatica</td>\n",
       "      <td>1</td>\n",
       "    </tr>\n",
       "    <tr>\n",
       "      <td>dyspepsia</td>\n",
       "      <td>1</td>\n",
       "    </tr>\n",
       "    <tr>\n",
       "      <td>sneezing</td>\n",
       "      <td>1</td>\n",
       "    </tr>\n",
       "    <tr>\n",
       "      <td>sweats</td>\n",
       "      <td>1</td>\n",
       "    </tr>\n",
       "    <tr>\n",
       "      <td>swelling</td>\n",
       "      <td>1</td>\n",
       "    </tr>\n",
       "    <tr>\n",
       "      <td>confusion</td>\n",
       "      <td>1</td>\n",
       "    </tr>\n",
       "    <tr>\n",
       "      <td>chest tightness</td>\n",
       "      <td>1</td>\n",
       "    </tr>\n",
       "    <tr>\n",
       "      <td>bloating</td>\n",
       "      <td>1</td>\n",
       "    </tr>\n",
       "    <tr>\n",
       "      <td>asthenia</td>\n",
       "      <td>1</td>\n",
       "    </tr>\n",
       "    <tr>\n",
       "      <td>itching</td>\n",
       "      <td>1</td>\n",
       "    </tr>\n",
       "  </tbody>\n",
       "</table>\n",
       "</div>"
      ],
      "text/plain": [
       "                     Counts\n",
       "Symptoms                   \n",
       "cough                    61\n",
       "fever                    49\n",
       "headache                 33\n",
       "fatigue                  29\n",
       "anxiety                  28\n",
       "sore throat              17\n",
       "shortness of breath      16\n",
       "dizziness                12\n",
       "vertigo                  10\n",
       "congestion                9\n",
       "chills                    9\n",
       "chest pain                9\n",
       "diarrhea                  8\n",
       "urologic                  8\n",
       "body aches                7\n",
       "nausea                    7\n",
       "loss of smell             6\n",
       "rash                      5\n",
       "loss of taste             4\n",
       "tinnitus                  4\n",
       "loss of appetite          4\n",
       "abdominal pain            3\n",
       "nasal congestion          3\n",
       "swollen                   3\n",
       "back pain                 3\n",
       "muscle weakness           3\n",
       "runny nose                2\n",
       "vomiting                  2\n",
       "dry mouth                 2\n",
       "muscle ache               1\n",
       "pelvic pain               1\n",
       "insomnia                  1\n",
       "hearing loss              1\n",
       "sciatica                  1\n",
       "dyspepsia                 1\n",
       "sneezing                  1\n",
       "sweats                    1\n",
       "swelling                  1\n",
       "confusion                 1\n",
       "chest tightness           1\n",
       "bloating                  1\n",
       "asthenia                  1\n",
       "itching                   1"
      ]
     },
     "execution_count": 79,
     "metadata": {},
     "output_type": "execute_result"
    }
   ],
   "source": [
    "#Count of original symptoms\n",
    "symptoms_df(scraped_data)#, symp = symptoms)"
   ]
  },
  {
   "cell_type": "code",
   "execution_count": 80,
   "metadata": {},
   "outputs": [
    {
     "data": {
      "text/plain": [
       "43"
      ]
     },
     "execution_count": 80,
     "metadata": {},
     "output_type": "execute_result"
    }
   ],
   "source": [
    "len(symptoms_df(scraped_data))"
   ]
  },
  {
   "cell_type": "code",
   "execution_count": 81,
   "metadata": {
    "scrolled": true
   },
   "outputs": [
    {
     "data": {
      "text/html": [
       "<div>\n",
       "<style scoped>\n",
       "    .dataframe tbody tr th:only-of-type {\n",
       "        vertical-align: middle;\n",
       "    }\n",
       "\n",
       "    .dataframe tbody tr th {\n",
       "        vertical-align: top;\n",
       "    }\n",
       "\n",
       "    .dataframe thead th {\n",
       "        text-align: right;\n",
       "    }\n",
       "</style>\n",
       "<table border=\"1\" class=\"dataframe\">\n",
       "  <thead>\n",
       "    <tr style=\"text-align: right;\">\n",
       "      <th></th>\n",
       "      <th>Counts</th>\n",
       "    </tr>\n",
       "    <tr>\n",
       "      <th>Symptoms</th>\n",
       "      <th></th>\n",
       "    </tr>\n",
       "  </thead>\n",
       "  <tbody>\n",
       "    <tr>\n",
       "      <td>symptoms</td>\n",
       "      <td>146</td>\n",
       "    </tr>\n",
       "    <tr>\n",
       "      <td>feeling</td>\n",
       "      <td>63</td>\n",
       "    </tr>\n",
       "    <tr>\n",
       "      <td>breath</td>\n",
       "      <td>49</td>\n",
       "    </tr>\n",
       "    <tr>\n",
       "      <td>cough</td>\n",
       "      <td>46</td>\n",
       "    </tr>\n",
       "    <tr>\n",
       "      <td>taste</td>\n",
       "      <td>43</td>\n",
       "    </tr>\n",
       "    <tr>\n",
       "      <td>...</td>\n",
       "      <td>...</td>\n",
       "    </tr>\n",
       "    <tr>\n",
       "      <td>hives</td>\n",
       "      <td>1</td>\n",
       "    </tr>\n",
       "    <tr>\n",
       "      <td>high temperatures</td>\n",
       "      <td>1</td>\n",
       "    </tr>\n",
       "    <tr>\n",
       "      <td>hayfever</td>\n",
       "      <td>1</td>\n",
       "    </tr>\n",
       "    <tr>\n",
       "      <td>get blurry</td>\n",
       "      <td>1</td>\n",
       "    </tr>\n",
       "    <tr>\n",
       "      <td>weird stuff showing up on my skin</td>\n",
       "      <td>1</td>\n",
       "    </tr>\n",
       "  </tbody>\n",
       "</table>\n",
       "<p>167 rows × 1 columns</p>\n",
       "</div>"
      ],
      "text/plain": [
       "                                   Counts\n",
       "Symptoms                                 \n",
       "symptoms                              146\n",
       "feeling                                63\n",
       "breath                                 49\n",
       "cough                                  46\n",
       "taste                                  43\n",
       "...                                   ...\n",
       "hives                                   1\n",
       "high temperatures                       1\n",
       "hayfever                                1\n",
       "get blurry                              1\n",
       "weird stuff showing up on my skin       1\n",
       "\n",
       "[167 rows x 1 columns]"
      ]
     },
     "execution_count": 81,
     "metadata": {},
     "output_type": "execute_result"
    }
   ],
   "source": [
    "#count of symptomps from the patience like me files\n",
    "symptoms_df(scraped_data, only_syms)"
   ]
  },
  {
   "cell_type": "code",
   "execution_count": 89,
   "metadata": {},
   "outputs": [
    {
     "name": "stdout",
     "output_type": "stream",
     "text": [
      "Number of sentences retrived from the sites for the past 3 months is:  1292\n"
     ]
    }
   ],
   "source": [
    "#Make sure there is only one sentence per row\n",
    "sentences = []\n",
    "sentence_pattern = r'(?<=[^A-Z].[.?]) +(?=[A-Z])'\n",
    "for row in scraped_data.itertuples():            \n",
    "    for sentence in re.split(sentence_pattern, row[1]):\n",
    "        sentences.append((row[0], sentence))\n",
    "                \n",
    "\n",
    "collo_df_new = pd.DataFrame(sentences, columns=['Index','Sentence'])\n",
    "\n",
    "collo_df_new.drop('Index', axis = 1, inplace = True)\n",
    "print('Number of sentences retrived from the sites for the past 3 months is: ', len(collo_df_new))"
   ]
  },
  {
   "cell_type": "code",
   "execution_count": 91,
   "metadata": {},
   "outputs": [
    {
     "name": "stdout",
     "output_type": "stream",
     "text": [
      "Of those sentences  203 of them include our original Symptoms\n"
     ]
    }
   ],
   "source": [
    "colloqual_new_data = sentence_w_symptoms(collo_df_new, symptoms)\n",
    "print('Of those sentences ', len(colloqual_new_data), 'of them include our original Symptoms')"
   ]
  },
  {
   "cell_type": "code",
   "execution_count": 90,
   "metadata": {},
   "outputs": [
    {
     "name": "stdout",
     "output_type": "stream",
     "text": [
      "Of those sentences  471 of them include Symptoms collected from previous colloquial datasets.\n"
     ]
    }
   ],
   "source": [
    "colloqual_new_data_only_symp = sentence_w_symptoms(collo_df_new, only_syms)\n",
    "print('Of those sentences ', len(colloqual_new_data_only_symp), 'of them include Symptoms collected from previous colloquial datasets.')"
   ]
  },
  {
   "cell_type": "code",
   "execution_count": 84,
   "metadata": {},
   "outputs": [],
   "source": [
    "colloqual_new_data['Token'] = colloqual_new_data['Sentence'].str.replace(pattern, repl, flags = re.IGNORECASE)\n",
    "colloqual_new_data['Sentence_ID'] = ['Sentence #%s' %i for i in range(1, len(colloqual_new_data) + 1)]\n",
    "df6 = tokenize_sentences(colloqual_new_data)\n",
    "tagged_scraped_data = remove_duplicate_sentence_ids(df6)"
   ]
  },
  {
   "cell_type": "code",
   "execution_count": 85,
   "metadata": {
    "scrolled": true
   },
   "outputs": [],
   "source": [
    "tagged_scraped_data.to_csv('/Users/elif/Desktop/New_Colloquial_data_Nov5.csv', index = False, encoding= 'utf-8')"
   ]
  },
  {
   "cell_type": "markdown",
   "metadata": {},
   "source": [
    "## Things to address - Nov 6 Meeting\n",
    "\n",
    "    - Changed the way we split sentences into one sentence per row format, thus, we now have a different testing set for the MAY papers which is saved in MAX&ELIF folder\n",
    "    \n",
    "    - The existing tagged colloquial data sets were split in a different fashion thus the quality of it might be different that the other files - such as the split of I've or numbers split in different cells\n",
    "    \n",
    "    - There were not many posts on those 2 sites that were covid related as they had many posts about just updates on recent changes in the vaccine process\n",
    "    \n",
    "    - Scraped data was saved in different csv files and we merged them into one csv file to capture all the information \n",
    "    \n",
    "    - Some of the posts on the site had the edit date as - 2 weeks or months - but some of the comments dated back to 4-5 months ago so not sure about what part of that post is actually recently edited\n",
    "    \n",
    "    - The sites do not have acrtual time stamps on the posts thus, I went back 3 months to collect all the information that we have right now."
   ]
  },
  {
   "cell_type": "code",
   "execution_count": null,
   "metadata": {},
   "outputs": [],
   "source": []
  }
 ],
 "metadata": {
  "kernelspec": {
   "display_name": "Python 3",
   "language": "python",
   "name": "python3"
  },
  "language_info": {
   "codemirror_mode": {
    "name": "ipython",
    "version": 3
   },
   "file_extension": ".py",
   "mimetype": "text/x-python",
   "name": "python",
   "nbconvert_exporter": "python",
   "pygments_lexer": "ipython3",
   "version": "3.7.4"
  }
 },
 "nbformat": 4,
 "nbformat_minor": 2
}