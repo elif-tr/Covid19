{
 "cells": [
  {
   "cell_type": "markdown",
   "metadata": {},
   "source": [
    "## COVID19 related papers that published during the first week of May, 2020"
   ]
  },
  {
   "cell_type": "code",
   "execution_count": 1,
   "metadata": {},
   "outputs": [
    {
     "ename": "AttributeError",
     "evalue": "module 'regex' has no attribute 'compile'",
     "output_type": "error",
     "traceback": [
      "\u001B[0;31m---------------------------------------------------------------------------\u001B[0m",
      "\u001B[0;31mAttributeError\u001B[0m                            Traceback (most recent call last)",
      "\u001B[0;32m<ipython-input-1-b6d5775ff266>\u001B[0m in \u001B[0;36m<module>\u001B[0;34m\u001B[0m\n\u001B[1;32m      4\u001B[0m \u001B[0;32mimport\u001B[0m \u001B[0mjson\u001B[0m\u001B[0;34m\u001B[0m\u001B[0;34m\u001B[0m\u001B[0m\n\u001B[1;32m      5\u001B[0m \u001B[0;32mimport\u001B[0m \u001B[0mre\u001B[0m\u001B[0;34m\u001B[0m\u001B[0;34m\u001B[0m\u001B[0m\n\u001B[0;32m----> 6\u001B[0;31m \u001B[0;32mimport\u001B[0m \u001B[0mnltk\u001B[0m\u001B[0;34m\u001B[0m\u001B[0;34m\u001B[0m\u001B[0m\n\u001B[0m\u001B[1;32m      7\u001B[0m \u001B[0mnltk\u001B[0m\u001B[0;34m.\u001B[0m\u001B[0mdownload\u001B[0m\u001B[0;34m(\u001B[0m\u001B[0;34m'punkt'\u001B[0m\u001B[0;34m)\u001B[0m\u001B[0;34m\u001B[0m\u001B[0;34m\u001B[0m\u001B[0m\n\u001B[1;32m      8\u001B[0m \u001B[0;32mfrom\u001B[0m \u001B[0mnltk\u001B[0m\u001B[0;34m.\u001B[0m\u001B[0mtokenize\u001B[0m \u001B[0;32mimport\u001B[0m \u001B[0msent_tokenize\u001B[0m\u001B[0;34m\u001B[0m\u001B[0;34m\u001B[0m\u001B[0m\n",
      "\u001B[0;32m/usr/local/lib/python3.8/site-packages/nltk/__init__.py\u001B[0m in \u001B[0;36m<module>\u001B[0;34m\u001B[0m\n\u001B[1;32m    131\u001B[0m \u001B[0;32mfrom\u001B[0m \u001B[0mnltk\u001B[0m\u001B[0;34m.\u001B[0m\u001B[0mgrammar\u001B[0m \u001B[0;32mimport\u001B[0m \u001B[0;34m*\u001B[0m\u001B[0;34m\u001B[0m\u001B[0;34m\u001B[0m\u001B[0m\n\u001B[1;32m    132\u001B[0m \u001B[0;32mfrom\u001B[0m \u001B[0mnltk\u001B[0m\u001B[0;34m.\u001B[0m\u001B[0mprobability\u001B[0m \u001B[0;32mimport\u001B[0m \u001B[0;34m*\u001B[0m\u001B[0;34m\u001B[0m\u001B[0;34m\u001B[0m\u001B[0m\n\u001B[0;32m--> 133\u001B[0;31m \u001B[0;32mfrom\u001B[0m \u001B[0mnltk\u001B[0m\u001B[0;34m.\u001B[0m\u001B[0mtext\u001B[0m \u001B[0;32mimport\u001B[0m \u001B[0;34m*\u001B[0m\u001B[0;34m\u001B[0m\u001B[0;34m\u001B[0m\u001B[0m\n\u001B[0m\u001B[1;32m    134\u001B[0m \u001B[0;32mfrom\u001B[0m \u001B[0mnltk\u001B[0m\u001B[0;34m.\u001B[0m\u001B[0mtree\u001B[0m \u001B[0;32mimport\u001B[0m \u001B[0;34m*\u001B[0m\u001B[0;34m\u001B[0m\u001B[0;34m\u001B[0m\u001B[0m\n\u001B[1;32m    135\u001B[0m \u001B[0;32mfrom\u001B[0m \u001B[0mnltk\u001B[0m\u001B[0;34m.\u001B[0m\u001B[0mutil\u001B[0m \u001B[0;32mimport\u001B[0m \u001B[0;34m*\u001B[0m\u001B[0;34m\u001B[0m\u001B[0;34m\u001B[0m\u001B[0m\n",
      "\u001B[0;32m/usr/local/lib/python3.8/site-packages/nltk/text.py\u001B[0m in \u001B[0;36m<module>\u001B[0;34m\u001B[0m\n\u001B[1;32m     28\u001B[0m \u001B[0;32mfrom\u001B[0m \u001B[0mnltk\u001B[0m\u001B[0;34m.\u001B[0m\u001B[0mmetrics\u001B[0m \u001B[0;32mimport\u001B[0m \u001B[0mf_measure\u001B[0m\u001B[0;34m,\u001B[0m \u001B[0mBigramAssocMeasures\u001B[0m\u001B[0;34m\u001B[0m\u001B[0;34m\u001B[0m\u001B[0m\n\u001B[1;32m     29\u001B[0m \u001B[0;32mfrom\u001B[0m \u001B[0mnltk\u001B[0m\u001B[0;34m.\u001B[0m\u001B[0mcollocations\u001B[0m \u001B[0;32mimport\u001B[0m \u001B[0mBigramCollocationFinder\u001B[0m\u001B[0;34m\u001B[0m\u001B[0;34m\u001B[0m\u001B[0m\n\u001B[0;32m---> 30\u001B[0;31m \u001B[0;32mfrom\u001B[0m \u001B[0mnltk\u001B[0m\u001B[0;34m.\u001B[0m\u001B[0mtokenize\u001B[0m \u001B[0;32mimport\u001B[0m \u001B[0msent_tokenize\u001B[0m\u001B[0;34m\u001B[0m\u001B[0;34m\u001B[0m\u001B[0m\n\u001B[0m\u001B[1;32m     31\u001B[0m \u001B[0;34m\u001B[0m\u001B[0m\n\u001B[1;32m     32\u001B[0m ConcordanceLine = namedtuple(\n",
      "\u001B[0;32m/usr/local/lib/python3.8/site-packages/nltk/tokenize/__init__.py\u001B[0m in \u001B[0;36m<module>\u001B[0;34m\u001B[0m\n\u001B[1;32m     64\u001B[0m \u001B[0;34m\u001B[0m\u001B[0m\n\u001B[1;32m     65\u001B[0m \u001B[0;32mfrom\u001B[0m \u001B[0mnltk\u001B[0m\u001B[0;34m.\u001B[0m\u001B[0mdata\u001B[0m \u001B[0;32mimport\u001B[0m \u001B[0mload\u001B[0m\u001B[0;34m\u001B[0m\u001B[0;34m\u001B[0m\u001B[0m\n\u001B[0;32m---> 66\u001B[0;31m \u001B[0;32mfrom\u001B[0m \u001B[0mnltk\u001B[0m\u001B[0;34m.\u001B[0m\u001B[0mtokenize\u001B[0m\u001B[0;34m.\u001B[0m\u001B[0mcasual\u001B[0m \u001B[0;32mimport\u001B[0m \u001B[0mTweetTokenizer\u001B[0m\u001B[0;34m,\u001B[0m \u001B[0mcasual_tokenize\u001B[0m\u001B[0;34m\u001B[0m\u001B[0;34m\u001B[0m\u001B[0m\n\u001B[0m\u001B[1;32m     67\u001B[0m \u001B[0;32mfrom\u001B[0m \u001B[0mnltk\u001B[0m\u001B[0;34m.\u001B[0m\u001B[0mtokenize\u001B[0m\u001B[0;34m.\u001B[0m\u001B[0mmwe\u001B[0m \u001B[0;32mimport\u001B[0m \u001B[0mMWETokenizer\u001B[0m\u001B[0;34m\u001B[0m\u001B[0;34m\u001B[0m\u001B[0m\n\u001B[1;32m     68\u001B[0m \u001B[0;32mfrom\u001B[0m \u001B[0mnltk\u001B[0m\u001B[0;34m.\u001B[0m\u001B[0mtokenize\u001B[0m\u001B[0;34m.\u001B[0m\u001B[0mdestructive\u001B[0m \u001B[0;32mimport\u001B[0m \u001B[0mNLTKWordTokenizer\u001B[0m\u001B[0;34m\u001B[0m\u001B[0;34m\u001B[0m\u001B[0m\n",
      "\u001B[0;32m/usr/local/lib/python3.8/site-packages/nltk/tokenize/casual.py\u001B[0m in \u001B[0;36m<module>\u001B[0;34m\u001B[0m\n\u001B[1;32m    164\u001B[0m \u001B[0;31m# This is the core tokenizing regex:\u001B[0m\u001B[0;34m\u001B[0m\u001B[0;34m\u001B[0m\u001B[0;34m\u001B[0m\u001B[0m\n\u001B[1;32m    165\u001B[0m \u001B[0;34m\u001B[0m\u001B[0m\n\u001B[0;32m--> 166\u001B[0;31m \u001B[0mWORD_RE\u001B[0m \u001B[0;34m=\u001B[0m \u001B[0mregex\u001B[0m\u001B[0;34m.\u001B[0m\u001B[0mcompile\u001B[0m\u001B[0;34m(\u001B[0m\u001B[0;34mr\"\"\"(%s)\"\"\"\u001B[0m \u001B[0;34m%\u001B[0m \u001B[0;34m\"|\"\u001B[0m\u001B[0;34m.\u001B[0m\u001B[0mjoin\u001B[0m\u001B[0;34m(\u001B[0m\u001B[0mREGEXPS\u001B[0m\u001B[0;34m)\u001B[0m\u001B[0;34m,\u001B[0m \u001B[0mregex\u001B[0m\u001B[0;34m.\u001B[0m\u001B[0mVERBOSE\u001B[0m \u001B[0;34m|\u001B[0m \u001B[0mregex\u001B[0m\u001B[0;34m.\u001B[0m\u001B[0mI\u001B[0m \u001B[0;34m|\u001B[0m \u001B[0mregex\u001B[0m\u001B[0;34m.\u001B[0m\u001B[0mUNICODE\u001B[0m\u001B[0;34m)\u001B[0m\u001B[0;34m\u001B[0m\u001B[0;34m\u001B[0m\u001B[0m\n\u001B[0m\u001B[1;32m    167\u001B[0m \u001B[0;34m\u001B[0m\u001B[0m\n\u001B[1;32m    168\u001B[0m \u001B[0;31m# WORD_RE performs poorly on these patterns:\u001B[0m\u001B[0;34m\u001B[0m\u001B[0;34m\u001B[0m\u001B[0;34m\u001B[0m\u001B[0m\n",
      "\u001B[0;31mAttributeError\u001B[0m: module 'regex' has no attribute 'compile'"
     ]
    }
   ],
   "source": [
    "import pandas as pd\n",
    "import numpy as np\n",
    "import os\n",
    "import json\n",
    "import re\n",
    "import nltk\n",
    "nltk.download('punkt')\n",
    "from nltk.tokenize import sent_tokenize\n",
    "from nltk.tokenize import word_tokenize\n",
    "import parse_cord as cord"
   ]
  },
  {
   "cell_type": "code",
   "execution_count": null,
   "metadata": {},
   "outputs": [],
   "source": [
    "import matplotlib.pyplot as plt\n",
    "from plotly.offline import download_plotlyjs, init_notebook_mode, plot, iplot\n",
    "import cufflinks as cf"
   ]
  },
  {
   "cell_type": "code",
   "execution_count": null,
   "metadata": {},
   "outputs": [],
   "source": [
    "# For Notebooks\n",
    "init_notebook_mode(connected=True)\n",
    "\n",
    "# For offline use\n",
    "cf.go_offline()"
   ]
  },
  {
   "cell_type": "markdown",
   "metadata": {},
   "source": [
    "### Define a global variable for the folder name that contains the json files of the papers"
   ]
  },
  {
   "cell_type": "code",
   "execution_count": 4,
   "metadata": {},
   "outputs": [],
   "source": [
    "DATA_DIR = 'data/archive'"
   ]
  },
  {
   "cell_type": "markdown",
   "metadata": {},
   "source": [
    "Call the module to read in the data"
   ]
  },
  {
   "cell_type": "code",
   "execution_count": 5,
   "metadata": {
    "pycharm": {
     "name": "#%%\n"
    }
   },
   "outputs": [],
   "source": [
    "# Use the module that reads in the json files - parse_cord file\n",
    "data_frame = cord.read_json_files(cord.json_files(DATA_DIR), DATA_DIR)"
   ]
  },
  {
   "cell_type": "markdown",
   "metadata": {},
   "source": [
    "### Extracting sentences that contain symptoms"
   ]
  },
  {
   "cell_type": "markdown",
   "metadata": {},
   "source": [
    "Defining the symptoms that we will extract from our sentences. The list was taken from: https://www.kaggle.com/davidbetancur8/symptoms-word-cloud\n",
    "\n",
    "The list was modified by Max to have more up to date symptoms and I added in the following symptoms which were taken from CDC's website or I observed them frequintly in the papers:\n",
    "\n",
    "    -\"difficulty breathing\"\n",
    "    -\"muscle ache\"\n",
    "    -\"congestion\"\n",
    "    -\"runny nose\"\n",
    "    -\"trouble breathing\"\n",
    "    -\"persistent pain\"\n",
    "    -\"pressure in the chest\"\n",
    "    -\"inability to wake\"\n",
    "    -\"stay awake\"\n",
    "    -\"bluish lips\"\n",
    "    -\"bluish face\"\n",
    "    -\"fevers\"\n",
    "    -\"decreased appetite\""
   ]
  },
  {
   "cell_type": "code",
   "execution_count": 6,
   "metadata": {},
   "outputs": [],
   "source": [
    "symptoms = [\n",
    "    \"weight loss\",\"chills\",\"shivering\",\"convulsions\",\"deformity\",\"discharge\",\"dizziness\", \"lymphopenia\", \"sneezing\",\n",
    "    \"vertigo\",\"fatigue\",\"malaise\",\"asthenia\",\"hypothermia\",\"jaundice\",\"muscle weakness\", \"chest discomfort\",\n",
    "    \"pyrexia\",\"sweats\",\"swelling\",\"swollen\",\"painful lymph node\",\"weight gain\",\"arrhythmia\", \"loss of smell\", \n",
    "    \"loss of appetite\", \"loss of taste\", \"bradycardia\",\"chest pain\",\"claudication\",\"palpitations\",\"tachycardia\",\n",
    "    \"dry mouth\",\"epistaxis\", \"dysgeusia\", \"hypersomnia\", \"taste loss\", \"halitosis\",\"hearing loss\",\"nasal discharge\", \n",
    "    \"nasal inflammation\", \"otalgia\",\"otorrhea\",\"sore throat\",\"toothache\",\"tinnitus\", \"dysphonia\",\n",
    "    \"trismus\",\"abdominal pain\",\"fever\",\"bloating\",\"belching\",\"bleeding\",\"bloody stool\",\"melena\",\"hematochezia\", \n",
    "    \"burning sensation in the chest\", \"constipation\",\"diarrhea\",\"dysphagia\",\"dyspepsia\",\"fecal incontinence\",\n",
    "    \"flatulence\", \"heartburn\", \"chest tightness\", \"chest pressure\",\"nausea\",\"odynophagia\",\"proctalgia fugax\",\n",
    "    \"pyrosis\",\"steatorrhea\",\"vomiting\",\"alopecia\",\"hirsutism\", \"tachypnoea\", \"nasal obstruction\",\n",
    "    \"hypertrichosis\",\"abrasion\",\"anasarca\",\"bleeding into skin\",\"petechia\",\"purpura\",\"ecchymosis\", \"bruising\", \n",
    "    \"blister\",\"edema\",\"itching\",\"laceration\",\"rash\",\"urticaria\",\"abnormal posturing\",\"acalculia\",\"agnosia\",\"alexia\",\n",
    "    \"amnesia\",\"anomia\",\"anosognosia\",\"aphasia\",\"apraxia\",\"ataxia\",\"cataplexy\",\"confusion\",\"dysarthria\", \n",
    "    \"nasal congestion\",\"dysdiadochokinesia\",\"dysgraphia\",\"hallucination\",\"headache\",\"akinesia\",\"bradykinesia\",\n",
    "    \"ballismus\",\"blepharospasm\",\"chorea\",\"dystonia\",\"fasciculation\",\"muscle cramps\",\"myoclonus\",\"opsoclonus\",\n",
    "    \"tremor\",\"flapping tremor\",\"insomnia\",\"loss of consciousness\",\"syncope\",\"neck stiffness\",\"opisthotonus\",\n",
    "    \"paralysis\",\"paresis\",\"paresthesia\",\"prosopagnosia\",\"somnolence\",\"abnormal vaginal bleeding\", \"neuralgia\",\n",
    "    \"vaginal bleeding in early pregnancy\", \"miscarriage\",\"vaginal bleeding in late pregnancy\",\"amenorrhea\", \"body aches\",\n",
    "    \"infertility\",\"painful intercourse\",\"pelvic pain\",\"vaginal discharge\",\"amaurosis fugax\",\"amaurosis\", \"skin lesions\",\n",
    "    \"blurred vision\",\"double vision\",\"exophthalmos\",\"mydriasis\",\"miosis\",\"nystagmus\",\"amusia\",\"anhedonia\",\n",
    "    \"anxiety\",\"apathy\",\"confabulation\",\"depression\",\"delusion\",\"euphoria\",\"homicidal ideation\",\"irritability\",\n",
    "    \"mania\",\"paranoid ideation\",\"suicidal ideation\",\"apnea\",\"hypopnea\",\"cough\",\"dyspnea\",\"bradypnea\",\"tachypnea\",\n",
    "    \"orthopnea\",\"platypnea\",\"trepopnea\",\"hemoptysis\",\"pleuritic chest pain\",\"sputum production\",\"arthralgia\",\n",
    "    \"back pain\",\"sciatica\",\"urologic\",\"dysuria\",\"hematospermia\",\"hematuria\",\"impotence\",\"polyuria\",\n",
    "    \"retrograde ejaculation\",\"strangury\",\"urethral discharge\",\"urinary frequency\",\"urinary incontinence\", \n",
    "    \"anosmia\", \"myalgia\", \"rhinorrhea\", \"shortness of breath\", \"difficulty breathing\", \"muscle ache\", \"congestion\",\n",
    "    \"runny nose\", \"trouble breathing\", \"persistent pain\", \"pressure in the chest\", \"inability to wake\", \"stay awake\",\n",
    "    \"bluish lips\", \"bluish face\",\"akathisia\",\"athetosis\", \"urinary retention\", \"fevers\", \n",
    "    \"decreased appetite\"]"
   ]
  },
  {
   "cell_type": "code",
   "execution_count": 7,
   "metadata": {},
   "outputs": [
    {
     "data": {
      "text/plain": [
       "209"
      ]
     },
     "execution_count": 7,
     "metadata": {},
     "output_type": "execute_result"
    }
   ],
   "source": [
    "len(symptoms)"
   ]
  },
  {
   "cell_type": "markdown",
   "metadata": {},
   "source": [
    "## Check the papers that contain any of the symptoms from list of symptoms and then extract those sentences only"
   ]
  },
  {
   "cell_type": "code",
   "execution_count": 8,
   "metadata": {},
   "outputs": [],
   "source": [
    "#I had to create a df with no title as I could not work withe the frame that includes paper titles as well\n",
    "df_no_title = data_frame[['paper_id', 'full_text']]"
   ]
  },
  {
   "cell_type": "markdown",
   "metadata": {},
   "source": [
    "### Final data frame that only includes sentences from each text that contains any of the symptoms from our list of symptoms\n",
    "\n",
    "    - The split text module takes in a data frame that has paper id and full text. \n",
    "\n",
    "    - It Preprocesses the texts by splitting them into one sentence per row and which paper id they belog to\n",
    "    \n",
    "    - Then it extractes those sentences that include any of the given sentences and produce a data frame"
   ]
  },
  {
   "cell_type": "code",
   "execution_count": 9,
   "metadata": {},
   "outputs": [],
   "source": [
    "#Use split text module to preprocess the texts and outputs a data frame of sentences that include one or more of the symptoms\n",
    "import split_text as sp\n",
    "\n",
    "final_df = sp.sentence_w_symptoms(sp.split_sentences(df_no_title), symptoms)"
   ]
  },
  {
   "cell_type": "markdown",
   "metadata": {
    "pycharm": {
     "name": "#%% md\n"
    }
   },
   "source": [
    "If you wish to retrieve sentences that check for different symptoms - then you only need to change the second argument on the split sentence function above\n",
    "\n",
    "final_df['Sentence'].head()"
   ]
  },
  {
   "cell_type": "markdown",
   "metadata": {
    "pycharm": {
     "name": "#%% md\n"
    }
   },
   "source": [
    "### Rearranged the display of the columns"
   ]
  },
  {
   "cell_type": "code",
   "execution_count": 10,
   "metadata": {
    "pycharm": {
     "name": "#%%\n"
    }
   },
   "outputs": [],
   "source": [
    "columnsTitles = ['Paper_Id', 'Sentence_ID', 'Sentence']\n",
    "\n",
    "covid_df = final_df.reindex(columns=columnsTitles)"
   ]
  },
  {
   "cell_type": "markdown",
   "metadata": {
    "pycharm": {
     "name": "#%% md\n"
    }
   },
   "source": [
    "### Output of the test data file \n",
    "\n",
    "Save the sentences in a csv file where there are 3 columns: paper ID, sentence ID, and sentence text to be our testing data. This dataframe includes full texts per row and the paper id they belog to.\n",
    "\n",
    "I did not save the indexes as it would create multiple index columns when we reread in the file."
   ]
  },
  {
   "cell_type": "code",
   "execution_count": null,
   "metadata": {
    "pycharm": {
     "name": "#%%\n"
    }
   },
   "outputs": [],
   "source": [
    "covid_df.to_csv('/Users/elif/Desktop/covid_testing_data_May.csv', index = False, encoding= 'utf-8')"
   ]
  },
  {
   "cell_type": "markdown",
   "metadata": {
    "pycharm": {
     "name": "#%% md\n"
    }
   },
   "source": [
    "## Characteristics of data\n",
    "\n",
    "Create a program that will take a csv file and report:\n",
    " - number of sentences\n",
    " - number of sentences with terms\n",
    " - individual term counts (how many times each term appears\n",
    " - given a collection of symptom terms X in a csv file, for each term in X, its count in the collection, sorted in descending order"
   ]
  },
  {
   "cell_type": "markdown",
   "metadata": {
    "pycharm": {
     "name": "#%% md\n"
    }
   },
   "source": [
    "## Function that produces total number of sentences, papers that include our symptoms "
   ]
  },
  {
   "cell_type": "code",
   "execution_count": 11,
   "metadata": {},
   "outputs": [],
   "source": [
    "def char_of_data(df):\n",
    "    '''\n",
    "    functiono produces data characteristics such as number of sentences in the data frame, how many of those have \n",
    "    any of the symptoms and how many times each smyptom accour in these sentences. \n",
    "    \n",
    "    :param df: data frame that includes the sentence and paper_id for our data\n",
    "    returns sorted in descending order of the symptoms and the summary \n",
    "    '''\n",
    "    #print('Total number of papers published in the month of May', len(new_df['Paper_Id'].unique()))\n",
    "    #print('Total number of sentences from the papers that are published in the given time frame is', len(new_df['Sentence']))\n",
    "    print('Total number of sentences in the final data frame with symptoms is', len(df['Sentence']))\n",
    "    print('Total number of unique papers in the final data frame is', len(df['Paper_Id'].unique()))\n"
   ]
  },
  {
   "cell_type": "code",
   "execution_count": 12,
   "metadata": {
    "pycharm": {
     "name": "#%%\n"
    }
   },
   "outputs": [
    {
     "name": "stdout",
     "output_type": "stream",
     "text": [
      "Total number of sentences in the final data frame with symptoms is 27265\n",
      "Total number of unique papers in the final data frame is 5970\n"
     ]
    }
   ],
   "source": [
    "char_of_data(covid_df)"
   ]
  },
  {
   "cell_type": "markdown",
   "metadata": {
    "pycharm": {
     "name": "#%% md\n"
    }
   },
   "source": [
    "## Function that produces the count of symptoms in the given data frame"
   ]
  },
  {
   "cell_type": "code",
   "execution_count": 13,
   "metadata": {
    "pycharm": {
     "name": "#%%\n"
    },
    "scrolled": true
   },
   "outputs": [],
   "source": [
    "#use df symptom count module\n",
    "import df_symptom_count as sym_count\n",
    "sym_df = sym_count.symptoms_df(covid_df, symptoms)"
   ]
  },
  {
   "cell_type": "code",
   "execution_count": 14,
   "metadata": {
    "scrolled": true
   },
   "outputs": [
    {
     "data": {
      "text/html": [
       "<div>\n",
       "<style scoped>\n",
       "    .dataframe tbody tr th:only-of-type {\n",
       "        vertical-align: middle;\n",
       "    }\n",
       "\n",
       "    .dataframe tbody tr th {\n",
       "        vertical-align: top;\n",
       "    }\n",
       "\n",
       "    .dataframe thead th {\n",
       "        text-align: right;\n",
       "    }\n",
       "</style>\n",
       "<table border=\"1\" class=\"dataframe\">\n",
       "  <thead>\n",
       "    <tr style=\"text-align: right;\">\n",
       "      <th></th>\n",
       "      <th>Counts</th>\n",
       "    </tr>\n",
       "    <tr>\n",
       "      <th>Symptoms</th>\n",
       "      <th></th>\n",
       "    </tr>\n",
       "  </thead>\n",
       "  <tbody>\n",
       "    <tr>\n",
       "      <th>fever</th>\n",
       "      <td>7145</td>\n",
       "    </tr>\n",
       "    <tr>\n",
       "      <th>anxiety</th>\n",
       "      <td>5130</td>\n",
       "    </tr>\n",
       "    <tr>\n",
       "      <th>cough</th>\n",
       "      <td>4775</td>\n",
       "    </tr>\n",
       "    <tr>\n",
       "      <th>depression</th>\n",
       "      <td>2990</td>\n",
       "    </tr>\n",
       "    <tr>\n",
       "      <th>discharge</th>\n",
       "      <td>2601</td>\n",
       "    </tr>\n",
       "  </tbody>\n",
       "</table>\n",
       "</div>"
      ],
      "text/plain": [
       "            Counts\n",
       "Symptoms          \n",
       "fever         7145\n",
       "anxiety       5130\n",
       "cough         4775\n",
       "depression    2990\n",
       "discharge     2601"
      ]
     },
     "execution_count": 14,
     "metadata": {},
     "output_type": "execute_result"
    }
   ],
   "source": [
    "sym_df.head()"
   ]
  },
  {
   "cell_type": "markdown",
   "metadata": {
    "pycharm": {
     "name": "#%% md\n"
    }
   },
   "source": [
    "Sym_df shows how many time each symptom from our list of symptoms appear ont he given data frame.\n",
    "If you wish to check the count of different list of symptoms, please update the second parameter in the above function call.\n",
    "### Visualization of symptom counts"
   ]
  },
  {
   "cell_type": "code",
   "execution_count": 15,
   "metadata": {
    "pycharm": {
     "name": "#%%\n"
    }
   },
   "outputs": [
    {
     "data": {
      "application/vnd.plotly.v1+json": {
       "config": {
        "linkText": "Export to plot.ly",
        "plotlyServerURL": "https://plot.ly",
        "showLink": true
       },
       "data": [
        {
         "line": {
          "color": "rgba(255, 153, 51, 1.0)",
          "dash": "solid",
          "shape": "linear",
          "width": 1.3
         },
         "marker": {
          "size": 10,
          "symbol": "circle"
         },
         "mode": "markers",
         "name": "Counts",
         "text": "",
         "type": "scatter",
         "x": [
          "fever",
          "anxiety",
          "cough",
          "depression",
          "discharge",
          "diarrhea",
          "fatigue",
          "dyspnea",
          "bleeding",
          "headache",
          "edema",
          "lymphopenia",
          "shortness of breath",
          "anosmia",
          "vomiting",
          "confusion",
          "nausea",
          "urologic",
          "myalgia",
          "sore throat",
          "rash",
          "sneezing",
          "abdominal pain",
          "arrhythmia",
          "congestion",
          "chest pain",
          "weight loss",
          "tachycardia",
          "insomnia",
          "dizziness",
          "swelling",
          "dysgeusia",
          "chills",
          "loss of smell",
          "urticaria",
          "malaise",
          "paralysis",
          "dysphagia",
          "rhinorrhea",
          "nasal congestion",
          "ataxia",
          "suicidal ideation",
          "skin lesions",
          "apnea",
          "weight gain",
          "loss of taste",
          "runny nose",
          "bradycardia",
          "nasal obstruction",
          "chest tightness",
          "sputum production",
          "tachypnea",
          "hemoptysis",
          "itching",
          "hearing loss",
          "hematuria",
          "asthenia",
          "syncope",
          "loss of appetite",
          "arthralgia",
          "miscarriage",
          "back pain",
          "difficulty breathing",
          "infertility",
          "irritability",
          "constipation",
          "tremor",
          "epistaxis",
          "paresis",
          "pyrexia",
          "jaundice",
          "alopecia",
          "muscle ache",
          "deformity",
          "palpitations",
          "swollen",
          "taste loss",
          "hypothermia",
          "purpura",
          "mania",
          "petechia",
          "nasal discharge",
          "muscle weakness",
          "convulsions",
          "body aches",
          "loss of consciousness",
          "laceration",
          "neuralgia",
          "tachypnoea",
          "tinnitus",
          "urinary retention",
          "paresthesia",
          "blister",
          "apathy",
          "decreased appetite",
          "aphasia",
          "hallucination",
          "myoclonus",
          "dysarthria",
          "delusion",
          "somnolence",
          "anhedonia",
          "abrasion",
          "shivering",
          "polyuria",
          "chest discomfort",
          "exophthalmos",
          "melena",
          "dysuria",
          "neck stiffness",
          "blurred vision",
          "sweats",
          "urinary frequency",
          "vertigo",
          "bloating",
          "urinary incontinence",
          "bruising",
          "pleuritic chest pain",
          "odynophagia",
          "sciatica",
          "dry mouth",
          "euphoria",
          "bradykinesia",
          "dyspepsia",
          "orthopnea",
          "dystonia",
          "impotence",
          "vaginal discharge",
          "nasal inflammation",
          "claudication",
          "flatulence",
          "persistent pain",
          "nystagmus",
          "toothache",
          "paranoid ideation",
          "mydriasis",
          "trismus",
          "chest pressure",
          "amnesia",
          "trouble breathing",
          "ecchymosis",
          "amenorrhea",
          "hypopnea",
          "bluish lips",
          "heartburn",
          "belching",
          "bloody stool",
          "pressure in the chest",
          "pelvic pain",
          "otalgia",
          "hirsutism",
          "hematochezia",
          "dysphonia",
          "muscle cramps",
          "akinesia",
          "stay awake",
          "miosis",
          "chorea",
          "fasciculation",
          "amaurosis",
          "bradypnea",
          "hypersomnia",
          "anasarca",
          "otorrhea",
          "blepharospasm",
          "double vision",
          "apraxia",
          "depressıon",
          "anomia",
          "urethral discharge",
          "akathisia",
          "inability to wake",
          "burning sensation in the chest",
          "steatorrhea",
          "amaurosis fugax",
          "retrograde ejaculation",
          "dysdiadochokinesia",
          "dysgraphia",
          "opisthotonus",
          "anosognosia",
          "halitosis",
          "platypnea"
         ],
         "y": [
          7145,
          5130,
          4775,
          2990,
          2601,
          1582,
          1393,
          1358,
          1207,
          1138,
          1092,
          1048,
          1026,
          945,
          909,
          787,
          733,
          727,
          721,
          651,
          585,
          501,
          490,
          457,
          440,
          409,
          398,
          325,
          294,
          245,
          238,
          222,
          222,
          214,
          207,
          200,
          185,
          175,
          174,
          158,
          154,
          153,
          151,
          144,
          143,
          142,
          129,
          127,
          122,
          115,
          114,
          113,
          107,
          105,
          95,
          93,
          92,
          90,
          84,
          84,
          84,
          77,
          75,
          74,
          74,
          72,
          70,
          70,
          69,
          66,
          66,
          62,
          61,
          60,
          59,
          56,
          56,
          55,
          55,
          49,
          48,
          48,
          48,
          47,
          43,
          37,
          37,
          36,
          35,
          33,
          32,
          30,
          30,
          30,
          30,
          28,
          28,
          27,
          27,
          27,
          27,
          26,
          26,
          26,
          24,
          22,
          22,
          22,
          21,
          19,
          18,
          16,
          16,
          16,
          15,
          15,
          15,
          15,
          13,
          13,
          13,
          12,
          11,
          11,
          10,
          10,
          10,
          9,
          8,
          8,
          8,
          8,
          7,
          7,
          7,
          7,
          6,
          6,
          6,
          6,
          6,
          5,
          5,
          5,
          5,
          5,
          5,
          4,
          4,
          4,
          4,
          4,
          4,
          4,
          4,
          3,
          3,
          3,
          3,
          3,
          3,
          2,
          2,
          2,
          2,
          2,
          2,
          2,
          2,
          1,
          1,
          1,
          1,
          1,
          1,
          1,
          1,
          1,
          1,
          1,
          1,
          1
         ]
        }
       ],
       "layout": {
        "legend": {
         "bgcolor": "#F5F6F9",
         "font": {
          "color": "#4D5663"
         }
        },
        "paper_bgcolor": "#F5F6F9",
        "plot_bgcolor": "#F5F6F9",
        "template": {
         "data": {
          "bar": [
           {
            "error_x": {
             "color": "#2a3f5f"
            },
            "error_y": {
             "color": "#2a3f5f"
            },
            "marker": {
             "line": {
              "color": "#E5ECF6",
              "width": 0.5
             }
            },
            "type": "bar"
           }
          ],
          "barpolar": [
           {
            "marker": {
             "line": {
              "color": "#E5ECF6",
              "width": 0.5
             }
            },
            "type": "barpolar"
           }
          ],
          "carpet": [
           {
            "aaxis": {
             "endlinecolor": "#2a3f5f",
             "gridcolor": "white",
             "linecolor": "white",
             "minorgridcolor": "white",
             "startlinecolor": "#2a3f5f"
            },
            "baxis": {
             "endlinecolor": "#2a3f5f",
             "gridcolor": "white",
             "linecolor": "white",
             "minorgridcolor": "white",
             "startlinecolor": "#2a3f5f"
            },
            "type": "carpet"
           }
          ],
          "choropleth": [
           {
            "colorbar": {
             "outlinewidth": 0,
             "ticks": ""
            },
            "type": "choropleth"
           }
          ],
          "contour": [
           {
            "colorbar": {
             "outlinewidth": 0,
             "ticks": ""
            },
            "colorscale": [
             [
              0,
              "#0d0887"
             ],
             [
              0.1111111111111111,
              "#46039f"
             ],
             [
              0.2222222222222222,
              "#7201a8"
             ],
             [
              0.3333333333333333,
              "#9c179e"
             ],
             [
              0.4444444444444444,
              "#bd3786"
             ],
             [
              0.5555555555555556,
              "#d8576b"
             ],
             [
              0.6666666666666666,
              "#ed7953"
             ],
             [
              0.7777777777777778,
              "#fb9f3a"
             ],
             [
              0.8888888888888888,
              "#fdca26"
             ],
             [
              1,
              "#f0f921"
             ]
            ],
            "type": "contour"
           }
          ],
          "contourcarpet": [
           {
            "colorbar": {
             "outlinewidth": 0,
             "ticks": ""
            },
            "type": "contourcarpet"
           }
          ],
          "heatmap": [
           {
            "colorbar": {
             "outlinewidth": 0,
             "ticks": ""
            },
            "colorscale": [
             [
              0,
              "#0d0887"
             ],
             [
              0.1111111111111111,
              "#46039f"
             ],
             [
              0.2222222222222222,
              "#7201a8"
             ],
             [
              0.3333333333333333,
              "#9c179e"
             ],
             [
              0.4444444444444444,
              "#bd3786"
             ],
             [
              0.5555555555555556,
              "#d8576b"
             ],
             [
              0.6666666666666666,
              "#ed7953"
             ],
             [
              0.7777777777777778,
              "#fb9f3a"
             ],
             [
              0.8888888888888888,
              "#fdca26"
             ],
             [
              1,
              "#f0f921"
             ]
            ],
            "type": "heatmap"
           }
          ],
          "heatmapgl": [
           {
            "colorbar": {
             "outlinewidth": 0,
             "ticks": ""
            },
            "colorscale": [
             [
              0,
              "#0d0887"
             ],
             [
              0.1111111111111111,
              "#46039f"
             ],
             [
              0.2222222222222222,
              "#7201a8"
             ],
             [
              0.3333333333333333,
              "#9c179e"
             ],
             [
              0.4444444444444444,
              "#bd3786"
             ],
             [
              0.5555555555555556,
              "#d8576b"
             ],
             [
              0.6666666666666666,
              "#ed7953"
             ],
             [
              0.7777777777777778,
              "#fb9f3a"
             ],
             [
              0.8888888888888888,
              "#fdca26"
             ],
             [
              1,
              "#f0f921"
             ]
            ],
            "type": "heatmapgl"
           }
          ],
          "histogram": [
           {
            "marker": {
             "colorbar": {
              "outlinewidth": 0,
              "ticks": ""
             }
            },
            "type": "histogram"
           }
          ],
          "histogram2d": [
           {
            "colorbar": {
             "outlinewidth": 0,
             "ticks": ""
            },
            "colorscale": [
             [
              0,
              "#0d0887"
             ],
             [
              0.1111111111111111,
              "#46039f"
             ],
             [
              0.2222222222222222,
              "#7201a8"
             ],
             [
              0.3333333333333333,
              "#9c179e"
             ],
             [
              0.4444444444444444,
              "#bd3786"
             ],
             [
              0.5555555555555556,
              "#d8576b"
             ],
             [
              0.6666666666666666,
              "#ed7953"
             ],
             [
              0.7777777777777778,
              "#fb9f3a"
             ],
             [
              0.8888888888888888,
              "#fdca26"
             ],
             [
              1,
              "#f0f921"
             ]
            ],
            "type": "histogram2d"
           }
          ],
          "histogram2dcontour": [
           {
            "colorbar": {
             "outlinewidth": 0,
             "ticks": ""
            },
            "colorscale": [
             [
              0,
              "#0d0887"
             ],
             [
              0.1111111111111111,
              "#46039f"
             ],
             [
              0.2222222222222222,
              "#7201a8"
             ],
             [
              0.3333333333333333,
              "#9c179e"
             ],
             [
              0.4444444444444444,
              "#bd3786"
             ],
             [
              0.5555555555555556,
              "#d8576b"
             ],
             [
              0.6666666666666666,
              "#ed7953"
             ],
             [
              0.7777777777777778,
              "#fb9f3a"
             ],
             [
              0.8888888888888888,
              "#fdca26"
             ],
             [
              1,
              "#f0f921"
             ]
            ],
            "type": "histogram2dcontour"
           }
          ],
          "mesh3d": [
           {
            "colorbar": {
             "outlinewidth": 0,
             "ticks": ""
            },
            "type": "mesh3d"
           }
          ],
          "parcoords": [
           {
            "line": {
             "colorbar": {
              "outlinewidth": 0,
              "ticks": ""
             }
            },
            "type": "parcoords"
           }
          ],
          "pie": [
           {
            "automargin": true,
            "type": "pie"
           }
          ],
          "scatter": [
           {
            "marker": {
             "colorbar": {
              "outlinewidth": 0,
              "ticks": ""
             }
            },
            "type": "scatter"
           }
          ],
          "scatter3d": [
           {
            "line": {
             "colorbar": {
              "outlinewidth": 0,
              "ticks": ""
             }
            },
            "marker": {
             "colorbar": {
              "outlinewidth": 0,
              "ticks": ""
             }
            },
            "type": "scatter3d"
           }
          ],
          "scattercarpet": [
           {
            "marker": {
             "colorbar": {
              "outlinewidth": 0,
              "ticks": ""
             }
            },
            "type": "scattercarpet"
           }
          ],
          "scattergeo": [
           {
            "marker": {
             "colorbar": {
              "outlinewidth": 0,
              "ticks": ""
             }
            },
            "type": "scattergeo"
           }
          ],
          "scattergl": [
           {
            "marker": {
             "colorbar": {
              "outlinewidth": 0,
              "ticks": ""
             }
            },
            "type": "scattergl"
           }
          ],
          "scattermapbox": [
           {
            "marker": {
             "colorbar": {
              "outlinewidth": 0,
              "ticks": ""
             }
            },
            "type": "scattermapbox"
           }
          ],
          "scatterpolar": [
           {
            "marker": {
             "colorbar": {
              "outlinewidth": 0,
              "ticks": ""
             }
            },
            "type": "scatterpolar"
           }
          ],
          "scatterpolargl": [
           {
            "marker": {
             "colorbar": {
              "outlinewidth": 0,
              "ticks": ""
             }
            },
            "type": "scatterpolargl"
           }
          ],
          "scatterternary": [
           {
            "marker": {
             "colorbar": {
              "outlinewidth": 0,
              "ticks": ""
             }
            },
            "type": "scatterternary"
           }
          ],
          "surface": [
           {
            "colorbar": {
             "outlinewidth": 0,
             "ticks": ""
            },
            "colorscale": [
             [
              0,
              "#0d0887"
             ],
             [
              0.1111111111111111,
              "#46039f"
             ],
             [
              0.2222222222222222,
              "#7201a8"
             ],
             [
              0.3333333333333333,
              "#9c179e"
             ],
             [
              0.4444444444444444,
              "#bd3786"
             ],
             [
              0.5555555555555556,
              "#d8576b"
             ],
             [
              0.6666666666666666,
              "#ed7953"
             ],
             [
              0.7777777777777778,
              "#fb9f3a"
             ],
             [
              0.8888888888888888,
              "#fdca26"
             ],
             [
              1,
              "#f0f921"
             ]
            ],
            "type": "surface"
           }
          ],
          "table": [
           {
            "cells": {
             "fill": {
              "color": "#EBF0F8"
             },
             "line": {
              "color": "white"
             }
            },
            "header": {
             "fill": {
              "color": "#C8D4E3"
             },
             "line": {
              "color": "white"
             }
            },
            "type": "table"
           }
          ]
         },
         "layout": {
          "annotationdefaults": {
           "arrowcolor": "#2a3f5f",
           "arrowhead": 0,
           "arrowwidth": 1
          },
          "coloraxis": {
           "colorbar": {
            "outlinewidth": 0,
            "ticks": ""
           }
          },
          "colorscale": {
           "diverging": [
            [
             0,
             "#8e0152"
            ],
            [
             0.1,
             "#c51b7d"
            ],
            [
             0.2,
             "#de77ae"
            ],
            [
             0.3,
             "#f1b6da"
            ],
            [
             0.4,
             "#fde0ef"
            ],
            [
             0.5,
             "#f7f7f7"
            ],
            [
             0.6,
             "#e6f5d0"
            ],
            [
             0.7,
             "#b8e186"
            ],
            [
             0.8,
             "#7fbc41"
            ],
            [
             0.9,
             "#4d9221"
            ],
            [
             1,
             "#276419"
            ]
           ],
           "sequential": [
            [
             0,
             "#0d0887"
            ],
            [
             0.1111111111111111,
             "#46039f"
            ],
            [
             0.2222222222222222,
             "#7201a8"
            ],
            [
             0.3333333333333333,
             "#9c179e"
            ],
            [
             0.4444444444444444,
             "#bd3786"
            ],
            [
             0.5555555555555556,
             "#d8576b"
            ],
            [
             0.6666666666666666,
             "#ed7953"
            ],
            [
             0.7777777777777778,
             "#fb9f3a"
            ],
            [
             0.8888888888888888,
             "#fdca26"
            ],
            [
             1,
             "#f0f921"
            ]
           ],
           "sequentialminus": [
            [
             0,
             "#0d0887"
            ],
            [
             0.1111111111111111,
             "#46039f"
            ],
            [
             0.2222222222222222,
             "#7201a8"
            ],
            [
             0.3333333333333333,
             "#9c179e"
            ],
            [
             0.4444444444444444,
             "#bd3786"
            ],
            [
             0.5555555555555556,
             "#d8576b"
            ],
            [
             0.6666666666666666,
             "#ed7953"
            ],
            [
             0.7777777777777778,
             "#fb9f3a"
            ],
            [
             0.8888888888888888,
             "#fdca26"
            ],
            [
             1,
             "#f0f921"
            ]
           ]
          },
          "colorway": [
           "#636efa",
           "#EF553B",
           "#00cc96",
           "#ab63fa",
           "#FFA15A",
           "#19d3f3",
           "#FF6692",
           "#B6E880",
           "#FF97FF",
           "#FECB52"
          ],
          "font": {
           "color": "#2a3f5f"
          },
          "geo": {
           "bgcolor": "white",
           "lakecolor": "white",
           "landcolor": "#E5ECF6",
           "showlakes": true,
           "showland": true,
           "subunitcolor": "white"
          },
          "hoverlabel": {
           "align": "left"
          },
          "hovermode": "closest",
          "mapbox": {
           "style": "light"
          },
          "paper_bgcolor": "white",
          "plot_bgcolor": "#E5ECF6",
          "polar": {
           "angularaxis": {
            "gridcolor": "white",
            "linecolor": "white",
            "ticks": ""
           },
           "bgcolor": "#E5ECF6",
           "radialaxis": {
            "gridcolor": "white",
            "linecolor": "white",
            "ticks": ""
           }
          },
          "scene": {
           "xaxis": {
            "backgroundcolor": "#E5ECF6",
            "gridcolor": "white",
            "gridwidth": 2,
            "linecolor": "white",
            "showbackground": true,
            "ticks": "",
            "zerolinecolor": "white"
           },
           "yaxis": {
            "backgroundcolor": "#E5ECF6",
            "gridcolor": "white",
            "gridwidth": 2,
            "linecolor": "white",
            "showbackground": true,
            "ticks": "",
            "zerolinecolor": "white"
           },
           "zaxis": {
            "backgroundcolor": "#E5ECF6",
            "gridcolor": "white",
            "gridwidth": 2,
            "linecolor": "white",
            "showbackground": true,
            "ticks": "",
            "zerolinecolor": "white"
           }
          },
          "shapedefaults": {
           "line": {
            "color": "#2a3f5f"
           }
          },
          "ternary": {
           "aaxis": {
            "gridcolor": "white",
            "linecolor": "white",
            "ticks": ""
           },
           "baxis": {
            "gridcolor": "white",
            "linecolor": "white",
            "ticks": ""
           },
           "bgcolor": "#E5ECF6",
           "caxis": {
            "gridcolor": "white",
            "linecolor": "white",
            "ticks": ""
           }
          },
          "title": {
           "x": 0.05
          },
          "xaxis": {
           "automargin": true,
           "gridcolor": "white",
           "linecolor": "white",
           "ticks": "",
           "title": {
            "standoff": 15
           },
           "zerolinecolor": "white",
           "zerolinewidth": 2
          },
          "yaxis": {
           "automargin": true,
           "gridcolor": "white",
           "linecolor": "white",
           "ticks": "",
           "title": {
            "standoff": 15
           },
           "zerolinecolor": "white",
           "zerolinewidth": 2
          }
         }
        },
        "title": {
         "font": {
          "color": "#4D5663"
         }
        },
        "xaxis": {
         "gridcolor": "#E1E5ED",
         "showgrid": true,
         "tickfont": {
          "color": "#4D5663"
         },
         "title": {
          "font": {
           "color": "#4D5663"
          },
          "text": ""
         },
         "zerolinecolor": "#E1E5ED"
        },
        "yaxis": {
         "gridcolor": "#E1E5ED",
         "showgrid": true,
         "tickfont": {
          "color": "#4D5663"
         },
         "title": {
          "font": {
           "color": "#4D5663"
          },
          "text": ""
         },
         "zerolinecolor": "#E1E5ED"
        }
       }
      },
      "text/html": [
       "<div>                            <div id=\"d75b3361-5ed8-40ab-b671-7367b685daa9\" class=\"plotly-graph-div\" style=\"height:525px; width:100%;\"></div>            <script type=\"text/javascript\">                require([\"plotly\"], function(Plotly) {                    window.PLOTLYENV=window.PLOTLYENV || {};\n",
       "                    window.PLOTLYENV.BASE_URL='https://plot.ly';                                    if (document.getElementById(\"d75b3361-5ed8-40ab-b671-7367b685daa9\")) {                    Plotly.newPlot(                        \"d75b3361-5ed8-40ab-b671-7367b685daa9\",                        [{\"line\": {\"color\": \"rgba(255, 153, 51, 1.0)\", \"dash\": \"solid\", \"shape\": \"linear\", \"width\": 1.3}, \"marker\": {\"size\": 10, \"symbol\": \"circle\"}, \"mode\": \"markers\", \"name\": \"Counts\", \"text\": \"\", \"type\": \"scatter\", \"x\": [\"fever\", \"anxiety\", \"cough\", \"depression\", \"discharge\", \"diarrhea\", \"fatigue\", \"dyspnea\", \"bleeding\", \"headache\", \"edema\", \"lymphopenia\", \"shortness of breath\", \"anosmia\", \"vomiting\", \"confusion\", \"nausea\", \"urologic\", \"myalgia\", \"sore throat\", \"rash\", \"sneezing\", \"abdominal pain\", \"arrhythmia\", \"congestion\", \"chest pain\", \"weight loss\", \"tachycardia\", \"insomnia\", \"dizziness\", \"swelling\", \"dysgeusia\", \"chills\", \"loss of smell\", \"urticaria\", \"malaise\", \"paralysis\", \"dysphagia\", \"rhinorrhea\", \"nasal congestion\", \"ataxia\", \"suicidal ideation\", \"skin lesions\", \"apnea\", \"weight gain\", \"loss of taste\", \"runny nose\", \"bradycardia\", \"nasal obstruction\", \"chest tightness\", \"sputum production\", \"tachypnea\", \"hemoptysis\", \"itching\", \"hearing loss\", \"hematuria\", \"asthenia\", \"syncope\", \"loss of appetite\", \"arthralgia\", \"miscarriage\", \"back pain\", \"difficulty breathing\", \"infertility\", \"irritability\", \"constipation\", \"tremor\", \"epistaxis\", \"paresis\", \"pyrexia\", \"jaundice\", \"alopecia\", \"muscle ache\", \"deformity\", \"palpitations\", \"swollen\", \"taste loss\", \"hypothermia\", \"purpura\", \"mania\", \"petechia\", \"nasal discharge\", \"muscle weakness\", \"convulsions\", \"body aches\", \"loss of consciousness\", \"laceration\", \"neuralgia\", \"tachypnoea\", \"tinnitus\", \"urinary retention\", \"paresthesia\", \"blister\", \"apathy\", \"decreased appetite\", \"aphasia\", \"hallucination\", \"myoclonus\", \"dysarthria\", \"delusion\", \"somnolence\", \"anhedonia\", \"abrasion\", \"shivering\", \"polyuria\", \"chest discomfort\", \"exophthalmos\", \"melena\", \"dysuria\", \"neck stiffness\", \"blurred vision\", \"sweats\", \"urinary frequency\", \"vertigo\", \"bloating\", \"urinary incontinence\", \"bruising\", \"pleuritic chest pain\", \"odynophagia\", \"sciatica\", \"dry mouth\", \"euphoria\", \"bradykinesia\", \"dyspepsia\", \"orthopnea\", \"dystonia\", \"impotence\", \"vaginal discharge\", \"nasal inflammation\", \"claudication\", \"flatulence\", \"persistent pain\", \"nystagmus\", \"toothache\", \"paranoid ideation\", \"mydriasis\", \"trismus\", \"chest pressure\", \"amnesia\", \"trouble breathing\", \"ecchymosis\", \"amenorrhea\", \"hypopnea\", \"bluish lips\", \"heartburn\", \"belching\", \"bloody stool\", \"pressure in the chest\", \"pelvic pain\", \"otalgia\", \"hirsutism\", \"hematochezia\", \"dysphonia\", \"muscle cramps\", \"akinesia\", \"stay awake\", \"miosis\", \"chorea\", \"fasciculation\", \"amaurosis\", \"bradypnea\", \"hypersomnia\", \"anasarca\", \"otorrhea\", \"blepharospasm\", \"double vision\", \"apraxia\", \"depress\\u0131on\", \"anomia\", \"urethral discharge\", \"akathisia\", \"inability to wake\", \"burning sensation in the chest\", \"steatorrhea\", \"amaurosis fugax\", \"retrograde ejaculation\", \"dysdiadochokinesia\", \"dysgraphia\", \"opisthotonus\", \"anosognosia\", \"halitosis\", \"platypnea\"], \"y\": [7145, 5130, 4775, 2990, 2601, 1582, 1393, 1358, 1207, 1138, 1092, 1048, 1026, 945, 909, 787, 733, 727, 721, 651, 585, 501, 490, 457, 440, 409, 398, 325, 294, 245, 238, 222, 222, 214, 207, 200, 185, 175, 174, 158, 154, 153, 151, 144, 143, 142, 129, 127, 122, 115, 114, 113, 107, 105, 95, 93, 92, 90, 84, 84, 84, 77, 75, 74, 74, 72, 70, 70, 69, 66, 66, 62, 61, 60, 59, 56, 56, 55, 55, 49, 48, 48, 48, 47, 43, 37, 37, 36, 35, 33, 32, 30, 30, 30, 30, 28, 28, 27, 27, 27, 27, 26, 26, 26, 24, 22, 22, 22, 21, 19, 18, 16, 16, 16, 15, 15, 15, 15, 13, 13, 13, 12, 11, 11, 10, 10, 10, 9, 8, 8, 8, 8, 7, 7, 7, 7, 6, 6, 6, 6, 6, 5, 5, 5, 5, 5, 5, 4, 4, 4, 4, 4, 4, 4, 4, 3, 3, 3, 3, 3, 3, 2, 2, 2, 2, 2, 2, 2, 2, 1, 1, 1, 1, 1, 1, 1, 1, 1, 1, 1, 1, 1]}],                        {\"legend\": {\"bgcolor\": \"#F5F6F9\", \"font\": {\"color\": \"#4D5663\"}}, \"paper_bgcolor\": \"#F5F6F9\", \"plot_bgcolor\": \"#F5F6F9\", \"template\": {\"data\": {\"bar\": [{\"error_x\": {\"color\": \"#2a3f5f\"}, \"error_y\": {\"color\": \"#2a3f5f\"}, \"marker\": {\"line\": {\"color\": \"#E5ECF6\", \"width\": 0.5}}, \"type\": \"bar\"}], \"barpolar\": [{\"marker\": {\"line\": {\"color\": \"#E5ECF6\", \"width\": 0.5}}, \"type\": \"barpolar\"}], \"carpet\": [{\"aaxis\": {\"endlinecolor\": \"#2a3f5f\", \"gridcolor\": \"white\", \"linecolor\": \"white\", \"minorgridcolor\": \"white\", \"startlinecolor\": \"#2a3f5f\"}, \"baxis\": {\"endlinecolor\": \"#2a3f5f\", \"gridcolor\": \"white\", \"linecolor\": \"white\", \"minorgridcolor\": \"white\", \"startlinecolor\": \"#2a3f5f\"}, \"type\": \"carpet\"}], \"choropleth\": [{\"colorbar\": {\"outlinewidth\": 0, \"ticks\": \"\"}, \"type\": \"choropleth\"}], \"contour\": [{\"colorbar\": {\"outlinewidth\": 0, \"ticks\": \"\"}, \"colorscale\": [[0.0, \"#0d0887\"], [0.1111111111111111, \"#46039f\"], [0.2222222222222222, \"#7201a8\"], [0.3333333333333333, \"#9c179e\"], [0.4444444444444444, \"#bd3786\"], [0.5555555555555556, \"#d8576b\"], [0.6666666666666666, \"#ed7953\"], [0.7777777777777778, \"#fb9f3a\"], [0.8888888888888888, \"#fdca26\"], [1.0, \"#f0f921\"]], \"type\": \"contour\"}], \"contourcarpet\": [{\"colorbar\": {\"outlinewidth\": 0, \"ticks\": \"\"}, \"type\": \"contourcarpet\"}], \"heatmap\": [{\"colorbar\": {\"outlinewidth\": 0, \"ticks\": \"\"}, \"colorscale\": [[0.0, \"#0d0887\"], [0.1111111111111111, \"#46039f\"], [0.2222222222222222, \"#7201a8\"], [0.3333333333333333, \"#9c179e\"], [0.4444444444444444, \"#bd3786\"], [0.5555555555555556, \"#d8576b\"], [0.6666666666666666, \"#ed7953\"], [0.7777777777777778, \"#fb9f3a\"], [0.8888888888888888, \"#fdca26\"], [1.0, \"#f0f921\"]], \"type\": \"heatmap\"}], \"heatmapgl\": [{\"colorbar\": {\"outlinewidth\": 0, \"ticks\": \"\"}, \"colorscale\": [[0.0, \"#0d0887\"], [0.1111111111111111, \"#46039f\"], [0.2222222222222222, \"#7201a8\"], [0.3333333333333333, \"#9c179e\"], [0.4444444444444444, \"#bd3786\"], [0.5555555555555556, \"#d8576b\"], [0.6666666666666666, \"#ed7953\"], [0.7777777777777778, \"#fb9f3a\"], [0.8888888888888888, \"#fdca26\"], [1.0, \"#f0f921\"]], \"type\": \"heatmapgl\"}], \"histogram\": [{\"marker\": {\"colorbar\": {\"outlinewidth\": 0, \"ticks\": \"\"}}, \"type\": \"histogram\"}], \"histogram2d\": [{\"colorbar\": {\"outlinewidth\": 0, \"ticks\": \"\"}, \"colorscale\": [[0.0, \"#0d0887\"], [0.1111111111111111, \"#46039f\"], [0.2222222222222222, \"#7201a8\"], [0.3333333333333333, \"#9c179e\"], [0.4444444444444444, \"#bd3786\"], [0.5555555555555556, \"#d8576b\"], [0.6666666666666666, \"#ed7953\"], [0.7777777777777778, \"#fb9f3a\"], [0.8888888888888888, \"#fdca26\"], [1.0, \"#f0f921\"]], \"type\": \"histogram2d\"}], \"histogram2dcontour\": [{\"colorbar\": {\"outlinewidth\": 0, \"ticks\": \"\"}, \"colorscale\": [[0.0, \"#0d0887\"], [0.1111111111111111, \"#46039f\"], [0.2222222222222222, \"#7201a8\"], [0.3333333333333333, \"#9c179e\"], [0.4444444444444444, \"#bd3786\"], [0.5555555555555556, \"#d8576b\"], [0.6666666666666666, \"#ed7953\"], [0.7777777777777778, \"#fb9f3a\"], [0.8888888888888888, \"#fdca26\"], [1.0, \"#f0f921\"]], \"type\": \"histogram2dcontour\"}], \"mesh3d\": [{\"colorbar\": {\"outlinewidth\": 0, \"ticks\": \"\"}, \"type\": \"mesh3d\"}], \"parcoords\": [{\"line\": {\"colorbar\": {\"outlinewidth\": 0, \"ticks\": \"\"}}, \"type\": \"parcoords\"}], \"pie\": [{\"automargin\": true, \"type\": \"pie\"}], \"scatter\": [{\"marker\": {\"colorbar\": {\"outlinewidth\": 0, \"ticks\": \"\"}}, \"type\": \"scatter\"}], \"scatter3d\": [{\"line\": {\"colorbar\": {\"outlinewidth\": 0, \"ticks\": \"\"}}, \"marker\": {\"colorbar\": {\"outlinewidth\": 0, \"ticks\": \"\"}}, \"type\": \"scatter3d\"}], \"scattercarpet\": [{\"marker\": {\"colorbar\": {\"outlinewidth\": 0, \"ticks\": \"\"}}, \"type\": \"scattercarpet\"}], \"scattergeo\": [{\"marker\": {\"colorbar\": {\"outlinewidth\": 0, \"ticks\": \"\"}}, \"type\": \"scattergeo\"}], \"scattergl\": [{\"marker\": {\"colorbar\": {\"outlinewidth\": 0, \"ticks\": \"\"}}, \"type\": \"scattergl\"}], \"scattermapbox\": [{\"marker\": {\"colorbar\": {\"outlinewidth\": 0, \"ticks\": \"\"}}, \"type\": \"scattermapbox\"}], \"scatterpolar\": [{\"marker\": {\"colorbar\": {\"outlinewidth\": 0, \"ticks\": \"\"}}, \"type\": \"scatterpolar\"}], \"scatterpolargl\": [{\"marker\": {\"colorbar\": {\"outlinewidth\": 0, \"ticks\": \"\"}}, \"type\": \"scatterpolargl\"}], \"scatterternary\": [{\"marker\": {\"colorbar\": {\"outlinewidth\": 0, \"ticks\": \"\"}}, \"type\": \"scatterternary\"}], \"surface\": [{\"colorbar\": {\"outlinewidth\": 0, \"ticks\": \"\"}, \"colorscale\": [[0.0, \"#0d0887\"], [0.1111111111111111, \"#46039f\"], [0.2222222222222222, \"#7201a8\"], [0.3333333333333333, \"#9c179e\"], [0.4444444444444444, \"#bd3786\"], [0.5555555555555556, \"#d8576b\"], [0.6666666666666666, \"#ed7953\"], [0.7777777777777778, \"#fb9f3a\"], [0.8888888888888888, \"#fdca26\"], [1.0, \"#f0f921\"]], \"type\": \"surface\"}], \"table\": [{\"cells\": {\"fill\": {\"color\": \"#EBF0F8\"}, \"line\": {\"color\": \"white\"}}, \"header\": {\"fill\": {\"color\": \"#C8D4E3\"}, \"line\": {\"color\": \"white\"}}, \"type\": \"table\"}]}, \"layout\": {\"annotationdefaults\": {\"arrowcolor\": \"#2a3f5f\", \"arrowhead\": 0, \"arrowwidth\": 1}, \"coloraxis\": {\"colorbar\": {\"outlinewidth\": 0, \"ticks\": \"\"}}, \"colorscale\": {\"diverging\": [[0, \"#8e0152\"], [0.1, \"#c51b7d\"], [0.2, \"#de77ae\"], [0.3, \"#f1b6da\"], [0.4, \"#fde0ef\"], [0.5, \"#f7f7f7\"], [0.6, \"#e6f5d0\"], [0.7, \"#b8e186\"], [0.8, \"#7fbc41\"], [0.9, \"#4d9221\"], [1, \"#276419\"]], \"sequential\": [[0.0, \"#0d0887\"], [0.1111111111111111, \"#46039f\"], [0.2222222222222222, \"#7201a8\"], [0.3333333333333333, \"#9c179e\"], [0.4444444444444444, \"#bd3786\"], [0.5555555555555556, \"#d8576b\"], [0.6666666666666666, \"#ed7953\"], [0.7777777777777778, \"#fb9f3a\"], [0.8888888888888888, \"#fdca26\"], [1.0, \"#f0f921\"]], \"sequentialminus\": [[0.0, \"#0d0887\"], [0.1111111111111111, \"#46039f\"], [0.2222222222222222, \"#7201a8\"], [0.3333333333333333, \"#9c179e\"], [0.4444444444444444, \"#bd3786\"], [0.5555555555555556, \"#d8576b\"], [0.6666666666666666, \"#ed7953\"], [0.7777777777777778, \"#fb9f3a\"], [0.8888888888888888, \"#fdca26\"], [1.0, \"#f0f921\"]]}, \"colorway\": [\"#636efa\", \"#EF553B\", \"#00cc96\", \"#ab63fa\", \"#FFA15A\", \"#19d3f3\", \"#FF6692\", \"#B6E880\", \"#FF97FF\", \"#FECB52\"], \"font\": {\"color\": \"#2a3f5f\"}, \"geo\": {\"bgcolor\": \"white\", \"lakecolor\": \"white\", \"landcolor\": \"#E5ECF6\", \"showlakes\": true, \"showland\": true, \"subunitcolor\": \"white\"}, \"hoverlabel\": {\"align\": \"left\"}, \"hovermode\": \"closest\", \"mapbox\": {\"style\": \"light\"}, \"paper_bgcolor\": \"white\", \"plot_bgcolor\": \"#E5ECF6\", \"polar\": {\"angularaxis\": {\"gridcolor\": \"white\", \"linecolor\": \"white\", \"ticks\": \"\"}, \"bgcolor\": \"#E5ECF6\", \"radialaxis\": {\"gridcolor\": \"white\", \"linecolor\": \"white\", \"ticks\": \"\"}}, \"scene\": {\"xaxis\": {\"backgroundcolor\": \"#E5ECF6\", \"gridcolor\": \"white\", \"gridwidth\": 2, \"linecolor\": \"white\", \"showbackground\": true, \"ticks\": \"\", \"zerolinecolor\": \"white\"}, \"yaxis\": {\"backgroundcolor\": \"#E5ECF6\", \"gridcolor\": \"white\", \"gridwidth\": 2, \"linecolor\": \"white\", \"showbackground\": true, \"ticks\": \"\", \"zerolinecolor\": \"white\"}, \"zaxis\": {\"backgroundcolor\": \"#E5ECF6\", \"gridcolor\": \"white\", \"gridwidth\": 2, \"linecolor\": \"white\", \"showbackground\": true, \"ticks\": \"\", \"zerolinecolor\": \"white\"}}, \"shapedefaults\": {\"line\": {\"color\": \"#2a3f5f\"}}, \"ternary\": {\"aaxis\": {\"gridcolor\": \"white\", \"linecolor\": \"white\", \"ticks\": \"\"}, \"baxis\": {\"gridcolor\": \"white\", \"linecolor\": \"white\", \"ticks\": \"\"}, \"bgcolor\": \"#E5ECF6\", \"caxis\": {\"gridcolor\": \"white\", \"linecolor\": \"white\", \"ticks\": \"\"}}, \"title\": {\"x\": 0.05}, \"xaxis\": {\"automargin\": true, \"gridcolor\": \"white\", \"linecolor\": \"white\", \"ticks\": \"\", \"title\": {\"standoff\": 15}, \"zerolinecolor\": \"white\", \"zerolinewidth\": 2}, \"yaxis\": {\"automargin\": true, \"gridcolor\": \"white\", \"linecolor\": \"white\", \"ticks\": \"\", \"title\": {\"standoff\": 15}, \"zerolinecolor\": \"white\", \"zerolinewidth\": 2}}}, \"title\": {\"font\": {\"color\": \"#4D5663\"}}, \"xaxis\": {\"gridcolor\": \"#E1E5ED\", \"showgrid\": true, \"tickfont\": {\"color\": \"#4D5663\"}, \"title\": {\"font\": {\"color\": \"#4D5663\"}, \"text\": \"\"}, \"zerolinecolor\": \"#E1E5ED\"}, \"yaxis\": {\"gridcolor\": \"#E1E5ED\", \"showgrid\": true, \"tickfont\": {\"color\": \"#4D5663\"}, \"title\": {\"font\": {\"color\": \"#4D5663\"}, \"text\": \"\"}, \"zerolinecolor\": \"#E1E5ED\"}},                        {\"showLink\": true, \"linkText\": \"Export to plot.ly\", \"plotlyServerURL\": \"https://plot.ly\", \"responsive\": true}                    ).then(function(){\n",
       "                            \n",
       "var gd = document.getElementById('d75b3361-5ed8-40ab-b671-7367b685daa9');\n",
       "var x = new MutationObserver(function (mutations, observer) {{\n",
       "        var display = window.getComputedStyle(gd).display;\n",
       "        if (!display || display === 'none') {{\n",
       "            console.log([gd, 'removed!']);\n",
       "            Plotly.purge(gd);\n",
       "            observer.disconnect();\n",
       "        }}\n",
       "}});\n",
       "\n",
       "// Listen for the removal of the full notebook cells\n",
       "var notebookContainer = gd.closest('#notebook-container');\n",
       "if (notebookContainer) {{\n",
       "    x.observe(notebookContainer, {childList: true});\n",
       "}}\n",
       "\n",
       "// Listen for the clearing of the current output cell\n",
       "var outputEl = gd.closest('.output');\n",
       "if (outputEl) {{\n",
       "    x.observe(outputEl, {childList: true});\n",
       "}}\n",
       "\n",
       "                        })                };                });            </script>        </div>"
      ]
     },
     "metadata": {},
     "output_type": "display_data"
    }
   ],
   "source": [
    "sym_df.iplot(kind='scatter',y='Counts',mode='markers',size=10)"
   ]
  },
  {
   "cell_type": "markdown",
   "metadata": {
    "pycharm": {
     "name": "#%% md\n"
    }
   },
   "source": [
    "Convert symptoms to dictionary with their counts"
   ]
  },
  {
   "cell_type": "code",
   "execution_count": 16,
   "metadata": {},
   "outputs": [
    {
     "data": {
      "text/plain": [
       "{'Counts': {'fever': 7145,\n",
       "  'anxiety': 5130,\n",
       "  'cough': 4775,\n",
       "  'depression': 2990,\n",
       "  'discharge': 2601,\n",
       "  'diarrhea': 1582,\n",
       "  'fatigue': 1393,\n",
       "  'dyspnea': 1358,\n",
       "  'bleeding': 1207,\n",
       "  'headache': 1138,\n",
       "  'edema': 1092,\n",
       "  'lymphopenia': 1048,\n",
       "  'shortness of breath': 1026,\n",
       "  'anosmia': 945,\n",
       "  'vomiting': 909,\n",
       "  'confusion': 787,\n",
       "  'nausea': 733,\n",
       "  'urologic': 727,\n",
       "  'myalgia': 721,\n",
       "  'sore throat': 651,\n",
       "  'rash': 585,\n",
       "  'sneezing': 501,\n",
       "  'abdominal pain': 490,\n",
       "  'arrhythmia': 457,\n",
       "  'congestion': 440,\n",
       "  'chest pain': 409,\n",
       "  'weight loss': 398,\n",
       "  'tachycardia': 325,\n",
       "  'insomnia': 294,\n",
       "  'dizziness': 245,\n",
       "  'swelling': 238,\n",
       "  'dysgeusia': 222,\n",
       "  'chills': 222,\n",
       "  'loss of smell': 214,\n",
       "  'urticaria': 207,\n",
       "  'malaise': 200,\n",
       "  'paralysis': 185,\n",
       "  'dysphagia': 175,\n",
       "  'rhinorrhea': 174,\n",
       "  'nasal congestion': 158,\n",
       "  'ataxia': 154,\n",
       "  'suicidal ideation': 153,\n",
       "  'skin lesions': 151,\n",
       "  'apnea': 144,\n",
       "  'weight gain': 143,\n",
       "  'loss of taste': 142,\n",
       "  'runny nose': 129,\n",
       "  'bradycardia': 127,\n",
       "  'nasal obstruction': 122,\n",
       "  'chest tightness': 115,\n",
       "  'sputum production': 114,\n",
       "  'tachypnea': 113,\n",
       "  'hemoptysis': 107,\n",
       "  'itching': 105,\n",
       "  'hearing loss': 95,\n",
       "  'hematuria': 93,\n",
       "  'asthenia': 92,\n",
       "  'syncope': 90,\n",
       "  'loss of appetite': 84,\n",
       "  'arthralgia': 84,\n",
       "  'miscarriage': 84,\n",
       "  'back pain': 77,\n",
       "  'difficulty breathing': 75,\n",
       "  'infertility': 74,\n",
       "  'irritability': 74,\n",
       "  'constipation': 72,\n",
       "  'tremor': 70,\n",
       "  'epistaxis': 70,\n",
       "  'paresis': 69,\n",
       "  'pyrexia': 66,\n",
       "  'jaundice': 66,\n",
       "  'alopecia': 62,\n",
       "  'muscle ache': 61,\n",
       "  'deformity': 60,\n",
       "  'palpitations': 59,\n",
       "  'swollen': 56,\n",
       "  'taste loss': 56,\n",
       "  'hypothermia': 55,\n",
       "  'purpura': 55,\n",
       "  'mania': 49,\n",
       "  'petechia': 48,\n",
       "  'nasal discharge': 48,\n",
       "  'muscle weakness': 48,\n",
       "  'convulsions': 47,\n",
       "  'body aches': 43,\n",
       "  'loss of consciousness': 37,\n",
       "  'laceration': 37,\n",
       "  'neuralgia': 36,\n",
       "  'tachypnoea': 35,\n",
       "  'tinnitus': 33,\n",
       "  'urinary retention': 32,\n",
       "  'paresthesia': 30,\n",
       "  'blister': 30,\n",
       "  'apathy': 30,\n",
       "  'decreased appetite': 30,\n",
       "  'aphasia': 28,\n",
       "  'hallucination': 28,\n",
       "  'myoclonus': 27,\n",
       "  'dysarthria': 27,\n",
       "  'delusion': 27,\n",
       "  'somnolence': 27,\n",
       "  'anhedonia': 26,\n",
       "  'abrasion': 26,\n",
       "  'shivering': 26,\n",
       "  'polyuria': 24,\n",
       "  'chest discomfort': 22,\n",
       "  'exophthalmos': 22,\n",
       "  'melena': 22,\n",
       "  'dysuria': 21,\n",
       "  'neck stiffness': 19,\n",
       "  'blurred vision': 18,\n",
       "  'sweats': 16,\n",
       "  'urinary frequency': 16,\n",
       "  'vertigo': 16,\n",
       "  'bloating': 15,\n",
       "  'urinary incontinence': 15,\n",
       "  'bruising': 15,\n",
       "  'pleuritic chest pain': 15,\n",
       "  'odynophagia': 13,\n",
       "  'sciatica': 13,\n",
       "  'dry mouth': 13,\n",
       "  'euphoria': 12,\n",
       "  'bradykinesia': 11,\n",
       "  'dyspepsia': 11,\n",
       "  'orthopnea': 10,\n",
       "  'dystonia': 10,\n",
       "  'impotence': 10,\n",
       "  'vaginal discharge': 9,\n",
       "  'nasal inflammation': 8,\n",
       "  'claudication': 8,\n",
       "  'flatulence': 8,\n",
       "  'persistent pain': 8,\n",
       "  'nystagmus': 7,\n",
       "  'toothache': 7,\n",
       "  'paranoid ideation': 7,\n",
       "  'mydriasis': 7,\n",
       "  'trismus': 6,\n",
       "  'chest pressure': 6,\n",
       "  'amnesia': 6,\n",
       "  'trouble breathing': 6,\n",
       "  'ecchymosis': 6,\n",
       "  'amenorrhea': 5,\n",
       "  'hypopnea': 5,\n",
       "  'bluish lips': 5,\n",
       "  'heartburn': 5,\n",
       "  'belching': 5,\n",
       "  'bloody stool': 5,\n",
       "  'pressure in the chest': 4,\n",
       "  'pelvic pain': 4,\n",
       "  'otalgia': 4,\n",
       "  'hirsutism': 4,\n",
       "  'hematochezia': 4,\n",
       "  'dysphonia': 4,\n",
       "  'muscle cramps': 4,\n",
       "  'akinesia': 4,\n",
       "  'stay awake': 3,\n",
       "  'miosis': 3,\n",
       "  'chorea': 3,\n",
       "  'fasciculation': 3,\n",
       "  'amaurosis': 3,\n",
       "  'bradypnea': 3,\n",
       "  'hypersomnia': 2,\n",
       "  'anasarca': 2,\n",
       "  'otorrhea': 2,\n",
       "  'blepharospasm': 2,\n",
       "  'double vision': 2,\n",
       "  'apraxia': 2,\n",
       "  'depressıon': 2,\n",
       "  'anomia': 2,\n",
       "  'urethral discharge': 1,\n",
       "  'akathisia': 1,\n",
       "  'inability to wake': 1,\n",
       "  'burning sensation in the chest': 1,\n",
       "  'steatorrhea': 1,\n",
       "  'amaurosis fugax': 1,\n",
       "  'retrograde ejaculation': 1,\n",
       "  'dysdiadochokinesia': 1,\n",
       "  'dysgraphia': 1,\n",
       "  'opisthotonus': 1,\n",
       "  'anosognosia': 1,\n",
       "  'halitosis': 1,\n",
       "  'platypnea': 1}}"
      ]
     },
     "execution_count": 16,
     "metadata": {},
     "output_type": "execute_result"
    }
   ],
   "source": [
    "sym_df.to_dict()"
   ]
  },
  {
   "cell_type": "code",
   "execution_count": 17,
   "metadata": {
    "pycharm": {
     "name": "#%%\n"
    }
   },
   "outputs": [],
   "source": [
    "#List of symptoms that appeared in the published papers that were extracted with our list of symptoms\n",
    "counted_symptoms = sym_df.index.to_list()"
   ]
  },
  {
   "cell_type": "markdown",
   "metadata": {
    "pycharm": {
     "name": "#%% md\n"
    }
   },
   "source": [
    "### Check to see if any of the symptoms do not appear in the papers from our original symptoms list"
   ]
  },
  {
   "cell_type": "code",
   "execution_count": 18,
   "metadata": {
    "pycharm": {
     "name": "#%%\n"
    }
   },
   "outputs": [
    {
     "data": {
      "text/plain": [
       "28"
      ]
     },
     "execution_count": 18,
     "metadata": {},
     "output_type": "execute_result"
    }
   ],
   "source": [
    "main_list = np.setdiff1d(symptoms,counted_symptoms)\n",
    "# yields the elements in `list_2` that are NOT in `list_1`\n",
    "len(main_list)"
   ]
  },
  {
   "cell_type": "markdown",
   "metadata": {
    "pycharm": {
     "name": "#%% md\n"
    }
   },
   "source": [
    "It appears that that are 28 symptoms on our original symptoms list that do not occur in the papers"
   ]
  },
  {
   "cell_type": "code",
   "execution_count": 19,
   "metadata": {},
   "outputs": [],
   "source": [
    "df_test1= covid_df.Sentence.str.extractall('({})'.format('|'.join(main_list)), flags = re.IGNORECASE)\\\n",
    "                           .iloc[:, 0].str.get_dummies().sum(level=0)"
   ]
  },
  {
   "cell_type": "markdown",
   "metadata": {
    "pycharm": {
     "name": "#%% md\n"
    }
   },
   "source": [
    "### 3. Encountered problem: 'fevers' symptom appears on the list of symptoms that does not occur in the papers. \n",
    "\n",
    "I am not able to find out why. It is clear that it does appear over 196 times"
   ]
  },
  {
   "cell_type": "code",
   "execution_count": 20,
   "metadata": {
    "pycharm": {
     "name": "#%%\n"
    }
   },
   "outputs": [
    {
     "name": "stdout",
     "output_type": "stream",
     "text": [
      "Fevers      4\n",
      "fevers    192\n",
      "dtype: int64\n"
     ]
    }
   ],
   "source": [
    "print(df_test1.sum(axis=0))"
   ]
  },
  {
   "cell_type": "markdown",
   "metadata": {},
   "source": [
    "###   Create another spreadsheet with three columns: sentence #, word, and tag. \n",
    "\n",
    "\n",
    "    Place one word in a row and label symptoms words in the tag column: \n",
    "    mark the beginning (B-Sym) and inside (I-Sym) of each symptom term. \n",
    "    If a term consists of only one word, simply mark it as B-Sym with no I-Sym.  \n",
    "    Label all other words as O. "
   ]
  },
  {
   "cell_type": "code",
   "execution_count": 25,
   "metadata": {},
   "outputs": [],
   "source": [
    "def repl(m):\n",
    "    '''\n",
    "    regular expression function that replaces symptoms with BSYM if .group(0) is one word\n",
    "    or BSYM + ISYM if multiple words - this function looks for spaces in the given words\n",
    "\n",
    "    m.group(0) - firts match\n",
    "    '''\n",
    "    return ' '.join(['BSYM']+['ISYM']*(m.group(0).count(' ')))"
   ]
  },
  {
   "cell_type": "code",
   "execution_count": 28,
   "metadata": {},
   "outputs": [
    {
     "ename": "NameError",
     "evalue": "name 'sym' is not defined",
     "output_type": "error",
     "traceback": [
      "\u001B[0;31m---------------------------------------------------------------------------\u001B[0m",
      "\u001B[0;31mNameError\u001B[0m                                 Traceback (most recent call last)",
      "\u001B[0;32m<ipython-input-28-5c176a08dadf>\u001B[0m in \u001B[0;36m<module>\u001B[0;34m\u001B[0m\n\u001B[0;32m----> 1\u001B[0;31m \u001B[0mpattern\u001B[0m \u001B[0;34m=\u001B[0m \u001B[0;34m'\\\\b'\u001B[0m \u001B[0;34m+\u001B[0m \u001B[0;34m'\\\\b|\\\\b'\u001B[0m\u001B[0;34m.\u001B[0m\u001B[0mjoin\u001B[0m\u001B[0;34m(\u001B[0m\u001B[0msym\u001B[0m\u001B[0;34m)\u001B[0m \u001B[0;34m+\u001B[0m \u001B[0;34m'\\\\b'\u001B[0m\u001B[0;34m\u001B[0m\u001B[0;34m\u001B[0m\u001B[0m\n\u001B[0m\u001B[1;32m      2\u001B[0m \u001B[0mcovid_df\u001B[0m\u001B[0;34m[\u001B[0m\u001B[0;34m'Token'\u001B[0m\u001B[0;34m]\u001B[0m \u001B[0;34m=\u001B[0m \u001B[0mcovid_df\u001B[0m\u001B[0;34m[\u001B[0m\u001B[0;34m'Sentence'\u001B[0m\u001B[0;34m]\u001B[0m\u001B[0;34m.\u001B[0m\u001B[0mstr\u001B[0m\u001B[0;34m.\u001B[0m\u001B[0mreplace\u001B[0m\u001B[0;34m(\u001B[0m\u001B[0mpattern\u001B[0m\u001B[0;34m,\u001B[0m \u001B[0mrepl\u001B[0m\u001B[0;34m,\u001B[0m \u001B[0mflags\u001B[0m \u001B[0;34m=\u001B[0m \u001B[0mre\u001B[0m\u001B[0;34m.\u001B[0m\u001B[0mIGNORECASE\u001B[0m\u001B[0;34m)\u001B[0m\u001B[0;34m\u001B[0m\u001B[0;34m\u001B[0m\u001B[0m\n\u001B[1;32m      3\u001B[0m \u001B[0;34m\u001B[0m\u001B[0m\n",
      "\u001B[0;31mNameError\u001B[0m: name 'sym' is not defined"
     ]
    }
   ],
   "source": [
    "pattern = '\\\\b' + '\\\\b|\\\\b'.join(sym) + '\\\\b'\n",
    "covid_df['Token'] = covid_df['Sentence'].str.replace(pattern, repl, flags = re.IGNORECASE)"
   ]
  },
  {
   "cell_type": "code",
   "execution_count": 22,
   "metadata": {
    "pycharm": {
     "name": "#%%\n"
    }
   },
   "outputs": [],
   "source": [
    "covid_df.reset_index(drop=True, inplace=True)"
   ]
  },
  {
   "cell_type": "code",
   "execution_count": 23,
   "metadata": {},
   "outputs": [],
   "source": [
    "covid_df['Sentence_ID'] = ['Sentence #%s' %i for i in range(1, len(covid_df) + 1)]"
   ]
  },
  {
   "cell_type": "markdown",
   "metadata": {
    "pycharm": {
     "name": "#%% md\n"
    }
   },
   "source": [
    "### Tokenize sentences\n",
    "\n",
    "In this part of the task, I tokenized words and tokens columns and then replaces the tokens\n",
    "with the actual display of B-SYM and I-SYM with the dashes added in the middle.\n",
    "\n",
    "Then, provided a dataframe with three columns only"
   ]
  },
  {
   "cell_type": "code",
   "execution_count": 24,
   "metadata": {},
   "outputs": [
    {
     "ename": "KeyError",
     "evalue": "'Token'",
     "output_type": "error",
     "traceback": [
      "\u001B[0;31m---------------------------------------------------------------------------\u001B[0m",
      "\u001B[0;31mKeyError\u001B[0m                                  Traceback (most recent call last)",
      "\u001B[0;32m/usr/local/lib/python3.8/site-packages/pandas/core/indexes/base.py\u001B[0m in \u001B[0;36mget_loc\u001B[0;34m(self, key, method, tolerance)\u001B[0m\n\u001B[1;32m   2888\u001B[0m             \u001B[0;32mtry\u001B[0m\u001B[0;34m:\u001B[0m\u001B[0;34m\u001B[0m\u001B[0;34m\u001B[0m\u001B[0m\n\u001B[0;32m-> 2889\u001B[0;31m                 \u001B[0;32mreturn\u001B[0m \u001B[0mself\u001B[0m\u001B[0;34m.\u001B[0m\u001B[0m_engine\u001B[0m\u001B[0;34m.\u001B[0m\u001B[0mget_loc\u001B[0m\u001B[0;34m(\u001B[0m\u001B[0mcasted_key\u001B[0m\u001B[0;34m)\u001B[0m\u001B[0;34m\u001B[0m\u001B[0;34m\u001B[0m\u001B[0m\n\u001B[0m\u001B[1;32m   2890\u001B[0m             \u001B[0;32mexcept\u001B[0m \u001B[0mKeyError\u001B[0m \u001B[0;32mas\u001B[0m \u001B[0merr\u001B[0m\u001B[0;34m:\u001B[0m\u001B[0;34m\u001B[0m\u001B[0;34m\u001B[0m\u001B[0m\n",
      "\u001B[0;32mpandas/_libs/index.pyx\u001B[0m in \u001B[0;36mpandas._libs.index.IndexEngine.get_loc\u001B[0;34m()\u001B[0m\n",
      "\u001B[0;32mpandas/_libs/index.pyx\u001B[0m in \u001B[0;36mpandas._libs.index.IndexEngine.get_loc\u001B[0;34m()\u001B[0m\n",
      "\u001B[0;32mpandas/_libs/hashtable_class_helper.pxi\u001B[0m in \u001B[0;36mpandas._libs.hashtable.PyObjectHashTable.get_item\u001B[0;34m()\u001B[0m\n",
      "\u001B[0;32mpandas/_libs/hashtable_class_helper.pxi\u001B[0m in \u001B[0;36mpandas._libs.hashtable.PyObjectHashTable.get_item\u001B[0;34m()\u001B[0m\n",
      "\u001B[0;31mKeyError\u001B[0m: 'Token'",
      "\nThe above exception was the direct cause of the following exception:\n",
      "\u001B[0;31mKeyError\u001B[0m                                  Traceback (most recent call last)",
      "\u001B[0;32m<ipython-input-24-2acf191cacf9>\u001B[0m in \u001B[0;36m<module>\u001B[0;34m\u001B[0m\n\u001B[1;32m      1\u001B[0m \u001B[0;31m#Use symptom tagging module to tag the words based on our symptom list\u001B[0m\u001B[0;34m\u001B[0m\u001B[0;34m\u001B[0m\u001B[0;34m\u001B[0m\u001B[0m\n\u001B[1;32m      2\u001B[0m \u001B[0;32mimport\u001B[0m \u001B[0msymptom_tagging\u001B[0m \u001B[0;32mas\u001B[0m \u001B[0msym_tag\u001B[0m\u001B[0;34m\u001B[0m\u001B[0;34m\u001B[0m\u001B[0m\n\u001B[0;32m----> 3\u001B[0;31m \u001B[0mtagged_data\u001B[0m \u001B[0;34m=\u001B[0m \u001B[0msym_tag\u001B[0m\u001B[0;34m.\u001B[0m\u001B[0mremove_duplicate_sentence_ids\u001B[0m\u001B[0;34m(\u001B[0m\u001B[0msym_tag\u001B[0m\u001B[0;34m.\u001B[0m\u001B[0mtokenize_sentences\u001B[0m\u001B[0;34m(\u001B[0m\u001B[0mcovid_df\u001B[0m\u001B[0;34m)\u001B[0m\u001B[0;34m)\u001B[0m\u001B[0;34m\u001B[0m\u001B[0;34m\u001B[0m\u001B[0m\n\u001B[0m",
      "\u001B[0;32m~/PycharmProjects/Covid19/symptom_tagging.py\u001B[0m in \u001B[0;36mtokenize_sentences\u001B[0;34m(frame)\u001B[0m\n\u001B[1;32m     16\u001B[0m     \u001B[0mi\u001B[0m \u001B[0;34m=\u001B[0m \u001B[0;36m0\u001B[0m\u001B[0;34m\u001B[0m\u001B[0;34m\u001B[0m\u001B[0m\n\u001B[1;32m     17\u001B[0m     \u001B[0;32mfor\u001B[0m \u001B[0mj\u001B[0m\u001B[0;34m,\u001B[0m \u001B[0mrow\u001B[0m \u001B[0;32min\u001B[0m \u001B[0mframe\u001B[0m\u001B[0;34m.\u001B[0m\u001B[0miterrows\u001B[0m\u001B[0;34m(\u001B[0m\u001B[0;34m)\u001B[0m\u001B[0;34m:\u001B[0m\u001B[0;34m\u001B[0m\u001B[0;34m\u001B[0m\u001B[0m\n\u001B[0;32m---> 18\u001B[0;31m         \u001B[0;32mfor\u001B[0m \u001B[0mword\u001B[0m\u001B[0;34m,\u001B[0m \u001B[0mtemptag\u001B[0m \u001B[0;32min\u001B[0m \u001B[0mzip\u001B[0m\u001B[0;34m(\u001B[0m\u001B[0mword_tokenize\u001B[0m\u001B[0;34m(\u001B[0m\u001B[0mrow\u001B[0m\u001B[0;34m[\u001B[0m\u001B[0;34m'Sentence'\u001B[0m\u001B[0;34m]\u001B[0m\u001B[0;34m)\u001B[0m\u001B[0;34m,\u001B[0m \u001B[0mword_tokenize\u001B[0m\u001B[0;34m(\u001B[0m\u001B[0mrow\u001B[0m\u001B[0;34m[\u001B[0m\u001B[0;34m'Token'\u001B[0m\u001B[0;34m]\u001B[0m\u001B[0;34m)\u001B[0m\u001B[0;34m)\u001B[0m\u001B[0;34m:\u001B[0m\u001B[0;34m\u001B[0m\u001B[0;34m\u001B[0m\u001B[0m\n\u001B[0m\u001B[1;32m     19\u001B[0m             \u001B[0;32mif\u001B[0m \u001B[0mtemptag\u001B[0m \u001B[0;34m==\u001B[0m \u001B[0;34m'BSYM'\u001B[0m\u001B[0;34m:\u001B[0m\u001B[0;34m\u001B[0m\u001B[0;34m\u001B[0m\u001B[0m\n\u001B[1;32m     20\u001B[0m                 \u001B[0mtag\u001B[0m \u001B[0;34m=\u001B[0m \u001B[0;34m'B-SYM'\u001B[0m\u001B[0;34m\u001B[0m\u001B[0;34m\u001B[0m\u001B[0m\n",
      "\u001B[0;32m/usr/local/lib/python3.8/site-packages/pandas/core/series.py\u001B[0m in \u001B[0;36m__getitem__\u001B[0;34m(self, key)\u001B[0m\n\u001B[1;32m    880\u001B[0m \u001B[0;34m\u001B[0m\u001B[0m\n\u001B[1;32m    881\u001B[0m         \u001B[0;32melif\u001B[0m \u001B[0mkey_is_scalar\u001B[0m\u001B[0;34m:\u001B[0m\u001B[0;34m\u001B[0m\u001B[0;34m\u001B[0m\u001B[0m\n\u001B[0;32m--> 882\u001B[0;31m             \u001B[0;32mreturn\u001B[0m \u001B[0mself\u001B[0m\u001B[0;34m.\u001B[0m\u001B[0m_get_value\u001B[0m\u001B[0;34m(\u001B[0m\u001B[0mkey\u001B[0m\u001B[0;34m)\u001B[0m\u001B[0;34m\u001B[0m\u001B[0;34m\u001B[0m\u001B[0m\n\u001B[0m\u001B[1;32m    883\u001B[0m \u001B[0;34m\u001B[0m\u001B[0m\n\u001B[1;32m    884\u001B[0m         if (\n",
      "\u001B[0;32m/usr/local/lib/python3.8/site-packages/pandas/core/series.py\u001B[0m in \u001B[0;36m_get_value\u001B[0;34m(self, label, takeable)\u001B[0m\n\u001B[1;32m    989\u001B[0m \u001B[0;34m\u001B[0m\u001B[0m\n\u001B[1;32m    990\u001B[0m         \u001B[0;31m# Similar to Index.get_value, but we do not fall back to positional\u001B[0m\u001B[0;34m\u001B[0m\u001B[0;34m\u001B[0m\u001B[0;34m\u001B[0m\u001B[0m\n\u001B[0;32m--> 991\u001B[0;31m         \u001B[0mloc\u001B[0m \u001B[0;34m=\u001B[0m \u001B[0mself\u001B[0m\u001B[0;34m.\u001B[0m\u001B[0mindex\u001B[0m\u001B[0;34m.\u001B[0m\u001B[0mget_loc\u001B[0m\u001B[0;34m(\u001B[0m\u001B[0mlabel\u001B[0m\u001B[0;34m)\u001B[0m\u001B[0;34m\u001B[0m\u001B[0;34m\u001B[0m\u001B[0m\n\u001B[0m\u001B[1;32m    992\u001B[0m         \u001B[0;32mreturn\u001B[0m \u001B[0mself\u001B[0m\u001B[0;34m.\u001B[0m\u001B[0mindex\u001B[0m\u001B[0;34m.\u001B[0m\u001B[0m_get_values_for_loc\u001B[0m\u001B[0;34m(\u001B[0m\u001B[0mself\u001B[0m\u001B[0;34m,\u001B[0m \u001B[0mloc\u001B[0m\u001B[0;34m,\u001B[0m \u001B[0mlabel\u001B[0m\u001B[0;34m)\u001B[0m\u001B[0;34m\u001B[0m\u001B[0;34m\u001B[0m\u001B[0m\n\u001B[1;32m    993\u001B[0m \u001B[0;34m\u001B[0m\u001B[0m\n",
      "\u001B[0;32m/usr/local/lib/python3.8/site-packages/pandas/core/indexes/base.py\u001B[0m in \u001B[0;36mget_loc\u001B[0;34m(self, key, method, tolerance)\u001B[0m\n\u001B[1;32m   2889\u001B[0m                 \u001B[0;32mreturn\u001B[0m \u001B[0mself\u001B[0m\u001B[0;34m.\u001B[0m\u001B[0m_engine\u001B[0m\u001B[0;34m.\u001B[0m\u001B[0mget_loc\u001B[0m\u001B[0;34m(\u001B[0m\u001B[0mcasted_key\u001B[0m\u001B[0;34m)\u001B[0m\u001B[0;34m\u001B[0m\u001B[0;34m\u001B[0m\u001B[0m\n\u001B[1;32m   2890\u001B[0m             \u001B[0;32mexcept\u001B[0m \u001B[0mKeyError\u001B[0m \u001B[0;32mas\u001B[0m \u001B[0merr\u001B[0m\u001B[0;34m:\u001B[0m\u001B[0;34m\u001B[0m\u001B[0;34m\u001B[0m\u001B[0m\n\u001B[0;32m-> 2891\u001B[0;31m                 \u001B[0;32mraise\u001B[0m \u001B[0mKeyError\u001B[0m\u001B[0;34m(\u001B[0m\u001B[0mkey\u001B[0m\u001B[0;34m)\u001B[0m \u001B[0;32mfrom\u001B[0m \u001B[0merr\u001B[0m\u001B[0;34m\u001B[0m\u001B[0;34m\u001B[0m\u001B[0m\n\u001B[0m\u001B[1;32m   2892\u001B[0m \u001B[0;34m\u001B[0m\u001B[0m\n\u001B[1;32m   2893\u001B[0m         \u001B[0;32mif\u001B[0m \u001B[0mtolerance\u001B[0m \u001B[0;32mis\u001B[0m \u001B[0;32mnot\u001B[0m \u001B[0;32mNone\u001B[0m\u001B[0;34m:\u001B[0m\u001B[0;34m\u001B[0m\u001B[0;34m\u001B[0m\u001B[0m\n",
      "\u001B[0;31mKeyError\u001B[0m: 'Token'"
     ]
    }
   ],
   "source": [
    "#Use symptom tagging module to tag the words based on our symptom list\n",
    "import symptom_tagging as sym_tag\n",
    "tagged_data = sym_tag.remove_duplicate_sentence_ids(sym_tag.tokenize_sentences(covid_df))\n"
   ]
  },
  {
   "cell_type": "markdown",
   "metadata": {},
   "source": [
    "Double checking the tag column to see if we were able to tag I-SYM symptom words"
   ]
  },
  {
   "cell_type": "code",
   "execution_count": null,
   "outputs": [],
   "source": [
    "tag_df[tag_df['Tag']== 'I-SYM'].head(5)"
   ],
   "metadata": {
    "collapsed": false,
    "pycharm": {
     "name": "#%%\n"
    }
   }
  },
  {
   "cell_type": "code",
   "metadata": {
    "scrolled": true,
    "pycharm": {
     "name": "#%%\n"
    }
   },
   "source": [
    "###  Here the sentence # should be consecutive integers (similar to a surrogate key in a database table) and is not the same as sentence ID in the first spreadsheet.\n",
    "\n",
    "    Styling of sentence numbers ~ instead of duplicating the same number over and over again, we leave out the duplicated ones by replacing them with space"
   ],
   "execution_count": null,
   "outputs": []
  },
  {
   "cell_type": "markdown",
   "metadata": {
    "pycharm": {
     "name": "#%% md\n"
    }
   },
   "source": [
    "#tag_df['Sentence_ID'] = tag_df['Sentence']\n",
    "\n",
    "#Final tagged covid data\n",
    "tagged_data.to_csv('/Users/elif/Desktop/covid_tagged_data_May.csv', index = False, encoding= 'utf-8')\n"
   ]
  },
  {
   "cell_type": "code",
   "execution_count": null,
   "outputs": [],
   "source": [
    "#Sort the dictionary of symptoms along with their value counts\n",
    "import operator\n",
    "sorted_d = dict( sorted(new_dict.items(), key=operator.itemgetter(1),reverse=True))\n",
    "# sorted_d"
   ],
   "metadata": {
    "collapsed": false,
    "pycharm": {
     "name": "#%%\n"
    }
   }
  },
  {
   "cell_type": "code",
   "execution_count": null,
   "outputs": [],
   "source": [
    "df_sym_freq = pd.DataFrame(list((dict(new_dict)).items()), columns = ['Symptom', 'Frequency'])\n",
    "df_sym_freq.to_csv('sym_freq.csv',index=False)\n",
    "only_syms = list((dict(new_dict)).keys())"
   ],
   "metadata": {
    "collapsed": false,
    "pycharm": {
     "name": "#%%\n"
    }
   }
  },
  {
   "cell_type": "code",
   "execution_count": null,
   "outputs": [],
   "source": [],
   "metadata": {
    "collapsed": false,
    "pycharm": {
     "name": "#%%\n"
    }
   }
  },
  {
   "cell_type": "code",
   "execution_count": null,
   "outputs": [],
   "source": [
    "#Wordcloud of symptoms\n",
    "\n",
    "# wc = WordCloud(background_color = \"black\", width = 1000, height= 1000).generate_from_frequencies(new_dict)\n",
    "# fig = plt.figure(figsize = (15,15))\n",
    "# plt.imshow(wc, interpolation = \"bilinear\")\n",
    "# plt.axis(\"off\")\n",
    "# plt.show()"
   ],
   "metadata": {
    "collapsed": false,
    "pycharm": {
     "name": "#%%\n"
    }
   }
  },
  {
   "cell_type": "code",
   "execution_count": null,
   "outputs": [],
   "source": [
    "df_sym_freq.groupby('Symptom').sum().sort_values(['Frequency'],ascending=False).head()"
   ],
   "metadata": {
    "collapsed": false,
    "pycharm": {
     "name": "#%%\n"
    }
   }
  },
  {
   "cell_type": "code",
   "execution_count": null,
   "outputs": [],
   "source": [
    "# only_syms\n",
    "print('Total number of symptoms retrived from both data sets is:', len(only_syms))"
   ],
   "metadata": {
    "collapsed": false,
    "pycharm": {
     "name": "#%%\n"
    }
   }
  },
  {
   "cell_type": "code",
   "execution_count": null,
   "outputs": [],
   "source": [
    "# yields the elements in `list_2` that are NOT in `list_1`\n",
    "final_list = np.setdiff1d(symptoms,only_syms)\n",
    "print('Total number of symptoms that are retrived from both data sets that do not exist in the original symptom list is:', len(final_list))"
   ],
   "metadata": {
    "collapsed": false,
    "pycharm": {
     "name": "#%%\n"
    }
   }
  },
  {
   "cell_type": "code",
   "execution_count": null,
   "outputs": [],
   "source": [
    "def intersection(lst1, lst2):\n",
    "    lst3 = [value for value in lst1 if value in lst2]\n",
    "    return lst3"
   ],
   "metadata": {
    "collapsed": false,
    "pycharm": {
     "name": "#%%\n"
    }
   }
  },
  {
   "cell_type": "code",
   "execution_count": null,
   "outputs": [],
   "source": [
    "print('Total number of symptoms that appear in both the original list and the list created from colloquial data sets is:', len(intersection(symptoms, only_syms)))"
   ],
   "metadata": {
    "collapsed": false,
    "pycharm": {
     "name": "#%%\n"
    }
   }
  },
  {
   "cell_type": "code",
   "execution_count": null,
   "outputs": [],
   "source": [
    "### Create a version of the COLL-DATA that only contains *sentences* with symptom terms"
   ],
   "metadata": {
    "collapsed": false,
    "pycharm": {
     "name": "#%%\n"
    }
   }
  },
  {
   "cell_type": "code",
   "execution_count": null,
   "outputs": [],
   "source": [
    "import colloq_tagged_data_processing as coll_process\n",
    "\n",
    "sent_value, colloqual_df = coll_process.colloqual_data_processing(combined_colloquial_df, )"
   ],
   "metadata": {
    "collapsed": false,
    "pycharm": {
     "name": "#%%\n"
    }
   }
  },
  {
   "cell_type": "code",
   "execution_count": null,
   "outputs": [],
   "source": [
    "def colloqual_df_info(sent, df):\n",
    "    print('Total number of sentences in this file is:', len(sent))\n",
    "    print('Number of sentences that include any of the provided symptoms is:', len(df))\n",
    "    print('Number of sentences that do NOT include any of the provided symptoms is:', (len(sent) - len(df)))\n",
    "\n"
   ],
   "metadata": {
    "collapsed": false,
    "pycharm": {
     "name": "#%%\n"
    }
   }
  },
  {
   "cell_type": "code",
   "execution_count": null,
   "outputs": [],
   "source": [
    "sent_value, colloqual_df = colloqual_data_processing(plm_df, only_syms)"
   ],
   "metadata": {
    "collapsed": false,
    "pycharm": {
     "name": "#%%\n"
    }
   }
  },
  {
   "cell_type": "code",
   "execution_count": null,
   "outputs": [],
   "source": [
    "def colloqual_df_info(sent, df):\n",
    "    print('Total number of sentences in this file is:', len(sent))\n",
    "    print('Number of sentences that include any of the provided symtoms is:', len(df))\n",
    "    print('Number of sentences that do NOT include any of the provided symptoms is:', (len(sent) - len(df)))\n",
    "\n"
   ],
   "metadata": {
    "collapsed": false,
    "pycharm": {
     "name": "#%%\n"
    }
   }
  },
  {
   "cell_type": "code",
   "execution_count": null,
   "outputs": [],
   "source": [
    "colloqual_df_info(sent_value, colloqual_df)"
   ],
   "metadata": {
    "collapsed": false,
    "pycharm": {
     "name": "#%%\n"
    }
   }
  },
  {
   "cell_type": "code",
   "execution_count": null,
   "outputs": [],
   "source": [
    "sent_value_, colloqual_df_n = colloqual_data_processing(paSi_df, only_syms)"
   ],
   "metadata": {
    "collapsed": false,
    "pycharm": {
     "name": "#%%\n"
    }
   }
  },
  {
   "cell_type": "code",
   "execution_count": null,
   "outputs": [],
   "source": [
    "colloqual_df_info(sent_value_, colloqual_df_n)"
   ],
   "metadata": {
    "collapsed": false,
    "pycharm": {
     "name": "#%%\n"
    }
   }
  },
  {
   "cell_type": "markdown",
   "source": [
    "## Put the colloquial data prior to Nov5 sentences into tagged format"
   ],
   "metadata": {
    "collapsed": false
   }
  },
  {
   "cell_type": "code",
   "execution_count": null,
   "outputs": [],
   "source": [
    "colloqual_df.reset_index(drop=True, inplace=True)"
   ],
   "metadata": {
    "collapsed": false,
    "pycharm": {
     "name": "#%%\n"
    }
   }
  },
  {
   "cell_type": "code",
   "execution_count": null,
   "outputs": [],
   "source": [
    "plm_peS_df = sentence_w_symptoms(colloqual_df, symptoms)"
   ],
   "metadata": {
    "collapsed": false,
    "pycharm": {
     "name": "#%%\n"
    }
   }
  },
  {
   "cell_type": "code",
   "execution_count": null,
   "outputs": [],
   "source": [
    "plm_peS_df['Token'] = plm_peS_df['Sentence'].str.replace(pattern, repl, flags = re.IGNORECASE)\n",
    "plm_peS_df['Sentence_ID'] = ['Sentence #%s' %i for i in range(1, len(plm_peS_df) + 1)]\n"
   ],
   "metadata": {
    "collapsed": false,
    "pycharm": {
     "name": "#%%\n"
    }
   }
  },
  {
   "cell_type": "code",
   "execution_count": null,
   "outputs": [],
   "source": [
    "df5 = tokenize_sentences(plm_peS_df)\n",
    "plm_peS_df_out=remove_duplicate_sentence_ids(df5)"
   ],
   "metadata": {
    "collapsed": false,
    "pycharm": {
     "name": "#%%\n"
    }
   }
  },
  {
   "cell_type": "code",
   "execution_count": null,
   "outputs": [],
   "source": [
    "plm_peS_df_out=remove_duplicate_sentence_ids(df5)"
   ],
   "metadata": {
    "collapsed": false,
    "pycharm": {
     "name": "#%%\n"
    }
   }
  },
  {
   "cell_type": "code",
   "execution_count": null,
   "outputs": [],
   "source": [
    "plm_peS_df_out.to_csv('/Users/elif/Desktop/Existing_Colloquial_data_prior_Nov5.csv', index = False, encoding= 'utf-8')\n"
   ],
   "metadata": {
    "collapsed": false,
    "pycharm": {
     "name": "#%%\n"
    }
   }
  }
 ],
 "metadata": {
  "kernelspec": {
   "display_name": "Python 3",
   "language": "python",
   "name": "python3"
  },
  "language_info": {
   "codemirror_mode": {
    "name": "ipython",
    "version": 3
   },
   "file_extension": ".py",
   "mimetype": "text/x-python",
   "name": "python",
   "nbconvert_exporter": "python",
   "pygments_lexer": "ipython3",
   "version": "3.8.5"
  }
 },
 "nbformat": 4,
 "nbformat_minor": 2
}