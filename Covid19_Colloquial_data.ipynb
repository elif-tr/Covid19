{
 "cells": [
  {
   "cell_type": "markdown",
   "metadata": {
    "collapsed": true,
    "pycharm": {
     "name": "#%% md\n"
    }
   },
   "source": [
    "## Working with Colloquial datasets\n",
    "\n",
    "Read in the existing 2 data sets and analyze the number of symptoms on each papaer and create a one merged list of symptoms from both data sets."
   ]
  },
  {
   "cell_type": "code",
   "execution_count": 1,
   "outputs": [],
   "source": [
    "import pandas as pd\n",
    "import numpy as np\n",
    "import xlrd"
   ],
   "metadata": {
    "collapsed": false,
    "pycharm": {
     "name": "#%%\n"
    }
   }
  },
  {
   "cell_type": "code",
   "execution_count": 2,
   "outputs": [],
   "source": [
    "#Patient Site data\n",
    "paSi_df = pd.read_excel('/Users/elif/Downloads/OneDrive_1_10-29-2020/patient-site_lableled.xlsx', sheet_name='in', usecols=\"A,B,C\")\n",
    "#Patience like me site data\n",
    "plm_df = pd.read_excel('/Users/elif/Downloads/OneDrive_1_10-29-2020/plm_dataset_labeled.xlsx', sheet_name='plm_dataset', usecols=\"A,B,C\")"
   ],
   "metadata": {
    "collapsed": false,
    "pycharm": {
     "name": "#%%\n"
    }
   }
  },
  {
   "cell_type": "markdown",
   "source": [
    "Use colloq_data_symp_count module to get a dictionary of all the marked symptoms and their counts of how many times they appear in the  tagged dataframe"
   ],
   "metadata": {
    "collapsed": false,
    "pycharm": {
     "name": "#%% md\n"
    }
   }
  },
  {
   "cell_type": "code",
   "execution_count": 4,
   "outputs": [
    {
     "data": {
      "text/plain": "{'relapse': 1,\n 'anxiety': 3,\n 'fatigued': 1,\n 'wanting to sleep': 1,\n 'weird pressure around my head': 1,\n 'feels like': 1,\n 'pressure around my head and temples and even underneath my jaw and above my nose bridge': 1,\n 'water in my ear': 1,\n 'tension headache': 1,\n 'head hurts': 1,\n 'constant pressure all around rather than pain': 1,\n 'pressure in your head': 1,\n 'head rarely hurts': 1,\n 'brain inflammation': 1,\n 'headache': 6,\n 'coughing': 2,\n 'anxious': 1,\n 'breath a little better': 1,\n 'no fever': 1,\n 'no chills': 1,\n 'slight cough': 2,\n 'cough': 11,\n 'oxygen levels were good': 1,\n 'i was stable': 1,\n 'i was released': 1,\n 'helped me with my breathing': 1,\n 'helps breathing': 1,\n 'suffering from shortness of breath': 1,\n 'breathing gets better': 1,\n 'very difficult time breathing': 1,\n 'choking cough': 1,\n 'super weak': 1,\n 'could not breathe': 1,\n 'collapsed': 1,\n 'totally exhausts': 1,\n 'drop my oxygen sat rates': 1,\n 'fatigues': 1,\n 'weak': 1,\n 'short of breath': 1,\n 'got so weak': 1,\n 'lower immune status': 1,\n 'malaise': 1,\n 'extreme fatigue': 4,\n 'loss of smell': 2,\n 'poor cognitive thinking': 1,\n 'shortness of breath': 3,\n 'cough is still present and exhausting': 1,\n 'sense of smell has returned': 2,\n 'thinking is still slow': 1,\n 'headaches': 4,\n 'fatigue': 6,\n 'cognitive thinking was all but gone': 1,\n 'breathing is still stressed': 1,\n 'thinking and reaction is still slow': 1,\n 'energy level is almost 0': 1,\n 'teeth have also suffered': 1,\n 'sore throat': 3,\n 'body aches and chills': 1,\n 'aches were very painful': 1,\n 'every joint in my body hurt': 1,\n 'able to smell': 1,\n 'annoying headache': 1,\n 'not being able to smell': 1,\n 'exhausting cough': 1,\n 'tired': 2,\n 'feel very alone': 1,\n 'shortness': 3,\n 'throat': 2,\n 'never had much trouble in the way of breathing': 1,\n 'chills': 1,\n 'fevers': 1,\n 'bad body aches no congestion': 1,\n 'feeling the shivers': 1,\n 'sour stomach feeling': 1,\n 'coughing is exhausting': 1,\n 'struggling with coughing': 1,\n 'exhaustion': 2,\n 'breathing is difficult': 1,\n 'body temperature has not been above 9 7': 1,\n 'burning hot': 1,\n 'temperature not leveled back out little nervous': 1,\n 'dry cough': 2,\n 'heaviness in my chest': 1,\n 'fever': 1,\n 'slight headache': 1,\n 'little but heaviness in my left lung': 1,\n 'prolonged cough': 1,\n 'gi discomfort': 1,\n 'pressure in my chest': 1,\n 'nervous': 1,\n 'collapsed lung': 1,\n 'cough up': 1,\n 'help with the breathing': 1,\n 'it sort of \" came back \"': 1,\n 'started to cough': 1,\n 'caused some inflammation': 1,\n 'cant breathe': 1,\n 'causing an infection in my chest': 1,\n 'bunged up feeling in my head': 1,\n 'strange mild burning sensation in the top of my chest': 1,\n 'incredibly dry mouth': 1,\n 'incredibly dry throat': 1,\n 'odd taste in my mouth': 1,\n 'burning sensation': 2,\n 'incredibly anxious': 1,\n 'dyspepsia': 1,\n 'rumbling stomach': 1,\n 'burning sensation at the top of my stomach': 1,\n 'burning sensation to the sides of the lower back': 1,\n 'mild burning sensation': 1,\n 'high temperatures': 1,\n 'elevated temperature': 1,\n 'dry cough difficulty breathing': 1,\n 'infection': 2,\n 'woke up with a temperature': 1,\n 'flu': 1,\n 'anxiety attack': 1,\n 'stress': 1,\n 'coughs': 1,\n 'sneezes': 1,\n 'sneeze': 1,\n 'stomach up set': 1,\n 'sweats': 1,\n 'chest is still heavy': 1,\n 'weakness': 1,\n 'joint pain': 1,\n 'needing more sleep': 1,\n 'mild headache': 1,\n 'running nose': 1,\n 'some coughing': 1,\n 'body ache': 1,\n 'aches': 1,\n 'sneezing': 1,\n 'upset stomach': 1,\n 'night sweats': 1,\n 'thirsty': 1,\n 'lost my breath': 1,\n 'head was hurting': 1,\n 'entire body became hot': 1,\n 'threw up': 1,\n 'mild sore throat': 1,\n 'sore throat lozenges': 1,\n 'breathing problems': 1,\n 'sleep apnea': 1,\n 'respiratory failure': 1,\n 'weird sensations': 1}"
     },
     "execution_count": 4,
     "metadata": {},
     "output_type": "execute_result"
    }
   ],
   "source": [
    "from collections import Counter\n",
    "import Colloq_data_symp_count as coll_count\n",
    "plm_sym_dict = coll_count.symAndCount(plm_df)\n",
    "paSi_sym_dict = coll_count.symAndCount(paSi_df)"
   ],
   "metadata": {
    "collapsed": false,
    "pycharm": {
     "name": "#%%\n"
    }
   }
  },
  {
   "cell_type": "markdown",
   "source": [
    "Full dictionary of symptoms collected from both tagged data files that are from Jul, 2020."
   ],
   "metadata": {
    "collapsed": false,
    "pycharm": {
     "name": "#%% md\n"
    }
   }
  },
  {
   "cell_type": "code",
   "execution_count": 5,
   "outputs": [],
   "source": [
    "new_dict = dict(Counter(plm_sym_dict) + Counter(paSi_sym_dict))\n",
    "#Sort the dictionary of symptoms along with their value counts\n",
    "import operator\n",
    "sorted_d = dict( sorted(new_dict.items(), key=operator.itemgetter(1),reverse=True))\n",
    "# sorted_d"
   ],
   "metadata": {
    "collapsed": false,
    "pycharm": {
     "name": "#%%\n"
    }
   }
  },
  {
   "cell_type": "code",
   "execution_count": 6,
   "outputs": [],
   "source": [
    "#Create a data frame for combined symptoms and how many times they appear in both colloquial tagged data\n",
    "df_sym_freq = pd.DataFrame(list((dict(new_dict)).items()), columns = ['Symptom', 'Frequency'])\n",
    "#Output the combined symptoms from both colloquial datasets\n",
    "df_sym_freq.to_csv('sym_freq.csv',index=False)\n",
    "\n",
    "#List of symptoms from colloquial datasets\n",
    "colloq_data_syms = list((dict(new_dict)).keys())"
   ],
   "metadata": {
    "collapsed": false,
    "pycharm": {
     "name": "#%%\n"
    }
   }
  },
  {
   "cell_type": "code",
   "execution_count": null,
   "outputs": [],
   "source": [],
   "metadata": {
    "collapsed": false,
    "pycharm": {
     "name": "#%%\n"
    }
   }
  }
 ],
 "metadata": {
  "kernelspec": {
   "name": "pycharm-23a65bbf",
   "language": "python",
   "display_name": "PyCharm (Covid19)"
  },
  "language_info": {
   "codemirror_mode": {
    "name": "ipython",
    "version": 2
   },
   "file_extension": ".py",
   "mimetype": "text/x-python",
   "name": "python",
   "nbconvert_exporter": "python",
   "pygments_lexer": "ipython2",
   "version": "2.7.6"
  }
 },
 "nbformat": 4,
 "nbformat_minor": 0
}