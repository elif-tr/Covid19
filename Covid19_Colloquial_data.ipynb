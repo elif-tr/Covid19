{
 "cells": [
  {
   "cell_type": "markdown",
   "metadata": {
    "collapsed": true,
    "pycharm": {
     "name": "#%% md\n"
    }
   },
   "source": [
    "## Working with Colloquial datasets\n",
    "\n",
    "This notebook works with already tagged colloquial files that are provided. We will read in the existing 2 data sets and analyze the number of symptoms on each paper and create a one merged list of symptoms from both data sets.\n",
    "Steps taken on this notebook are as follows:\n",
    "\n",
    "    1. Read in patient-site_lableled.xlsx and plm_dataset_labeled.xlsx files\n",
    "    2. Merge them together into one tagged file\n",
    "    3. Exrtact the list of symptoms from both files\n",
    "    4. Provide the count of each symptom occurance in the files\n",
    "    5. Join sentence words together to retrive the full sentences and only selec the ones that include any of the sympmtoms from the symptom list\n",
    "    6. Remove sentences that have 1 or less characters in them.\n",
    "    7. After extracting the sentences that include one or more symptoms, split each sentence back to words format and then tag them\n",
    "    8. Final output file is the tagged version of both files combined and includes on sentences that contain any of the given symptms"
   ]
  },
  {
   "cell_type": "code",
   "execution_count": 1,
   "outputs": [],
   "source": [
    "import pandas as pd\n",
    "import numpy as np\n",
    "import xlrd\n",
    "import operator\n",
    "from collections import Counter"
   ],
   "metadata": {
    "collapsed": false,
    "pycharm": {
     "name": "#%%\n"
    }
   }
  },
  {
   "cell_type": "code",
   "execution_count": 2,
   "outputs": [],
   "source": [
    "#Patient Site data\n",
    "paSi_df = pd.read_excel('/Users/elif/Downloads/OneDrive_1_10-29-2020/patient-site_lableled.xlsx', sheet_name='in', usecols=\"A,B,C\")\n",
    "#Patience like me site data\n",
    "plm_df = pd.read_excel('/Users/elif/Downloads/OneDrive_1_10-29-2020/plm_dataset_labeled.xlsx', sheet_name='plm_dataset', usecols=\"A,B,C\")"
   ],
   "metadata": {
    "collapsed": false,
    "pycharm": {
     "name": "#%%\n"
    }
   }
  },
  {
   "cell_type": "code",
   "execution_count": 3,
   "outputs": [],
   "source": [
    "#Combine both colloquial dataframes into one\n",
    "combined_colloquial_df = pd.concat([paSi_df,plm_df],ignore_index=True)"
   ],
   "metadata": {
    "collapsed": false,
    "pycharm": {
     "name": "#%%\n"
    }
   }
  },
  {
   "cell_type": "markdown",
   "source": [
    "Use `colloq_data_symp_count` module to get a dictionary of marked symptoms and their counts of how many times they appear in the  tagged dataframe"
   ],
   "metadata": {
    "collapsed": false,
    "pycharm": {
     "name": "#%% md\n"
    }
   }
  },
  {
   "cell_type": "code",
   "execution_count": 4,
   "outputs": [],
   "source": [
    "import Colloq_data_symp_count as coll_count\n",
    "plm_sym_dict = coll_count.symAndCount(plm_df)\n",
    "paSi_sym_dict = coll_count.symAndCount(paSi_df)"
   ],
   "metadata": {
    "collapsed": false,
    "pycharm": {
     "name": "#%%\n"
    }
   }
  },
  {
   "cell_type": "markdown",
   "source": [
    "Full dictionary of symptoms collected from both tagged data files that are from Jul, 2020 and until Nov, 2020."
   ],
   "metadata": {
    "collapsed": false,
    "pycharm": {
     "name": "#%% md\n"
    }
   }
  },
  {
   "cell_type": "code",
   "execution_count": 5,
   "outputs": [],
   "source": [
    "new_dict = dict(Counter(plm_sym_dict) + Counter(paSi_sym_dict))\n",
    "#Sort the dictionary of symptoms along with their value counts\n",
    "\n",
    "sorted_d = dict( sorted(new_dict.items(), key=operator.itemgetter(1),reverse=True))\n",
    "# sorted_d\n"
   ],
   "metadata": {
    "collapsed": false,
    "pycharm": {
     "name": "#%%\n"
    }
   }
  },
  {
   "cell_type": "markdown",
   "source": [
    "Create a dataframe of the symptoms and their counts as well as a full list of symptoms that are collected from both colloquial datasets."
   ],
   "metadata": {
    "collapsed": false
   }
  },
  {
   "cell_type": "code",
   "execution_count": 6,
   "outputs": [],
   "source": [
    "#Create a data frame for combined symptoms and how many times they appear in both colloquial tagged data\n",
    "df_sym_freq = pd.DataFrame(list((dict(new_dict)).items()), columns = ['Symptom', 'Frequency'])\n",
    "\n",
    "#Output the combined symptoms from both colloquial datasets\n",
    "df_sym_freq.to_csv('sym_freq.csv',index=False)\n",
    "\n",
    "#List of symptoms from colloquial datasets\n",
    "colloq_data_symps = list((dict(new_dict)).keys())"
   ],
   "metadata": {
    "collapsed": false,
    "pycharm": {
     "name": "#%%\n"
    }
   }
  },
  {
   "cell_type": "code",
   "execution_count": 7,
   "outputs": [],
   "source": [
    "#Wordcloud of symptoms\n",
    "\n",
    "# wc = WordCloud(background_color = \"black\", width = 1000, height= 1000).generate_from_frequencies(new_dict)\n",
    "# fig = plt.figure(figsize = (15,15))\n",
    "# plt.imshow(wc, interpolation = \"bilinear\")\n",
    "# plt.axis(\"off\")\n",
    "# plt.show()"
   ],
   "metadata": {
    "collapsed": false,
    "pycharm": {
     "name": "#%%\n"
    }
   }
  },
  {
   "cell_type": "code",
   "execution_count": 8,
   "outputs": [
    {
     "data": {
      "text/plain": "             Frequency\nSymptom               \ncough               41\nfever               32\nsore throat         16\nfatigue             15\nheadache            15",
      "text/html": "<div>\n<style scoped>\n    .dataframe tbody tr th:only-of-type {\n        vertical-align: middle;\n    }\n\n    .dataframe tbody tr th {\n        vertical-align: top;\n    }\n\n    .dataframe thead th {\n        text-align: right;\n    }\n</style>\n<table border=\"1\" class=\"dataframe\">\n  <thead>\n    <tr style=\"text-align: right;\">\n      <th></th>\n      <th>Frequency</th>\n    </tr>\n    <tr>\n      <th>Symptom</th>\n      <th></th>\n    </tr>\n  </thead>\n  <tbody>\n    <tr>\n      <th>cough</th>\n      <td>41</td>\n    </tr>\n    <tr>\n      <th>fever</th>\n      <td>32</td>\n    </tr>\n    <tr>\n      <th>sore throat</th>\n      <td>16</td>\n    </tr>\n    <tr>\n      <th>fatigue</th>\n      <td>15</td>\n    </tr>\n    <tr>\n      <th>headache</th>\n      <td>15</td>\n    </tr>\n  </tbody>\n</table>\n</div>"
     },
     "execution_count": 8,
     "metadata": {},
     "output_type": "execute_result"
    }
   ],
   "source": [
    "df_sym_freq.groupby('Symptom').sum().sort_values(['Frequency'],ascending=False).head()"
   ],
   "metadata": {
    "collapsed": false,
    "pycharm": {
     "name": "#%%\n"
    }
   }
  },
  {
   "cell_type": "code",
   "execution_count": 9,
   "outputs": [
    {
     "name": "stdout",
     "output_type": "stream",
     "text": [
      "Total number of symptoms retrived from both data sets is: 400\n"
     ]
    }
   ],
   "source": [
    "# colloq_data_symps\n",
    "print('Total number of symptoms retrived from both data sets is:', len(colloq_data_symps))\n"
   ],
   "metadata": {
    "collapsed": false,
    "pycharm": {
     "name": "#%%\n"
    }
   }
  },
  {
   "cell_type": "markdown",
   "source": [
    "### Create a version of the COLL-DATA that only contains *sentences* with symptom terms\n",
    "\n",
    "Use `colloq_tagged_data_processing` module to process tagged colloquial data frames and processes them to find sentences with symptoms."
   ],
   "metadata": {
    "collapsed": false,
    "pycharm": {
     "name": "#%% md\n"
    }
   }
  },
  {
   "cell_type": "code",
   "execution_count": 10,
   "outputs": [],
   "source": [
    "import colloq_tagged_data_processing as coll_process"
   ],
   "metadata": {
    "collapsed": false,
    "pycharm": {
     "name": "#%%\n"
    }
   }
  },
  {
   "cell_type": "code",
   "source": [
    "sent_value, colloquial_df = coll_process.colloquial_data_processing(combined_colloquial_df, colloq_data_symps)"
   ],
   "metadata": {
    "collapsed": false,
    "pycharm": {
     "name": "#%%\n"
    }
   },
   "execution_count": 11,
   "outputs": []
  },
  {
   "cell_type": "code",
   "execution_count": 12,
   "outputs": [
    {
     "name": "stdout",
     "output_type": "stream",
     "text": [
      "Total number of sentences in the combined colloquial file is: 1384\n",
      "Number of sentences that include any of the provided symptoms is: 469\n",
      "Number of sentences that do NOT include any of the provided symptoms is: 915\n"
     ]
    }
   ],
   "source": [
    "def colloqual_df_info(sent, df):\n",
    "    print('Total number of sentences in the combined colloquial file is:', len(sent))\n",
    "    print('Number of sentences that include any of the provided symptoms is:', len(df))\n",
    "    print('Number of sentences that do NOT include any of the provided symptoms is:', (len(sent) - len(df)))\n",
    "\n",
    "colloqual_df_info(sent_value, colloquial_df)"
   ],
   "metadata": {
    "collapsed": false,
    "pycharm": {
     "name": "#%%\n"
    }
   }
  },
  {
   "cell_type": "markdown",
   "source": [
    "## Put the colloquial data sentences into tagged format\n",
    "\n",
    "Tagging was done on the combined dataframes from both sites and the symptoms used for tagging this datasets were those that extracted from the colloquial files."
   ],
   "metadata": {
    "collapsed": false,
    "pycharm": {
     "name": "#%% md\n"
    }
   }
  },
  {
   "cell_type": "code",
   "execution_count": 13,
   "outputs": [
    {
     "name": "stdout",
     "output_type": "stream",
     "text": [
      "<class 'pandas.core.frame.DataFrame'>\n",
      "Int64Index: 469 entries, 0 to 468\n",
      "Data columns (total 1 columns):\n",
      " #   Column    Non-Null Count  Dtype \n",
      "---  ------    --------------  ----- \n",
      " 0   Sentence  469 non-null    object\n",
      "dtypes: object(1)\n",
      "memory usage: 7.3+ KB\n"
     ]
    }
   ],
   "source": [
    "colloquial_df.reset_index(drop=True, inplace=True)\n",
    "\n",
    "import split_text\n",
    "plm_colloq_df = split_text.sentence_w_symptoms(colloquial_df, colloq_data_symps)\n",
    "plm_colloq_df.info()"
   ],
   "metadata": {
    "collapsed": false,
    "pycharm": {
     "name": "#%%\n"
    }
   }
  },
  {
   "cell_type": "code",
   "execution_count": 14,
   "outputs": [],
   "source": [
    "import symp_search\n",
    "colloq_df = symp_search.symptom_search(plm_colloq_df, colloq_data_symps)\n"
   ],
   "metadata": {
    "collapsed": false,
    "pycharm": {
     "name": "#%%\n"
    }
   }
  },
  {
   "cell_type": "code",
   "execution_count": 16,
   "outputs": [],
   "source": [
    "import symptom_tagging\n",
    "#df5 = symptom_tagging.tokenize_sentences(plm_colloq_df)\n",
    "df = symptom_tagging.tokenize_sentences(colloq_df)\n",
    "plm_peS_df_out= symptom_tagging.remove_duplicate_sentence_ids(df)\n"
   ],
   "metadata": {
    "collapsed": false,
    "pycharm": {
     "name": "#%%\n"
    }
   }
  },
  {
   "cell_type": "code",
   "execution_count": 17,
   "outputs": [
    {
     "data": {
      "text/plain": "       Sentence_ID       Words    Tag\n0      Sentence #1           I      O\n1                            '      O\n2                           ve      O\n3                          had      O\n4                            2      O\n...            ...         ...    ...\n14614                    other      O\n14615                    weird  B-SYM\n14616               sensations  I-SYM\n14617                    still      O\n14618                        .      O\n\n[14619 rows x 3 columns]",
      "text/html": "<div>\n<style scoped>\n    .dataframe tbody tr th:only-of-type {\n        vertical-align: middle;\n    }\n\n    .dataframe tbody tr th {\n        vertical-align: top;\n    }\n\n    .dataframe thead th {\n        text-align: right;\n    }\n</style>\n<table border=\"1\" class=\"dataframe\">\n  <thead>\n    <tr style=\"text-align: right;\">\n      <th></th>\n      <th>Sentence_ID</th>\n      <th>Words</th>\n      <th>Tag</th>\n    </tr>\n  </thead>\n  <tbody>\n    <tr>\n      <th>0</th>\n      <td>Sentence #1</td>\n      <td>I</td>\n      <td>O</td>\n    </tr>\n    <tr>\n      <th>1</th>\n      <td></td>\n      <td>'</td>\n      <td>O</td>\n    </tr>\n    <tr>\n      <th>2</th>\n      <td></td>\n      <td>ve</td>\n      <td>O</td>\n    </tr>\n    <tr>\n      <th>3</th>\n      <td></td>\n      <td>had</td>\n      <td>O</td>\n    </tr>\n    <tr>\n      <th>4</th>\n      <td></td>\n      <td>2</td>\n      <td>O</td>\n    </tr>\n    <tr>\n      <th>...</th>\n      <td>...</td>\n      <td>...</td>\n      <td>...</td>\n    </tr>\n    <tr>\n      <th>14614</th>\n      <td></td>\n      <td>other</td>\n      <td>O</td>\n    </tr>\n    <tr>\n      <th>14615</th>\n      <td></td>\n      <td>weird</td>\n      <td>B-SYM</td>\n    </tr>\n    <tr>\n      <th>14616</th>\n      <td></td>\n      <td>sensations</td>\n      <td>I-SYM</td>\n    </tr>\n    <tr>\n      <th>14617</th>\n      <td></td>\n      <td>still</td>\n      <td>O</td>\n    </tr>\n    <tr>\n      <th>14618</th>\n      <td></td>\n      <td>.</td>\n      <td>O</td>\n    </tr>\n  </tbody>\n</table>\n<p>14619 rows × 3 columns</p>\n</div>"
     },
     "execution_count": 17,
     "metadata": {},
     "output_type": "execute_result"
    }
   ],
   "source": [
    "plm_peS_df_out"
   ],
   "metadata": {
    "collapsed": false,
    "pycharm": {
     "name": "#%%\n"
    }
   }
  },
  {
   "cell_type": "code",
   "execution_count": null,
   "outputs": [],
   "source": [
    "plm_peS_df_out.to_csv('/Users/elif/Desktop/Existing_Colloquial_data_prior_Nov5.csv', index = False, encoding= 'utf-8')\n",
    "\n"
   ],
   "metadata": {
    "collapsed": false,
    "pycharm": {
     "name": "#%%\n"
    }
   }
  }
 ],
 "metadata": {
  "kernelspec": {
   "name": "pycharm-23a65bbf",
   "language": "python",
   "display_name": "PyCharm (Covid19)"
  },
  "language_info": {
   "codemirror_mode": {
    "name": "ipython",
    "version": 2
   },
   "file_extension": ".py",
   "mimetype": "text/x-python",
   "name": "python",
   "nbconvert_exporter": "python",
   "pygments_lexer": "ipython2",
   "version": "2.7.6"
  }
 },
 "nbformat": 4,
 "nbformat_minor": 0
}