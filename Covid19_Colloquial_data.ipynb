{
 "cells": [
  {
   "cell_type": "markdown",
   "metadata": {
    "collapsed": true,
    "pycharm": {
     "name": "#%% md\n"
    }
   },
   "source": [
    "## Working with Colloquial datasets\n",
    "\n",
    "Read in the existing 2 data sets and analyze the number of symptoms on each papaer and create a one merged list of symptoms from both data sets."
   ]
  },
  {
   "cell_type": "code",
   "execution_count": 8,
   "outputs": [],
   "source": [
    "import pandas as pd\n",
    "import numpy as np\n",
    "import xlrd\n",
    "import operator\n",
    "from collections import Counter"
   ],
   "metadata": {
    "collapsed": false,
    "pycharm": {
     "name": "#%%\n"
    }
   }
  },
  {
   "cell_type": "code",
   "execution_count": 2,
   "outputs": [],
   "source": [
    "#Patient Site data\n",
    "paSi_df = pd.read_excel('/Users/elif/Downloads/OneDrive_1_10-29-2020/patient-site_lableled.xlsx', sheet_name='in', usecols=\"A,B,C\")\n",
    "#Patience like me site data\n",
    "plm_df = pd.read_excel('/Users/elif/Downloads/OneDrive_1_10-29-2020/plm_dataset_labeled.xlsx', sheet_name='plm_dataset', usecols=\"A,B,C\")"
   ],
   "metadata": {
    "collapsed": false,
    "pycharm": {
     "name": "#%%\n"
    }
   }
  },
  {
   "cell_type": "code",
   "execution_count": 19,
   "outputs": [
    {
     "data": {
      "text/plain": "      Sentence  Words    Tag\n0  Sentence #1      I      O\n1          NaN      '      O\n2          NaN     ve      O\n3          NaN    had      O\n4          NaN  Covid  B-DIS",
      "text/html": "<div>\n<style scoped>\n    .dataframe tbody tr th:only-of-type {\n        vertical-align: middle;\n    }\n\n    .dataframe tbody tr th {\n        vertical-align: top;\n    }\n\n    .dataframe thead th {\n        text-align: right;\n    }\n</style>\n<table border=\"1\" class=\"dataframe\">\n  <thead>\n    <tr style=\"text-align: right;\">\n      <th></th>\n      <th>Sentence</th>\n      <th>Words</th>\n      <th>Tag</th>\n    </tr>\n  </thead>\n  <tbody>\n    <tr>\n      <th>0</th>\n      <td>Sentence #1</td>\n      <td>I</td>\n      <td>O</td>\n    </tr>\n    <tr>\n      <th>1</th>\n      <td>NaN</td>\n      <td>'</td>\n      <td>O</td>\n    </tr>\n    <tr>\n      <th>2</th>\n      <td>NaN</td>\n      <td>ve</td>\n      <td>O</td>\n    </tr>\n    <tr>\n      <th>3</th>\n      <td>NaN</td>\n      <td>had</td>\n      <td>O</td>\n    </tr>\n    <tr>\n      <th>4</th>\n      <td>NaN</td>\n      <td>Covid</td>\n      <td>B-DIS</td>\n    </tr>\n  </tbody>\n</table>\n</div>"
     },
     "execution_count": 19,
     "metadata": {},
     "output_type": "execute_result"
    }
   ],
   "source": [
    "#Combine both colloquial dataframes into one\n",
    "combined_colloquial_df = pd.concat([paSi_df,plm_df],ignore_index=True)"
   ],
   "metadata": {
    "collapsed": false,
    "pycharm": {
     "name": "#%%\n"
    }
   }
  },
  {
   "cell_type": "markdown",
   "source": [
    "Use colloq_data_symp_count module to get a dictionary of all the marked symptoms and their counts of how many times they appear in the  tagged dataframe"
   ],
   "metadata": {
    "collapsed": false,
    "pycharm": {
     "name": "#%% md\n"
    }
   }
  },
  {
   "cell_type": "code",
   "execution_count": 4,
   "outputs": [
    {
     "data": {
      "text/plain": "{'relapse': 1,\n 'anxiety': 3,\n 'fatigued': 1,\n 'wanting to sleep': 1,\n 'weird pressure around my head': 1,\n 'feels like': 1,\n 'pressure around my head and temples and even underneath my jaw and above my nose bridge': 1,\n 'water in my ear': 1,\n 'tension headache': 1,\n 'head hurts': 1,\n 'constant pressure all around rather than pain': 1,\n 'pressure in your head': 1,\n 'head rarely hurts': 1,\n 'brain inflammation': 1,\n 'headache': 6,\n 'coughing': 2,\n 'anxious': 1,\n 'breath a little better': 1,\n 'no fever': 1,\n 'no chills': 1,\n 'slight cough': 2,\n 'cough': 11,\n 'oxygen levels were good': 1,\n 'i was stable': 1,\n 'i was released': 1,\n 'helped me with my breathing': 1,\n 'helps breathing': 1,\n 'suffering from shortness of breath': 1,\n 'breathing gets better': 1,\n 'very difficult time breathing': 1,\n 'choking cough': 1,\n 'super weak': 1,\n 'could not breathe': 1,\n 'collapsed': 1,\n 'totally exhausts': 1,\n 'drop my oxygen sat rates': 1,\n 'fatigues': 1,\n 'weak': 1,\n 'short of breath': 1,\n 'got so weak': 1,\n 'lower immune status': 1,\n 'malaise': 1,\n 'extreme fatigue': 4,\n 'loss of smell': 2,\n 'poor cognitive thinking': 1,\n 'shortness of breath': 3,\n 'cough is still present and exhausting': 1,\n 'sense of smell has returned': 2,\n 'thinking is still slow': 1,\n 'headaches': 4,\n 'fatigue': 6,\n 'cognitive thinking was all but gone': 1,\n 'breathing is still stressed': 1,\n 'thinking and reaction is still slow': 1,\n 'energy level is almost 0': 1,\n 'teeth have also suffered': 1,\n 'sore throat': 3,\n 'body aches and chills': 1,\n 'aches were very painful': 1,\n 'every joint in my body hurt': 1,\n 'able to smell': 1,\n 'annoying headache': 1,\n 'not being able to smell': 1,\n 'exhausting cough': 1,\n 'tired': 2,\n 'feel very alone': 1,\n 'shortness': 3,\n 'throat': 2,\n 'never had much trouble in the way of breathing': 1,\n 'chills': 1,\n 'fevers': 1,\n 'bad body aches no congestion': 1,\n 'feeling the shivers': 1,\n 'sour stomach feeling': 1,\n 'coughing is exhausting': 1,\n 'struggling with coughing': 1,\n 'exhaustion': 2,\n 'breathing is difficult': 1,\n 'body temperature has not been above 9 7': 1,\n 'burning hot': 1,\n 'temperature not leveled back out little nervous': 1,\n 'dry cough': 2,\n 'heaviness in my chest': 1,\n 'fever': 1,\n 'slight headache': 1,\n 'little but heaviness in my left lung': 1,\n 'prolonged cough': 1,\n 'gi discomfort': 1,\n 'pressure in my chest': 1,\n 'nervous': 1,\n 'collapsed lung': 1,\n 'cough up': 1,\n 'help with the breathing': 1,\n 'it sort of \" came back \"': 1,\n 'started to cough': 1,\n 'caused some inflammation': 1,\n 'cant breathe': 1,\n 'causing an infection in my chest': 1,\n 'bunged up feeling in my head': 1,\n 'strange mild burning sensation in the top of my chest': 1,\n 'incredibly dry mouth': 1,\n 'incredibly dry throat': 1,\n 'odd taste in my mouth': 1,\n 'burning sensation': 2,\n 'incredibly anxious': 1,\n 'dyspepsia': 1,\n 'rumbling stomach': 1,\n 'burning sensation at the top of my stomach': 1,\n 'burning sensation to the sides of the lower back': 1,\n 'mild burning sensation': 1,\n 'high temperatures': 1,\n 'elevated temperature': 1,\n 'dry cough difficulty breathing': 1,\n 'infection': 2,\n 'woke up with a temperature': 1,\n 'flu': 1,\n 'anxiety attack': 1,\n 'stress': 1,\n 'coughs': 1,\n 'sneezes': 1,\n 'sneeze': 1,\n 'stomach up set': 1,\n 'sweats': 1,\n 'chest is still heavy': 1,\n 'weakness': 1,\n 'joint pain': 1,\n 'needing more sleep': 1,\n 'mild headache': 1,\n 'running nose': 1,\n 'some coughing': 1,\n 'body ache': 1,\n 'aches': 1,\n 'sneezing': 1,\n 'upset stomach': 1,\n 'night sweats': 1,\n 'thirsty': 1,\n 'lost my breath': 1,\n 'head was hurting': 1,\n 'entire body became hot': 1,\n 'threw up': 1,\n 'mild sore throat': 1,\n 'sore throat lozenges': 1,\n 'breathing problems': 1,\n 'sleep apnea': 1,\n 'respiratory failure': 1,\n 'weird sensations': 1}"
     },
     "execution_count": 4,
     "metadata": {},
     "output_type": "execute_result"
    }
   ],
   "source": [
    "import Colloq_data_symp_count as coll_count\n",
    "plm_sym_dict = coll_count.symAndCount(plm_df)\n",
    "paSi_sym_dict = coll_count.symAndCount(paSi_df)"
   ],
   "metadata": {
    "collapsed": false,
    "pycharm": {
     "name": "#%%\n"
    }
   }
  },
  {
   "cell_type": "markdown",
   "source": [
    "Full dictionary of symptoms collected from both tagged data files that are from Jul, 2020."
   ],
   "metadata": {
    "collapsed": false,
    "pycharm": {
     "name": "#%% md\n"
    }
   }
  },
  {
   "cell_type": "code",
   "execution_count": 5,
   "outputs": [],
   "source": [
    "new_dict = dict(Counter(plm_sym_dict) + Counter(paSi_sym_dict))\n",
    "#Sort the dictionary of symptoms along with their value counts\n",
    "\n",
    "sorted_d = dict( sorted(new_dict.items(), key=operator.itemgetter(1),reverse=True))\n",
    "# sorted_d\n"
   ],
   "metadata": {
    "collapsed": false,
    "pycharm": {
     "name": "#%%\n"
    }
   }
  },
  {
   "cell_type": "markdown",
   "source": [
    "Create a dataframe of the symptoms and their counts as well as a full list of symptoms that are collected from both colloquial datasets."
   ],
   "metadata": {
    "collapsed": false
   }
  },
  {
   "cell_type": "code",
   "execution_count": 15,
   "outputs": [],
   "source": [
    "#Create a data frame for combined symptoms and how many times they appear in both colloquial tagged data\n",
    "df_sym_freq = pd.DataFrame(list((dict(new_dict)).items()), columns = ['Symptom', 'Frequency'])\n",
    "\n",
    "#Output the combined symptoms from both colloquial datasets\n",
    "df_sym_freq.to_csv('sym_freq.csv',index=False)\n",
    "\n",
    "#List of symptoms from colloquial datasets\n",
    "colloq_data_symps = list((dict(new_dict)).keys())"
   ],
   "metadata": {
    "collapsed": false,
    "pycharm": {
     "name": "#%%\n"
    }
   }
  },
  {
   "cell_type": "code",
   "execution_count": null,
   "outputs": [],
   "source": [
    "#Wordcloud of symptoms\n",
    "\n",
    "# wc = WordCloud(background_color = \"black\", width = 1000, height= 1000).generate_from_frequencies(new_dict)\n",
    "# fig = plt.figure(figsize = (15,15))\n",
    "# plt.imshow(wc, interpolation = \"bilinear\")\n",
    "# plt.axis(\"off\")\n",
    "# plt.show()"
   ],
   "metadata": {
    "collapsed": false,
    "pycharm": {
     "name": "#%%\n"
    }
   }
  },
  {
   "cell_type": "code",
   "execution_count": 13,
   "outputs": [
    {
     "data": {
      "text/plain": "             Frequency\nSymptom               \ncough               41\nfever               32\nsore throat         16\nfatigue             15\nheadache            15",
      "text/html": "<div>\n<style scoped>\n    .dataframe tbody tr th:only-of-type {\n        vertical-align: middle;\n    }\n\n    .dataframe tbody tr th {\n        vertical-align: top;\n    }\n\n    .dataframe thead th {\n        text-align: right;\n    }\n</style>\n<table border=\"1\" class=\"dataframe\">\n  <thead>\n    <tr style=\"text-align: right;\">\n      <th></th>\n      <th>Frequency</th>\n    </tr>\n    <tr>\n      <th>Symptom</th>\n      <th></th>\n    </tr>\n  </thead>\n  <tbody>\n    <tr>\n      <th>cough</th>\n      <td>41</td>\n    </tr>\n    <tr>\n      <th>fever</th>\n      <td>32</td>\n    </tr>\n    <tr>\n      <th>sore throat</th>\n      <td>16</td>\n    </tr>\n    <tr>\n      <th>fatigue</th>\n      <td>15</td>\n    </tr>\n    <tr>\n      <th>headache</th>\n      <td>15</td>\n    </tr>\n  </tbody>\n</table>\n</div>"
     },
     "execution_count": 13,
     "metadata": {},
     "output_type": "execute_result"
    }
   ],
   "source": [
    "df_sym_freq.groupby('Symptom').sum().sort_values(['Frequency'],ascending=False).head()"
   ],
   "metadata": {
    "collapsed": false,
    "pycharm": {
     "name": "#%%\n"
    }
   }
  },
  {
   "cell_type": "code",
   "execution_count": 14,
   "outputs": [
    {
     "name": "stdout",
     "output_type": "stream",
     "text": [
      "Total number of symptoms retrived from both data sets is: 400\n"
     ]
    }
   ],
   "source": [
    "# colloq_data_symps\n",
    "print('Total number of symptoms retrived from both data sets is:', len(colloq_data_symps))\n"
   ],
   "metadata": {
    "collapsed": false,
    "pycharm": {
     "name": "#%%\n"
    }
   }
  },
  {
   "cell_type": "markdown",
   "source": [
    "### Create a version of the COLL-DATA that only contains *sentences* with symptom terms"
   ],
   "metadata": {
    "collapsed": false,
    "pycharm": {
     "name": "#%% md\n"
    }
   }
  },
  {
   "cell_type": "code",
   "execution_count": 17,
   "outputs": [],
   "source": [
    "import colloq_tagged_data_processing as coll_process"
   ],
   "metadata": {
    "collapsed": false,
    "pycharm": {
     "name": "#%%\n"
    }
   }
  },
  {
   "cell_type": "markdown",
   "source": [
    "sent_value, colloquial_df = coll_process.colloquial_data_processing(combined_colloquial_df, colloq_data_symps)"
   ],
   "metadata": {
    "collapsed": false
   }
  },
  {
   "cell_type": "code",
   "execution_count": 21,
   "outputs": [
    {
     "name": "stdout",
     "output_type": "stream",
     "text": [
      "Total number of sentences in this file is: 531\n",
      "Number of sentences that include any of the provided symptoms is: 168\n",
      "Number of sentences that do NOT include any of the provided symptoms is: 363\n"
     ]
    }
   ],
   "source": [
    "def colloqual_df_info(sent, df):\n",
    "    print('Total number of sentences in this file is:', len(sent))\n",
    "    print('Number of sentences that include any of the provided symptoms is:', len(df))\n",
    "    print('Number of sentences that do NOT include any of the provided symptoms is:', (len(sent) - len(df)))\n",
    "\n",
    "colloqual_df_info(sent_value, colloquial_df)"
   ],
   "metadata": {
    "collapsed": false,
    "pycharm": {
     "name": "#%%\n"
    }
   }
  },
  {
   "cell_type": "code",
   "execution_count": 21,
   "outputs": [],
   "source": [],
   "metadata": {
    "collapsed": false,
    "pycharm": {
     "name": "#%%\n"
    }
   }
  },
  {
   "cell_type": "code",
   "execution_count": null,
   "outputs": [],
   "source": [],
   "metadata": {
    "collapsed": false,
    "pycharm": {
     "name": "#%%\n"
    }
   }
  }
 ],
 "metadata": {
  "kernelspec": {
   "name": "pycharm-23a65bbf",
   "language": "python",
   "display_name": "PyCharm (Covid19)"
  },
  "language_info": {
   "codemirror_mode": {
    "name": "ipython",
    "version": 2
   },
   "file_extension": ".py",
   "mimetype": "text/x-python",
   "name": "python",
   "nbconvert_exporter": "python",
   "pygments_lexer": "ipython2",
   "version": "2.7.6"
  }
 },
 "nbformat": 4,
 "nbformat_minor": 0
}