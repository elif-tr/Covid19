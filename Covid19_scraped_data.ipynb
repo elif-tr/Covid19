{
 "cells": [
  {
   "cell_type": "markdown",
   "metadata": {
    "collapsed": true,
    "pycharm": {
     "name": "#%% md\n"
    }
   },
   "source": [
    "## Scraped Data from the sites\n",
    "\n",
    "    Created one csv file where all the text data from both sites is stored\n",
    "    Loaded the csv file to select the sentences that include symptoms\n",
    "    Output the tagged file for symptoms"
   ]
  },
  {
   "cell_type": "code",
   "execution_count": 1,
   "outputs": [],
   "source": [
    "import pandas as pd\n",
    "scraped_data = pd.read_csv('/Users/elif/Downloads/combined_csv-4.csv')\n"
   ],
   "metadata": {
    "collapsed": false,
    "pycharm": {
     "name": "#%%\n"
    }
   }
  },
  {
   "cell_type": "markdown",
   "source": [
    "Use `df_symptom_count` module to have the count of symptoms on this dataset.\n",
    "I created a merged symptom list that contains the symptoms that were taken from Kaggle as well as\n",
    "the ones we extracted from the tagged colloquial datasets. Merged symptom list is used on this file.\n",
    "\n",
    "`combined_symptoms_list` module contains all the symptoms: ones gathered from online searching and Kaggle as well as the ones retrieved from tagged data sets."
   ],
   "metadata": {
    "collapsed": false,
    "pycharm": {
     "name": "#%% md\n"
    }
   }
  },
  {
   "cell_type": "code",
   "execution_count": 2,
   "outputs": [
    {
     "data": {
      "text/plain": "                                   Counts\nSymptoms                                 \nsymptoms                              146\nfeeling                                63\ncough                                  49\nbreath                                 49\ntaste                                  42\n...                                   ...\nlung issues                             1\nfeeling lungs are clogged up            1\npressure in my chest                    1\npins and needles in my hands            1\nweird stuff showing up on my skin       1\n\n[174 rows x 1 columns]",
      "text/html": "<div>\n<style scoped>\n    .dataframe tbody tr th:only-of-type {\n        vertical-align: middle;\n    }\n\n    .dataframe tbody tr th {\n        vertical-align: top;\n    }\n\n    .dataframe thead th {\n        text-align: right;\n    }\n</style>\n<table border=\"1\" class=\"dataframe\">\n  <thead>\n    <tr style=\"text-align: right;\">\n      <th></th>\n      <th>Counts</th>\n    </tr>\n    <tr>\n      <th>Symptoms</th>\n      <th></th>\n    </tr>\n  </thead>\n  <tbody>\n    <tr>\n      <th>symptoms</th>\n      <td>146</td>\n    </tr>\n    <tr>\n      <th>feeling</th>\n      <td>63</td>\n    </tr>\n    <tr>\n      <th>cough</th>\n      <td>49</td>\n    </tr>\n    <tr>\n      <th>breath</th>\n      <td>49</td>\n    </tr>\n    <tr>\n      <th>taste</th>\n      <td>42</td>\n    </tr>\n    <tr>\n      <th>...</th>\n      <td>...</td>\n    </tr>\n    <tr>\n      <th>lung issues</th>\n      <td>1</td>\n    </tr>\n    <tr>\n      <th>feeling lungs are clogged up</th>\n      <td>1</td>\n    </tr>\n    <tr>\n      <th>pressure in my chest</th>\n      <td>1</td>\n    </tr>\n    <tr>\n      <th>pins and needles in my hands</th>\n      <td>1</td>\n    </tr>\n    <tr>\n      <th>weird stuff showing up on my skin</th>\n      <td>1</td>\n    </tr>\n  </tbody>\n</table>\n<p>174 rows × 1 columns</p>\n</div>"
     },
     "execution_count": 2,
     "metadata": {},
     "output_type": "execute_result"
    }
   ],
   "source": [
    "import combined_symptoms_list\n",
    "import df_symptom_count\n",
    "\n",
    "df_symptom_count.symptoms_df(scraped_data, combined_symptoms_list.combined_symptoms)"
   ],
   "metadata": {
    "collapsed": false,
    "pycharm": {
     "name": "#%%\n"
    }
   }
  },
  {
   "cell_type": "markdown",
   "source": [
    "We see that 174 of the symptoms appear in the new scraped file from our merged list of symptoms.\n",
    "\n",
    "The combined list of symptoms include 609 symptoms in total.\n"
   ],
   "metadata": {
    "collapsed": false,
    "pycharm": {
     "name": "#%% md\n"
    }
   }
  },
  {
   "cell_type": "code",
   "execution_count": 3,
   "outputs": [
    {
     "data": {
      "text/plain": "609"
     },
     "execution_count": 3,
     "metadata": {},
     "output_type": "execute_result"
    }
   ],
   "source": [
    "len(combined_symptoms_list.combined_symptoms)\n"
   ],
   "metadata": {
    "collapsed": false,
    "pycharm": {
     "name": "#%%\n"
    }
   }
  },
  {
   "cell_type": "markdown",
   "source": [
    "### Double checking that the sentences in the scraped csv file only contain one sentence per row\n",
    "\n",
    "The `scraped_data` csv file is a merged version of some 50+ individual csv files.\n",
    "The reason for this is that when we scrape the information from the sites using Agenty scraping tool,\n",
    "It is only able to save one page information at a time thus we had to save all different comments retrieved from different pages into different csv files.\n",
    "At the end we merged them into one csv file but for the benefit of our model, we will go over those sentence one more time to make sure there is only one sentence per row.\n"
   ],
   "metadata": {
    "collapsed": false,
    "pycharm": {
     "name": "#%% md\n"
    }
   }
  },
  {
   "cell_type": "code",
   "execution_count": 4,
   "outputs": [
    {
     "name": "stdout",
     "output_type": "stream",
     "text": [
      "Number of sentences retrieved from the sites for the past 3 months is:  1292\n"
     ]
    }
   ],
   "source": [
    "#Make sure there is only one sentence per row\n",
    "import re\n",
    "sentences = []\n",
    "sentence_pattern = r'(?<=[^A-Z].[.?]) +(?=[A-Z])'\n",
    "for row in scraped_data.itertuples():\n",
    "    for sentence in re.split(sentence_pattern, row[1]):\n",
    "        sentences.append((row[0], sentence))\n",
    "\n",
    "\n",
    "collo_df_new = pd.DataFrame(sentences, columns=['Index','Sentence'])\n",
    "\n",
    "collo_df_new.drop('Index', axis = 1, inplace = True)\n",
    "print('Number of sentences retrieved from the sites for the past 3 months is: ', len(collo_df_new))\n",
    "\n"
   ],
   "metadata": {
    "collapsed": false,
    "pycharm": {
     "name": "#%%\n"
    }
   }
  },
  {
   "cell_type": "code",
   "execution_count": 5,
   "outputs": [
    {
     "name": "stdout",
     "output_type": "stream",
     "text": [
      "Of those sentences  474 of them include any of the symptoms\n"
     ]
    }
   ],
   "source": [
    "import split_text\n",
    "colloquial_new_data = split_text.sentence_w_symptoms(collo_df_new, combined_symptoms_list.combined_symptoms)\n",
    "print('Of those sentences ', len(colloquial_new_data), 'of them include any of the symptoms')\n"
   ],
   "metadata": {
    "collapsed": false,
    "pycharm": {
     "name": "#%%\n"
    }
   }
  },
  {
   "cell_type": "code",
   "execution_count": 6,
   "outputs": [],
   "source": [
    "import symp_search\n",
    "import symptom_tagging\n",
    "df5 = symp_search.symptom_search(colloquial_new_data, combined_symptoms_list.combined_symptoms)\n",
    "\n",
    "df6 = symptom_tagging.tokenize_sentences(df5)\n",
    "tagged_scraped_data = symptom_tagging.remove_duplicate_sentence_ids(df6)"
   ],
   "metadata": {
    "collapsed": false,
    "pycharm": {
     "name": "#%%\n"
    }
   }
  },
  {
   "cell_type": "code",
   "execution_count": 7,
   "outputs": [
    {
     "data": {
      "text/plain": "       Sentence_ID         Words Tag\n0      Sentence #1            So   O\n1                              I   O\n2                             'm   O\n3                   experiencing   O\n4                              a   O\n...            ...           ...  ..\n12223                       else   O\n12224                        had   O\n12225                       that   O\n12226                     happen   O\n12227                          ?   O\n\n[12228 rows x 3 columns]",
      "text/html": "<div>\n<style scoped>\n    .dataframe tbody tr th:only-of-type {\n        vertical-align: middle;\n    }\n\n    .dataframe tbody tr th {\n        vertical-align: top;\n    }\n\n    .dataframe thead th {\n        text-align: right;\n    }\n</style>\n<table border=\"1\" class=\"dataframe\">\n  <thead>\n    <tr style=\"text-align: right;\">\n      <th></th>\n      <th>Sentence_ID</th>\n      <th>Words</th>\n      <th>Tag</th>\n    </tr>\n  </thead>\n  <tbody>\n    <tr>\n      <th>0</th>\n      <td>Sentence #1</td>\n      <td>So</td>\n      <td>O</td>\n    </tr>\n    <tr>\n      <th>1</th>\n      <td></td>\n      <td>I</td>\n      <td>O</td>\n    </tr>\n    <tr>\n      <th>2</th>\n      <td></td>\n      <td>'m</td>\n      <td>O</td>\n    </tr>\n    <tr>\n      <th>3</th>\n      <td></td>\n      <td>experiencing</td>\n      <td>O</td>\n    </tr>\n    <tr>\n      <th>4</th>\n      <td></td>\n      <td>a</td>\n      <td>O</td>\n    </tr>\n    <tr>\n      <th>...</th>\n      <td>...</td>\n      <td>...</td>\n      <td>...</td>\n    </tr>\n    <tr>\n      <th>12223</th>\n      <td></td>\n      <td>else</td>\n      <td>O</td>\n    </tr>\n    <tr>\n      <th>12224</th>\n      <td></td>\n      <td>had</td>\n      <td>O</td>\n    </tr>\n    <tr>\n      <th>12225</th>\n      <td></td>\n      <td>that</td>\n      <td>O</td>\n    </tr>\n    <tr>\n      <th>12226</th>\n      <td></td>\n      <td>happen</td>\n      <td>O</td>\n    </tr>\n    <tr>\n      <th>12227</th>\n      <td></td>\n      <td>?</td>\n      <td>O</td>\n    </tr>\n  </tbody>\n</table>\n<p>12228 rows × 3 columns</p>\n</div>"
     },
     "execution_count": 7,
     "metadata": {},
     "output_type": "execute_result"
    }
   ],
   "source": [
    "tagged_scraped_data"
   ],
   "metadata": {
    "collapsed": false,
    "pycharm": {
     "name": "#%%\n"
    }
   }
  },
  {
   "cell_type": "code",
   "execution_count": 8,
   "outputs": [],
   "source": [
    "#Save the tagged file in csv\n",
    "tagged_scraped_data.to_csv('/Users/elif/Desktop/New_Colloquial_data_Nov5.csv', index = False, encoding= 'utf-8')\n"
   ],
   "metadata": {
    "collapsed": false,
    "pycharm": {
     "name": "#%%\n"
    }
   }
  },
  {
   "cell_type": "markdown",
   "source": [
    "## Things to address - Nov 6 Meeting\n",
    "\n",
    "    - Changed the way we split sentences into one sentence per row format, thus, we now have a different testing set for the MAY papers which is saved in MAX&ELIF folder\n",
    "\n",
    "    - The existing tagged colloquial data sets were split in a different fashion thus the quality of it might be different that the other files - such as the split of I've or numbers split in different cells\n",
    "\n",
    "    - There were not many posts on those 2 sites that were covid related as they had many posts about just updates on recent changes in the vaccine process\n",
    "\n",
    "    - Scraped data was saved in different csv files and we merged them into one csv file to capture all the information\n",
    "\n",
    "    - Some of the posts on the site had the edit date as - 2 weeks or months - but some of the comments dated back to 4-5 months ago so not sure about what part of that post is actually recently edited\n",
    "\n",
    "    - The sites do not have acrtual time stamps on the posts thus, I went back 3 months to collect all the information that we have right now.\n",
    "\n",
    "\n"
   ],
   "metadata": {
    "collapsed": false,
    "pycharm": {
     "name": "#%% md\n"
    }
   }
  }
 ],
 "metadata": {
  "kernelspec": {
   "display_name": "Python 3",
   "language": "python",
   "name": "python3"
  },
  "language_info": {
   "codemirror_mode": {
    "name": "ipython",
    "version": 2
   },
   "file_extension": ".py",
   "mimetype": "text/x-python",
   "name": "python",
   "nbconvert_exporter": "python",
   "pygments_lexer": "ipython2",
   "version": "2.7.6"
  }
 },
 "nbformat": 4,
 "nbformat_minor": 0
}